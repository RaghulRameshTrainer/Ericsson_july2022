{
 "cells": [
  {
   "cell_type": "code",
   "execution_count": 1,
   "id": "2dcfae8a",
   "metadata": {},
   "outputs": [],
   "source": [
    "import pandas as pd"
   ]
  },
  {
   "cell_type": "code",
   "execution_count": 2,
   "id": "0a6d8787",
   "metadata": {},
   "outputs": [],
   "source": [
    "df=pd.read_csv(r'C:\\Users\\RaghulRamesh\\Downloads\\companytest.csv')"
   ]
  },
  {
   "cell_type": "code",
   "execution_count": 3,
   "id": "cc361bed",
   "metadata": {},
   "outputs": [
    {
     "data": {
      "text/plain": [
       "pandas.core.frame.DataFrame"
      ]
     },
     "execution_count": 3,
     "metadata": {},
     "output_type": "execute_result"
    }
   ],
   "source": [
    "type(df)"
   ]
  },
  {
   "cell_type": "code",
   "execution_count": 4,
   "id": "fed34e14",
   "metadata": {},
   "outputs": [
    {
     "data": {
      "text/html": [
       "<div>\n",
       "<style scoped>\n",
       "    .dataframe tbody tr th:only-of-type {\n",
       "        vertical-align: middle;\n",
       "    }\n",
       "\n",
       "    .dataframe tbody tr th {\n",
       "        vertical-align: top;\n",
       "    }\n",
       "\n",
       "    .dataframe thead th {\n",
       "        text-align: right;\n",
       "    }\n",
       "</style>\n",
       "<table border=\"1\" class=\"dataframe\">\n",
       "  <thead>\n",
       "    <tr style=\"text-align: right;\">\n",
       "      <th></th>\n",
       "      <th>Company</th>\n",
       "      <th>Age</th>\n",
       "      <th>Salary</th>\n",
       "    </tr>\n",
       "  </thead>\n",
       "  <tbody>\n",
       "    <tr>\n",
       "      <th>0</th>\n",
       "      <td>Infosys'</td>\n",
       "      <td>20.0</td>\n",
       "      <td>NaN</td>\n",
       "    </tr>\n",
       "    <tr>\n",
       "      <th>1</th>\n",
       "      <td>CTS</td>\n",
       "      <td>30.0</td>\n",
       "      <td>NaN</td>\n",
       "    </tr>\n",
       "    <tr>\n",
       "      <th>2</th>\n",
       "      <td>Infosys'</td>\n",
       "      <td>35.0</td>\n",
       "      <td>2300.0</td>\n",
       "    </tr>\n",
       "    <tr>\n",
       "      <th>3</th>\n",
       "      <td>CTS</td>\n",
       "      <td>40.0</td>\n",
       "      <td>3000.0</td>\n",
       "    </tr>\n",
       "    <tr>\n",
       "      <th>4</th>\n",
       "      <td>Infosys</td>\n",
       "      <td>23.0</td>\n",
       "      <td>4000.0</td>\n",
       "    </tr>\n",
       "    <tr>\n",
       "      <th>5</th>\n",
       "      <td>CTS</td>\n",
       "      <td>NaN</td>\n",
       "      <td>5000.0</td>\n",
       "    </tr>\n",
       "    <tr>\n",
       "      <th>6</th>\n",
       "      <td>Infosys</td>\n",
       "      <td>NaN</td>\n",
       "      <td>6000.0</td>\n",
       "    </tr>\n",
       "    <tr>\n",
       "      <th>7</th>\n",
       "      <td>CTS'</td>\n",
       "      <td>23.0</td>\n",
       "      <td>7000.0</td>\n",
       "    </tr>\n",
       "    <tr>\n",
       "      <th>8</th>\n",
       "      <td>Infosys</td>\n",
       "      <td>34.0</td>\n",
       "      <td>8000.0</td>\n",
       "    </tr>\n",
       "    <tr>\n",
       "      <th>9</th>\n",
       "      <td>TCS</td>\n",
       "      <td>45.0</td>\n",
       "      <td>9000.0</td>\n",
       "    </tr>\n",
       "  </tbody>\n",
       "</table>\n",
       "</div>"
      ],
      "text/plain": [
       "    Company   Age  Salary\n",
       "0  Infosys'  20.0     NaN\n",
       "1       CTS  30.0     NaN\n",
       "2  Infosys'  35.0  2300.0\n",
       "3       CTS  40.0  3000.0\n",
       "4   Infosys  23.0  4000.0\n",
       "5       CTS   NaN  5000.0\n",
       "6   Infosys   NaN  6000.0\n",
       "7      CTS'  23.0  7000.0\n",
       "8   Infosys  34.0  8000.0\n",
       "9       TCS  45.0  9000.0"
      ]
     },
     "execution_count": 4,
     "metadata": {},
     "output_type": "execute_result"
    }
   ],
   "source": [
    "df.head(10)"
   ]
  },
  {
   "cell_type": "code",
   "execution_count": 5,
   "id": "2dd939cf",
   "metadata": {},
   "outputs": [
    {
     "data": {
      "text/html": [
       "<div>\n",
       "<style scoped>\n",
       "    .dataframe tbody tr th:only-of-type {\n",
       "        vertical-align: middle;\n",
       "    }\n",
       "\n",
       "    .dataframe tbody tr th {\n",
       "        vertical-align: top;\n",
       "    }\n",
       "\n",
       "    .dataframe thead th {\n",
       "        text-align: right;\n",
       "    }\n",
       "</style>\n",
       "<table border=\"1\" class=\"dataframe\">\n",
       "  <thead>\n",
       "    <tr style=\"text-align: right;\">\n",
       "      <th></th>\n",
       "      <th>Company</th>\n",
       "      <th>Age</th>\n",
       "      <th>Salary</th>\n",
       "    </tr>\n",
       "  </thead>\n",
       "  <tbody>\n",
       "    <tr>\n",
       "      <th>25</th>\n",
       "      <td>CTS</td>\n",
       "      <td>23.0</td>\n",
       "      <td>8943.0</td>\n",
       "    </tr>\n",
       "    <tr>\n",
       "      <th>26</th>\n",
       "      <td>Infosys</td>\n",
       "      <td>34.0</td>\n",
       "      <td>8345.0</td>\n",
       "    </tr>\n",
       "    <tr>\n",
       "      <th>27</th>\n",
       "      <td>TCS</td>\n",
       "      <td>45.0</td>\n",
       "      <td>9284.0</td>\n",
       "    </tr>\n",
       "    <tr>\n",
       "      <th>28</th>\n",
       "      <td>TCS</td>\n",
       "      <td>23.0</td>\n",
       "      <td>NaN</td>\n",
       "    </tr>\n",
       "    <tr>\n",
       "      <th>29</th>\n",
       "      <td>TCS</td>\n",
       "      <td>35.0</td>\n",
       "      <td>2034.0</td>\n",
       "    </tr>\n",
       "  </tbody>\n",
       "</table>\n",
       "</div>"
      ],
      "text/plain": [
       "    Company   Age  Salary\n",
       "25      CTS  23.0  8943.0\n",
       "26  Infosys  34.0  8345.0\n",
       "27      TCS  45.0  9284.0\n",
       "28      TCS  23.0     NaN\n",
       "29      TCS  35.0  2034.0"
      ]
     },
     "execution_count": 5,
     "metadata": {},
     "output_type": "execute_result"
    }
   ],
   "source": [
    "df.tail()"
   ]
  },
  {
   "cell_type": "code",
   "execution_count": 6,
   "id": "534e4b0c",
   "metadata": {},
   "outputs": [
    {
     "data": {
      "text/plain": [
       "(30, 3)"
      ]
     },
     "execution_count": 6,
     "metadata": {},
     "output_type": "execute_result"
    }
   ],
   "source": [
    "df.shape"
   ]
  },
  {
   "cell_type": "code",
   "execution_count": 7,
   "id": "462294f2",
   "metadata": {},
   "outputs": [
    {
     "data": {
      "text/plain": [
       "Index(['Company', 'Age', 'Salary'], dtype='object')"
      ]
     },
     "execution_count": 7,
     "metadata": {},
     "output_type": "execute_result"
    }
   ],
   "source": [
    "df.columns"
   ]
  },
  {
   "cell_type": "code",
   "execution_count": 8,
   "id": "609984f0",
   "metadata": {},
   "outputs": [
    {
     "name": "stdout",
     "output_type": "stream",
     "text": [
      "<class 'pandas.core.frame.DataFrame'>\n",
      "RangeIndex: 30 entries, 0 to 29\n",
      "Data columns (total 3 columns):\n",
      " #   Column   Non-Null Count  Dtype  \n",
      "---  ------   --------------  -----  \n",
      " 0   Company  27 non-null     object \n",
      " 1   Age      26 non-null     float64\n",
      " 2   Salary   23 non-null     float64\n",
      "dtypes: float64(2), object(1)\n",
      "memory usage: 848.0+ bytes\n"
     ]
    }
   ],
   "source": [
    "df.info()"
   ]
  },
  {
   "cell_type": "code",
   "execution_count": 9,
   "id": "aeec0790",
   "metadata": {},
   "outputs": [
    {
     "data": {
      "text/plain": [
       "Company    3\n",
       "Age        4\n",
       "Salary     7\n",
       "dtype: int64"
      ]
     },
     "execution_count": 9,
     "metadata": {},
     "output_type": "execute_result"
    }
   ],
   "source": [
    "df.isnull().sum()"
   ]
  },
  {
   "cell_type": "code",
   "execution_count": 10,
   "id": "f7b8b6b5",
   "metadata": {},
   "outputs": [
    {
     "data": {
      "text/plain": [
       "(30, 3)"
      ]
     },
     "execution_count": 10,
     "metadata": {},
     "output_type": "execute_result"
    }
   ],
   "source": [
    "df.shape"
   ]
  },
  {
   "cell_type": "code",
   "execution_count": 11,
   "id": "ad501ea4",
   "metadata": {},
   "outputs": [
    {
     "data": {
      "text/plain": [
       "1"
      ]
     },
     "execution_count": 11,
     "metadata": {},
     "output_type": "execute_result"
    }
   ],
   "source": [
    "df.duplicated().sum()"
   ]
  },
  {
   "cell_type": "code",
   "execution_count": 12,
   "id": "c3fea8d2",
   "metadata": {},
   "outputs": [],
   "source": [
    "df.drop_duplicates(inplace=True)"
   ]
  },
  {
   "cell_type": "code",
   "execution_count": 13,
   "id": "f05a2a72",
   "metadata": {},
   "outputs": [
    {
     "data": {
      "text/plain": [
       "(29, 3)"
      ]
     },
     "execution_count": 13,
     "metadata": {},
     "output_type": "execute_result"
    }
   ],
   "source": [
    "df.shape"
   ]
  },
  {
   "cell_type": "code",
   "execution_count": 14,
   "id": "966bc7a9",
   "metadata": {},
   "outputs": [
    {
     "data": {
      "text/plain": [
       "Index(['Company', 'Age', 'Salary'], dtype='object')"
      ]
     },
     "execution_count": 14,
     "metadata": {},
     "output_type": "execute_result"
    }
   ],
   "source": [
    "df.columns"
   ]
  },
  {
   "cell_type": "code",
   "execution_count": 15,
   "id": "c20b51fc",
   "metadata": {},
   "outputs": [
    {
     "data": {
      "text/plain": [
       "array([\"Infosys'\", 'CTS', 'Infosys', \"CTS'\", 'TCS', nan], dtype=object)"
      ]
     },
     "execution_count": 15,
     "metadata": {},
     "output_type": "execute_result"
    }
   ],
   "source": [
    "df['Company'].unique()"
   ]
  },
  {
   "cell_type": "code",
   "execution_count": 16,
   "id": "09b842cb",
   "metadata": {},
   "outputs": [
    {
     "data": {
      "text/plain": [
       "CTS         8\n",
       "Infosys     8\n",
       "TCS         7\n",
       "Infosys'    2\n",
       "CTS'        1\n",
       "Name: Company, dtype: int64"
      ]
     },
     "execution_count": 16,
     "metadata": {},
     "output_type": "execute_result"
    }
   ],
   "source": [
    "df['Company'].value_counts()"
   ]
  },
  {
   "cell_type": "code",
   "execution_count": 17,
   "id": "b1770fab",
   "metadata": {},
   "outputs": [],
   "source": [
    "df['Company'].replace({\"Infosys'\":\"Infosys\", \"CTS'\":\"CTS\"}, inplace=True)"
   ]
  },
  {
   "cell_type": "code",
   "execution_count": 42,
   "id": "135dd767",
   "metadata": {},
   "outputs": [
    {
     "data": {
      "text/plain": [
       "Index(['Company', 'Age', 'Salary'], dtype='object')"
      ]
     },
     "execution_count": 42,
     "metadata": {},
     "output_type": "execute_result"
    }
   ],
   "source": [
    "df.columns"
   ]
  },
  {
   "cell_type": "code",
   "execution_count": 44,
   "id": "01175682",
   "metadata": {},
   "outputs": [
    {
     "data": {
      "text/html": [
       "<div>\n",
       "<style scoped>\n",
       "    .dataframe tbody tr th:only-of-type {\n",
       "        vertical-align: middle;\n",
       "    }\n",
       "\n",
       "    .dataframe tbody tr th {\n",
       "        vertical-align: top;\n",
       "    }\n",
       "\n",
       "    .dataframe thead th {\n",
       "        text-align: right;\n",
       "    }\n",
       "</style>\n",
       "<table border=\"1\" class=\"dataframe\">\n",
       "  <thead>\n",
       "    <tr style=\"text-align: right;\">\n",
       "      <th></th>\n",
       "      <th>Company</th>\n",
       "      <th>Age</th>\n",
       "      <th>Amount</th>\n",
       "    </tr>\n",
       "  </thead>\n",
       "  <tbody>\n",
       "    <tr>\n",
       "      <th>0</th>\n",
       "      <td>Infosys</td>\n",
       "      <td>20.00</td>\n",
       "      <td>4923.086957</td>\n",
       "    </tr>\n",
       "    <tr>\n",
       "      <th>1</th>\n",
       "      <td>CTS</td>\n",
       "      <td>30.00</td>\n",
       "      <td>4923.086957</td>\n",
       "    </tr>\n",
       "    <tr>\n",
       "      <th>2</th>\n",
       "      <td>Infosys</td>\n",
       "      <td>35.00</td>\n",
       "      <td>2300.000000</td>\n",
       "    </tr>\n",
       "    <tr>\n",
       "      <th>3</th>\n",
       "      <td>CTS</td>\n",
       "      <td>40.00</td>\n",
       "      <td>3000.000000</td>\n",
       "    </tr>\n",
       "    <tr>\n",
       "      <th>4</th>\n",
       "      <td>Infosys</td>\n",
       "      <td>23.00</td>\n",
       "      <td>4000.000000</td>\n",
       "    </tr>\n",
       "    <tr>\n",
       "      <th>5</th>\n",
       "      <td>CTS</td>\n",
       "      <td>31.56</td>\n",
       "      <td>5000.000000</td>\n",
       "    </tr>\n",
       "    <tr>\n",
       "      <th>6</th>\n",
       "      <td>Infosys</td>\n",
       "      <td>31.56</td>\n",
       "      <td>6000.000000</td>\n",
       "    </tr>\n",
       "    <tr>\n",
       "      <th>7</th>\n",
       "      <td>CTS</td>\n",
       "      <td>23.00</td>\n",
       "      <td>7000.000000</td>\n",
       "    </tr>\n",
       "    <tr>\n",
       "      <th>8</th>\n",
       "      <td>Infosys</td>\n",
       "      <td>34.00</td>\n",
       "      <td>8000.000000</td>\n",
       "    </tr>\n",
       "    <tr>\n",
       "      <th>9</th>\n",
       "      <td>TCS</td>\n",
       "      <td>45.00</td>\n",
       "      <td>9000.000000</td>\n",
       "    </tr>\n",
       "    <tr>\n",
       "      <th>10</th>\n",
       "      <td>TCS</td>\n",
       "      <td>23.00</td>\n",
       "      <td>4923.086957</td>\n",
       "    </tr>\n",
       "    <tr>\n",
       "      <th>11</th>\n",
       "      <td>TCS</td>\n",
       "      <td>34.00</td>\n",
       "      <td>1089.000000</td>\n",
       "    </tr>\n",
       "    <tr>\n",
       "      <th>12</th>\n",
       "      <td>TCS</td>\n",
       "      <td>45.00</td>\n",
       "      <td>4923.086957</td>\n",
       "    </tr>\n",
       "    <tr>\n",
       "      <th>13</th>\n",
       "      <td>TCS</td>\n",
       "      <td>18.00</td>\n",
       "      <td>1234.000000</td>\n",
       "    </tr>\n",
       "    <tr>\n",
       "      <th>14</th>\n",
       "      <td>Infosys</td>\n",
       "      <td>40.00</td>\n",
       "      <td>3000.000000</td>\n",
       "    </tr>\n",
       "    <tr>\n",
       "      <th>15</th>\n",
       "      <td>Infosys</td>\n",
       "      <td>23.00</td>\n",
       "      <td>3000.000000</td>\n",
       "    </tr>\n",
       "    <tr>\n",
       "      <th>16</th>\n",
       "      <td>CTS</td>\n",
       "      <td>23.00</td>\n",
       "      <td>3030.000000</td>\n",
       "    </tr>\n",
       "    <tr>\n",
       "      <th>17</th>\n",
       "      <td>Infosys</td>\n",
       "      <td>34.00</td>\n",
       "      <td>5000.000000</td>\n",
       "    </tr>\n",
       "    <tr>\n",
       "      <th>18</th>\n",
       "      <td>Infosys</td>\n",
       "      <td>22.00</td>\n",
       "      <td>4923.086957</td>\n",
       "    </tr>\n",
       "    <tr>\n",
       "      <th>19</th>\n",
       "      <td>CTS</td>\n",
       "      <td>32.00</td>\n",
       "      <td>4923.086957</td>\n",
       "    </tr>\n",
       "    <tr>\n",
       "      <th>20</th>\n",
       "      <td>Infosys</td>\n",
       "      <td>37.00</td>\n",
       "      <td>3045.000000</td>\n",
       "    </tr>\n",
       "    <tr>\n",
       "      <th>21</th>\n",
       "      <td>CTS</td>\n",
       "      <td>50.00</td>\n",
       "      <td>3184.000000</td>\n",
       "    </tr>\n",
       "    <tr>\n",
       "      <th>22</th>\n",
       "      <td>Infosys</td>\n",
       "      <td>21.00</td>\n",
       "      <td>4824.000000</td>\n",
       "    </tr>\n",
       "    <tr>\n",
       "      <th>23</th>\n",
       "      <td>CTS</td>\n",
       "      <td>31.56</td>\n",
       "      <td>5835.000000</td>\n",
       "    </tr>\n",
       "    <tr>\n",
       "      <th>24</th>\n",
       "      <td>Infosys</td>\n",
       "      <td>31.56</td>\n",
       "      <td>7084.000000</td>\n",
       "    </tr>\n",
       "    <tr>\n",
       "      <th>25</th>\n",
       "      <td>CTS</td>\n",
       "      <td>23.00</td>\n",
       "      <td>8943.000000</td>\n",
       "    </tr>\n",
       "    <tr>\n",
       "      <th>26</th>\n",
       "      <td>Infosys</td>\n",
       "      <td>34.00</td>\n",
       "      <td>8345.000000</td>\n",
       "    </tr>\n",
       "    <tr>\n",
       "      <th>27</th>\n",
       "      <td>TCS</td>\n",
       "      <td>45.00</td>\n",
       "      <td>9284.000000</td>\n",
       "    </tr>\n",
       "    <tr>\n",
       "      <th>29</th>\n",
       "      <td>TCS</td>\n",
       "      <td>35.00</td>\n",
       "      <td>2034.000000</td>\n",
       "    </tr>\n",
       "  </tbody>\n",
       "</table>\n",
       "</div>"
      ],
      "text/plain": [
       "    Company    Age       Amount\n",
       "0   Infosys  20.00  4923.086957\n",
       "1       CTS  30.00  4923.086957\n",
       "2   Infosys  35.00  2300.000000\n",
       "3       CTS  40.00  3000.000000\n",
       "4   Infosys  23.00  4000.000000\n",
       "5       CTS  31.56  5000.000000\n",
       "6   Infosys  31.56  6000.000000\n",
       "7       CTS  23.00  7000.000000\n",
       "8   Infosys  34.00  8000.000000\n",
       "9       TCS  45.00  9000.000000\n",
       "10      TCS  23.00  4923.086957\n",
       "11      TCS  34.00  1089.000000\n",
       "12      TCS  45.00  4923.086957\n",
       "13      TCS  18.00  1234.000000\n",
       "14  Infosys  40.00  3000.000000\n",
       "15  Infosys  23.00  3000.000000\n",
       "16      CTS  23.00  3030.000000\n",
       "17  Infosys  34.00  5000.000000\n",
       "18  Infosys  22.00  4923.086957\n",
       "19      CTS  32.00  4923.086957\n",
       "20  Infosys  37.00  3045.000000\n",
       "21      CTS  50.00  3184.000000\n",
       "22  Infosys  21.00  4824.000000\n",
       "23      CTS  31.56  5835.000000\n",
       "24  Infosys  31.56  7084.000000\n",
       "25      CTS  23.00  8943.000000\n",
       "26  Infosys  34.00  8345.000000\n",
       "27      TCS  45.00  9284.000000\n",
       "29      TCS  35.00  2034.000000"
      ]
     },
     "execution_count": 44,
     "metadata": {},
     "output_type": "execute_result"
    }
   ],
   "source": [
    "df.rename(columns={'Salary':'Amount'})"
   ]
  },
  {
   "cell_type": "code",
   "execution_count": 18,
   "id": "4c2c87b5",
   "metadata": {},
   "outputs": [
    {
     "data": {
      "text/plain": [
       "Infosys    10\n",
       "CTS         9\n",
       "TCS         7\n",
       "Name: Company, dtype: int64"
      ]
     },
     "execution_count": 18,
     "metadata": {},
     "output_type": "execute_result"
    }
   ],
   "source": [
    "df['Company'].value_counts()"
   ]
  },
  {
   "cell_type": "code",
   "execution_count": 19,
   "id": "5f45b7f6",
   "metadata": {},
   "outputs": [
    {
     "data": {
      "text/plain": [
       "3"
      ]
     },
     "execution_count": 19,
     "metadata": {},
     "output_type": "execute_result"
    }
   ],
   "source": [
    "df['Company'].isnull().sum()"
   ]
  },
  {
   "cell_type": "code",
   "execution_count": 20,
   "id": "75093a71",
   "metadata": {},
   "outputs": [
    {
     "data": {
      "text/plain": [
       "'Infosys'"
      ]
     },
     "execution_count": 20,
     "metadata": {},
     "output_type": "execute_result"
    }
   ],
   "source": [
    "df['Company'].mode()[0]"
   ]
  },
  {
   "cell_type": "code",
   "execution_count": 21,
   "id": "22b2e499",
   "metadata": {},
   "outputs": [],
   "source": [
    "df['Company'].fillna(df['Company'].mode()[0], inplace=True)"
   ]
  },
  {
   "cell_type": "code",
   "execution_count": 22,
   "id": "bc4c911e",
   "metadata": {},
   "outputs": [
    {
     "data": {
      "text/plain": [
       "0     Infosys\n",
       "1         CTS\n",
       "2     Infosys\n",
       "3         CTS\n",
       "4     Infosys\n",
       "5         CTS\n",
       "6     Infosys\n",
       "7         CTS\n",
       "8     Infosys\n",
       "9         TCS\n",
       "10        TCS\n",
       "11        TCS\n",
       "12        TCS\n",
       "13        TCS\n",
       "14    Infosys\n",
       "15    Infosys\n",
       "16        CTS\n",
       "17    Infosys\n",
       "18    Infosys\n",
       "19        CTS\n",
       "20    Infosys\n",
       "21        CTS\n",
       "22    Infosys\n",
       "23        CTS\n",
       "24    Infosys\n",
       "25        CTS\n",
       "26    Infosys\n",
       "27        TCS\n",
       "29        TCS\n",
       "Name: Company, dtype: object"
      ]
     },
     "execution_count": 22,
     "metadata": {},
     "output_type": "execute_result"
    }
   ],
   "source": [
    "df['Company']"
   ]
  },
  {
   "cell_type": "code",
   "execution_count": 23,
   "id": "9a4d6b6a",
   "metadata": {},
   "outputs": [
    {
     "data": {
      "text/plain": [
       "Index(['Company', 'Age', 'Salary'], dtype='object')"
      ]
     },
     "execution_count": 23,
     "metadata": {},
     "output_type": "execute_result"
    }
   ],
   "source": [
    "df.columns"
   ]
  },
  {
   "cell_type": "code",
   "execution_count": 24,
   "id": "680bab1d",
   "metadata": {},
   "outputs": [
    {
     "data": {
      "text/plain": [
       "4"
      ]
     },
     "execution_count": 24,
     "metadata": {},
     "output_type": "execute_result"
    }
   ],
   "source": [
    "df['Age'].isnull().sum()"
   ]
  },
  {
   "cell_type": "code",
   "execution_count": 25,
   "id": "8da15ff7",
   "metadata": {},
   "outputs": [
    {
     "data": {
      "text/plain": [
       "18.0"
      ]
     },
     "execution_count": 25,
     "metadata": {},
     "output_type": "execute_result"
    }
   ],
   "source": [
    "df['Age'].min()"
   ]
  },
  {
   "cell_type": "code",
   "execution_count": 26,
   "id": "b6d7ad24",
   "metadata": {},
   "outputs": [
    {
     "data": {
      "text/plain": [
       "50.0"
      ]
     },
     "execution_count": 26,
     "metadata": {},
     "output_type": "execute_result"
    }
   ],
   "source": [
    "df['Age'].max()"
   ]
  },
  {
   "cell_type": "code",
   "execution_count": 27,
   "id": "87100840",
   "metadata": {},
   "outputs": [
    {
     "data": {
      "text/plain": [
       "31.56"
      ]
     },
     "execution_count": 27,
     "metadata": {},
     "output_type": "execute_result"
    }
   ],
   "source": [
    "df['Age'].mean()"
   ]
  },
  {
   "cell_type": "code",
   "execution_count": 28,
   "id": "911d2e64",
   "metadata": {},
   "outputs": [],
   "source": [
    "df['Age'].fillna(df['Age'].mean(), inplace=True)"
   ]
  },
  {
   "cell_type": "code",
   "execution_count": 29,
   "id": "6ec7beb2",
   "metadata": {},
   "outputs": [
    {
     "data": {
      "text/plain": [
       "Index(['Company', 'Age', 'Salary'], dtype='object')"
      ]
     },
     "execution_count": 29,
     "metadata": {},
     "output_type": "execute_result"
    }
   ],
   "source": [
    "df.columns"
   ]
  },
  {
   "cell_type": "code",
   "execution_count": 30,
   "id": "e5514732",
   "metadata": {},
   "outputs": [
    {
     "data": {
      "text/plain": [
       "6"
      ]
     },
     "execution_count": 30,
     "metadata": {},
     "output_type": "execute_result"
    }
   ],
   "source": [
    "df['Salary'].isnull().sum()"
   ]
  },
  {
   "cell_type": "code",
   "execution_count": 31,
   "id": "83c18df5",
   "metadata": {},
   "outputs": [],
   "source": [
    "df['Salary'].fillna(df['Salary'].mean(),inplace=True)"
   ]
  },
  {
   "cell_type": "code",
   "execution_count": 32,
   "id": "bd7824ab",
   "metadata": {},
   "outputs": [
    {
     "data": {
      "text/html": [
       "<div>\n",
       "<style scoped>\n",
       "    .dataframe tbody tr th:only-of-type {\n",
       "        vertical-align: middle;\n",
       "    }\n",
       "\n",
       "    .dataframe tbody tr th {\n",
       "        vertical-align: top;\n",
       "    }\n",
       "\n",
       "    .dataframe thead th {\n",
       "        text-align: right;\n",
       "    }\n",
       "</style>\n",
       "<table border=\"1\" class=\"dataframe\">\n",
       "  <thead>\n",
       "    <tr style=\"text-align: right;\">\n",
       "      <th></th>\n",
       "      <th>Company</th>\n",
       "      <th>Age</th>\n",
       "      <th>Salary</th>\n",
       "    </tr>\n",
       "  </thead>\n",
       "  <tbody>\n",
       "    <tr>\n",
       "      <th>0</th>\n",
       "      <td>Infosys</td>\n",
       "      <td>20.00</td>\n",
       "      <td>4923.086957</td>\n",
       "    </tr>\n",
       "    <tr>\n",
       "      <th>1</th>\n",
       "      <td>CTS</td>\n",
       "      <td>30.00</td>\n",
       "      <td>4923.086957</td>\n",
       "    </tr>\n",
       "    <tr>\n",
       "      <th>2</th>\n",
       "      <td>Infosys</td>\n",
       "      <td>35.00</td>\n",
       "      <td>2300.000000</td>\n",
       "    </tr>\n",
       "    <tr>\n",
       "      <th>3</th>\n",
       "      <td>CTS</td>\n",
       "      <td>40.00</td>\n",
       "      <td>3000.000000</td>\n",
       "    </tr>\n",
       "    <tr>\n",
       "      <th>4</th>\n",
       "      <td>Infosys</td>\n",
       "      <td>23.00</td>\n",
       "      <td>4000.000000</td>\n",
       "    </tr>\n",
       "    <tr>\n",
       "      <th>5</th>\n",
       "      <td>CTS</td>\n",
       "      <td>31.56</td>\n",
       "      <td>5000.000000</td>\n",
       "    </tr>\n",
       "    <tr>\n",
       "      <th>6</th>\n",
       "      <td>Infosys</td>\n",
       "      <td>31.56</td>\n",
       "      <td>6000.000000</td>\n",
       "    </tr>\n",
       "    <tr>\n",
       "      <th>7</th>\n",
       "      <td>CTS</td>\n",
       "      <td>23.00</td>\n",
       "      <td>7000.000000</td>\n",
       "    </tr>\n",
       "    <tr>\n",
       "      <th>8</th>\n",
       "      <td>Infosys</td>\n",
       "      <td>34.00</td>\n",
       "      <td>8000.000000</td>\n",
       "    </tr>\n",
       "    <tr>\n",
       "      <th>9</th>\n",
       "      <td>TCS</td>\n",
       "      <td>45.00</td>\n",
       "      <td>9000.000000</td>\n",
       "    </tr>\n",
       "    <tr>\n",
       "      <th>10</th>\n",
       "      <td>TCS</td>\n",
       "      <td>23.00</td>\n",
       "      <td>4923.086957</td>\n",
       "    </tr>\n",
       "    <tr>\n",
       "      <th>11</th>\n",
       "      <td>TCS</td>\n",
       "      <td>34.00</td>\n",
       "      <td>1089.000000</td>\n",
       "    </tr>\n",
       "    <tr>\n",
       "      <th>12</th>\n",
       "      <td>TCS</td>\n",
       "      <td>45.00</td>\n",
       "      <td>4923.086957</td>\n",
       "    </tr>\n",
       "    <tr>\n",
       "      <th>13</th>\n",
       "      <td>TCS</td>\n",
       "      <td>18.00</td>\n",
       "      <td>1234.000000</td>\n",
       "    </tr>\n",
       "    <tr>\n",
       "      <th>14</th>\n",
       "      <td>Infosys</td>\n",
       "      <td>40.00</td>\n",
       "      <td>3000.000000</td>\n",
       "    </tr>\n",
       "    <tr>\n",
       "      <th>15</th>\n",
       "      <td>Infosys</td>\n",
       "      <td>23.00</td>\n",
       "      <td>3000.000000</td>\n",
       "    </tr>\n",
       "    <tr>\n",
       "      <th>16</th>\n",
       "      <td>CTS</td>\n",
       "      <td>23.00</td>\n",
       "      <td>3030.000000</td>\n",
       "    </tr>\n",
       "    <tr>\n",
       "      <th>17</th>\n",
       "      <td>Infosys</td>\n",
       "      <td>34.00</td>\n",
       "      <td>5000.000000</td>\n",
       "    </tr>\n",
       "    <tr>\n",
       "      <th>18</th>\n",
       "      <td>Infosys</td>\n",
       "      <td>22.00</td>\n",
       "      <td>4923.086957</td>\n",
       "    </tr>\n",
       "    <tr>\n",
       "      <th>19</th>\n",
       "      <td>CTS</td>\n",
       "      <td>32.00</td>\n",
       "      <td>4923.086957</td>\n",
       "    </tr>\n",
       "    <tr>\n",
       "      <th>20</th>\n",
       "      <td>Infosys</td>\n",
       "      <td>37.00</td>\n",
       "      <td>3045.000000</td>\n",
       "    </tr>\n",
       "    <tr>\n",
       "      <th>21</th>\n",
       "      <td>CTS</td>\n",
       "      <td>50.00</td>\n",
       "      <td>3184.000000</td>\n",
       "    </tr>\n",
       "    <tr>\n",
       "      <th>22</th>\n",
       "      <td>Infosys</td>\n",
       "      <td>21.00</td>\n",
       "      <td>4824.000000</td>\n",
       "    </tr>\n",
       "    <tr>\n",
       "      <th>23</th>\n",
       "      <td>CTS</td>\n",
       "      <td>31.56</td>\n",
       "      <td>5835.000000</td>\n",
       "    </tr>\n",
       "    <tr>\n",
       "      <th>24</th>\n",
       "      <td>Infosys</td>\n",
       "      <td>31.56</td>\n",
       "      <td>7084.000000</td>\n",
       "    </tr>\n",
       "    <tr>\n",
       "      <th>25</th>\n",
       "      <td>CTS</td>\n",
       "      <td>23.00</td>\n",
       "      <td>8943.000000</td>\n",
       "    </tr>\n",
       "    <tr>\n",
       "      <th>26</th>\n",
       "      <td>Infosys</td>\n",
       "      <td>34.00</td>\n",
       "      <td>8345.000000</td>\n",
       "    </tr>\n",
       "    <tr>\n",
       "      <th>27</th>\n",
       "      <td>TCS</td>\n",
       "      <td>45.00</td>\n",
       "      <td>9284.000000</td>\n",
       "    </tr>\n",
       "    <tr>\n",
       "      <th>29</th>\n",
       "      <td>TCS</td>\n",
       "      <td>35.00</td>\n",
       "      <td>2034.000000</td>\n",
       "    </tr>\n",
       "  </tbody>\n",
       "</table>\n",
       "</div>"
      ],
      "text/plain": [
       "    Company    Age       Salary\n",
       "0   Infosys  20.00  4923.086957\n",
       "1       CTS  30.00  4923.086957\n",
       "2   Infosys  35.00  2300.000000\n",
       "3       CTS  40.00  3000.000000\n",
       "4   Infosys  23.00  4000.000000\n",
       "5       CTS  31.56  5000.000000\n",
       "6   Infosys  31.56  6000.000000\n",
       "7       CTS  23.00  7000.000000\n",
       "8   Infosys  34.00  8000.000000\n",
       "9       TCS  45.00  9000.000000\n",
       "10      TCS  23.00  4923.086957\n",
       "11      TCS  34.00  1089.000000\n",
       "12      TCS  45.00  4923.086957\n",
       "13      TCS  18.00  1234.000000\n",
       "14  Infosys  40.00  3000.000000\n",
       "15  Infosys  23.00  3000.000000\n",
       "16      CTS  23.00  3030.000000\n",
       "17  Infosys  34.00  5000.000000\n",
       "18  Infosys  22.00  4923.086957\n",
       "19      CTS  32.00  4923.086957\n",
       "20  Infosys  37.00  3045.000000\n",
       "21      CTS  50.00  3184.000000\n",
       "22  Infosys  21.00  4824.000000\n",
       "23      CTS  31.56  5835.000000\n",
       "24  Infosys  31.56  7084.000000\n",
       "25      CTS  23.00  8943.000000\n",
       "26  Infosys  34.00  8345.000000\n",
       "27      TCS  45.00  9284.000000\n",
       "29      TCS  35.00  2034.000000"
      ]
     },
     "execution_count": 32,
     "metadata": {},
     "output_type": "execute_result"
    }
   ],
   "source": [
    "df"
   ]
  },
  {
   "cell_type": "code",
   "execution_count": 33,
   "id": "59b43372",
   "metadata": {},
   "outputs": [],
   "source": [
    "# loc , iloc"
   ]
  },
  {
   "cell_type": "code",
   "execution_count": 45,
   "id": "6076a5bd",
   "metadata": {},
   "outputs": [
    {
     "data": {
      "text/html": [
       "<div>\n",
       "<style scoped>\n",
       "    .dataframe tbody tr th:only-of-type {\n",
       "        vertical-align: middle;\n",
       "    }\n",
       "\n",
       "    .dataframe tbody tr th {\n",
       "        vertical-align: top;\n",
       "    }\n",
       "\n",
       "    .dataframe thead th {\n",
       "        text-align: right;\n",
       "    }\n",
       "</style>\n",
       "<table border=\"1\" class=\"dataframe\">\n",
       "  <thead>\n",
       "    <tr style=\"text-align: right;\">\n",
       "      <th></th>\n",
       "      <th>Company</th>\n",
       "      <th>Age</th>\n",
       "      <th>Salary</th>\n",
       "    </tr>\n",
       "  </thead>\n",
       "  <tbody>\n",
       "    <tr>\n",
       "      <th>10</th>\n",
       "      <td>TCS</td>\n",
       "      <td>23.0</td>\n",
       "      <td>4923.086957</td>\n",
       "    </tr>\n",
       "    <tr>\n",
       "      <th>11</th>\n",
       "      <td>TCS</td>\n",
       "      <td>34.0</td>\n",
       "      <td>1089.000000</td>\n",
       "    </tr>\n",
       "    <tr>\n",
       "      <th>12</th>\n",
       "      <td>TCS</td>\n",
       "      <td>45.0</td>\n",
       "      <td>4923.086957</td>\n",
       "    </tr>\n",
       "    <tr>\n",
       "      <th>13</th>\n",
       "      <td>TCS</td>\n",
       "      <td>18.0</td>\n",
       "      <td>1234.000000</td>\n",
       "    </tr>\n",
       "    <tr>\n",
       "      <th>14</th>\n",
       "      <td>Infosys</td>\n",
       "      <td>40.0</td>\n",
       "      <td>3000.000000</td>\n",
       "    </tr>\n",
       "    <tr>\n",
       "      <th>15</th>\n",
       "      <td>Infosys</td>\n",
       "      <td>23.0</td>\n",
       "      <td>3000.000000</td>\n",
       "    </tr>\n",
       "    <tr>\n",
       "      <th>16</th>\n",
       "      <td>CTS</td>\n",
       "      <td>23.0</td>\n",
       "      <td>3030.000000</td>\n",
       "    </tr>\n",
       "    <tr>\n",
       "      <th>17</th>\n",
       "      <td>Infosys</td>\n",
       "      <td>34.0</td>\n",
       "      <td>5000.000000</td>\n",
       "    </tr>\n",
       "    <tr>\n",
       "      <th>18</th>\n",
       "      <td>Infosys</td>\n",
       "      <td>22.0</td>\n",
       "      <td>4923.086957</td>\n",
       "    </tr>\n",
       "    <tr>\n",
       "      <th>19</th>\n",
       "      <td>CTS</td>\n",
       "      <td>32.0</td>\n",
       "      <td>4923.086957</td>\n",
       "    </tr>\n",
       "  </tbody>\n",
       "</table>\n",
       "</div>"
      ],
      "text/plain": [
       "    Company   Age       Salary\n",
       "10      TCS  23.0  4923.086957\n",
       "11      TCS  34.0  1089.000000\n",
       "12      TCS  45.0  4923.086957\n",
       "13      TCS  18.0  1234.000000\n",
       "14  Infosys  40.0  3000.000000\n",
       "15  Infosys  23.0  3000.000000\n",
       "16      CTS  23.0  3030.000000\n",
       "17  Infosys  34.0  5000.000000\n",
       "18  Infosys  22.0  4923.086957\n",
       "19      CTS  32.0  4923.086957"
      ]
     },
     "execution_count": 45,
     "metadata": {},
     "output_type": "execute_result"
    }
   ],
   "source": [
    "df.iloc[10:20,0:3]"
   ]
  },
  {
   "cell_type": "code",
   "execution_count": 46,
   "id": "dbfcb7b1",
   "metadata": {},
   "outputs": [
    {
     "data": {
      "text/html": [
       "<div>\n",
       "<style scoped>\n",
       "    .dataframe tbody tr th:only-of-type {\n",
       "        vertical-align: middle;\n",
       "    }\n",
       "\n",
       "    .dataframe tbody tr th {\n",
       "        vertical-align: top;\n",
       "    }\n",
       "\n",
       "    .dataframe thead th {\n",
       "        text-align: right;\n",
       "    }\n",
       "</style>\n",
       "<table border=\"1\" class=\"dataframe\">\n",
       "  <thead>\n",
       "    <tr style=\"text-align: right;\">\n",
       "      <th></th>\n",
       "      <th>Salary</th>\n",
       "      <th>Company</th>\n",
       "    </tr>\n",
       "  </thead>\n",
       "  <tbody>\n",
       "    <tr>\n",
       "      <th>10</th>\n",
       "      <td>4923.086957</td>\n",
       "      <td>TCS</td>\n",
       "    </tr>\n",
       "    <tr>\n",
       "      <th>11</th>\n",
       "      <td>1089.000000</td>\n",
       "      <td>TCS</td>\n",
       "    </tr>\n",
       "    <tr>\n",
       "      <th>12</th>\n",
       "      <td>4923.086957</td>\n",
       "      <td>TCS</td>\n",
       "    </tr>\n",
       "    <tr>\n",
       "      <th>13</th>\n",
       "      <td>1234.000000</td>\n",
       "      <td>TCS</td>\n",
       "    </tr>\n",
       "    <tr>\n",
       "      <th>14</th>\n",
       "      <td>3000.000000</td>\n",
       "      <td>Infosys</td>\n",
       "    </tr>\n",
       "    <tr>\n",
       "      <th>15</th>\n",
       "      <td>3000.000000</td>\n",
       "      <td>Infosys</td>\n",
       "    </tr>\n",
       "    <tr>\n",
       "      <th>16</th>\n",
       "      <td>3030.000000</td>\n",
       "      <td>CTS</td>\n",
       "    </tr>\n",
       "    <tr>\n",
       "      <th>17</th>\n",
       "      <td>5000.000000</td>\n",
       "      <td>Infosys</td>\n",
       "    </tr>\n",
       "    <tr>\n",
       "      <th>18</th>\n",
       "      <td>4923.086957</td>\n",
       "      <td>Infosys</td>\n",
       "    </tr>\n",
       "    <tr>\n",
       "      <th>19</th>\n",
       "      <td>4923.086957</td>\n",
       "      <td>CTS</td>\n",
       "    </tr>\n",
       "    <tr>\n",
       "      <th>20</th>\n",
       "      <td>3045.000000</td>\n",
       "      <td>Infosys</td>\n",
       "    </tr>\n",
       "  </tbody>\n",
       "</table>\n",
       "</div>"
      ],
      "text/plain": [
       "         Salary  Company\n",
       "10  4923.086957      TCS\n",
       "11  1089.000000      TCS\n",
       "12  4923.086957      TCS\n",
       "13  1234.000000      TCS\n",
       "14  3000.000000  Infosys\n",
       "15  3000.000000  Infosys\n",
       "16  3030.000000      CTS\n",
       "17  5000.000000  Infosys\n",
       "18  4923.086957  Infosys\n",
       "19  4923.086957      CTS\n",
       "20  3045.000000  Infosys"
      ]
     },
     "execution_count": 46,
     "metadata": {},
     "output_type": "execute_result"
    }
   ],
   "source": [
    "df.loc[10:20,['Salary','Company']]"
   ]
  },
  {
   "cell_type": "code",
   "execution_count": 47,
   "id": "f06772d8",
   "metadata": {},
   "outputs": [
    {
     "data": {
      "text/html": [
       "<div>\n",
       "<style scoped>\n",
       "    .dataframe tbody tr th:only-of-type {\n",
       "        vertical-align: middle;\n",
       "    }\n",
       "\n",
       "    .dataframe tbody tr th {\n",
       "        vertical-align: top;\n",
       "    }\n",
       "\n",
       "    .dataframe thead th {\n",
       "        text-align: right;\n",
       "    }\n",
       "</style>\n",
       "<table border=\"1\" class=\"dataframe\">\n",
       "  <thead>\n",
       "    <tr style=\"text-align: right;\">\n",
       "      <th></th>\n",
       "      <th>Company</th>\n",
       "      <th>Age</th>\n",
       "      <th>Salary</th>\n",
       "    </tr>\n",
       "  </thead>\n",
       "  <tbody>\n",
       "    <tr>\n",
       "      <th>0</th>\n",
       "      <td>Infosys</td>\n",
       "      <td>20.00</td>\n",
       "      <td>4923.086957</td>\n",
       "    </tr>\n",
       "    <tr>\n",
       "      <th>4</th>\n",
       "      <td>Infosys</td>\n",
       "      <td>23.00</td>\n",
       "      <td>4000.000000</td>\n",
       "    </tr>\n",
       "    <tr>\n",
       "      <th>6</th>\n",
       "      <td>Infosys</td>\n",
       "      <td>31.56</td>\n",
       "      <td>6000.000000</td>\n",
       "    </tr>\n",
       "    <tr>\n",
       "      <th>8</th>\n",
       "      <td>Infosys</td>\n",
       "      <td>34.00</td>\n",
       "      <td>8000.000000</td>\n",
       "    </tr>\n",
       "    <tr>\n",
       "      <th>15</th>\n",
       "      <td>Infosys</td>\n",
       "      <td>23.00</td>\n",
       "      <td>3000.000000</td>\n",
       "    </tr>\n",
       "    <tr>\n",
       "      <th>17</th>\n",
       "      <td>Infosys</td>\n",
       "      <td>34.00</td>\n",
       "      <td>5000.000000</td>\n",
       "    </tr>\n",
       "    <tr>\n",
       "      <th>18</th>\n",
       "      <td>Infosys</td>\n",
       "      <td>22.00</td>\n",
       "      <td>4923.086957</td>\n",
       "    </tr>\n",
       "    <tr>\n",
       "      <th>22</th>\n",
       "      <td>Infosys</td>\n",
       "      <td>21.00</td>\n",
       "      <td>4824.000000</td>\n",
       "    </tr>\n",
       "    <tr>\n",
       "      <th>24</th>\n",
       "      <td>Infosys</td>\n",
       "      <td>31.56</td>\n",
       "      <td>7084.000000</td>\n",
       "    </tr>\n",
       "    <tr>\n",
       "      <th>26</th>\n",
       "      <td>Infosys</td>\n",
       "      <td>34.00</td>\n",
       "      <td>8345.000000</td>\n",
       "    </tr>\n",
       "  </tbody>\n",
       "</table>\n",
       "</div>"
      ],
      "text/plain": [
       "    Company    Age       Salary\n",
       "0   Infosys  20.00  4923.086957\n",
       "4   Infosys  23.00  4000.000000\n",
       "6   Infosys  31.56  6000.000000\n",
       "8   Infosys  34.00  8000.000000\n",
       "15  Infosys  23.00  3000.000000\n",
       "17  Infosys  34.00  5000.000000\n",
       "18  Infosys  22.00  4923.086957\n",
       "22  Infosys  21.00  4824.000000\n",
       "24  Infosys  31.56  7084.000000\n",
       "26  Infosys  34.00  8345.000000"
      ]
     },
     "execution_count": 47,
     "metadata": {},
     "output_type": "execute_result"
    }
   ],
   "source": [
    "df[(df['Company']=='Infosys') & (df['Age'] <  35)]"
   ]
  },
  {
   "cell_type": "code",
   "execution_count": 48,
   "id": "db492d08",
   "metadata": {},
   "outputs": [
    {
     "data": {
      "text/html": [
       "<div>\n",
       "<style scoped>\n",
       "    .dataframe tbody tr th:only-of-type {\n",
       "        vertical-align: middle;\n",
       "    }\n",
       "\n",
       "    .dataframe tbody tr th {\n",
       "        vertical-align: top;\n",
       "    }\n",
       "\n",
       "    .dataframe thead th {\n",
       "        text-align: right;\n",
       "    }\n",
       "</style>\n",
       "<table border=\"1\" class=\"dataframe\">\n",
       "  <thead>\n",
       "    <tr style=\"text-align: right;\">\n",
       "      <th></th>\n",
       "      <th>Company</th>\n",
       "      <th>Age</th>\n",
       "      <th>Salary</th>\n",
       "    </tr>\n",
       "  </thead>\n",
       "  <tbody>\n",
       "    <tr>\n",
       "      <th>0</th>\n",
       "      <td>Infosys</td>\n",
       "      <td>20.00</td>\n",
       "      <td>4923.086957</td>\n",
       "    </tr>\n",
       "    <tr>\n",
       "      <th>1</th>\n",
       "      <td>CTS</td>\n",
       "      <td>30.00</td>\n",
       "      <td>4923.086957</td>\n",
       "    </tr>\n",
       "    <tr>\n",
       "      <th>2</th>\n",
       "      <td>Infosys</td>\n",
       "      <td>35.00</td>\n",
       "      <td>2300.000000</td>\n",
       "    </tr>\n",
       "    <tr>\n",
       "      <th>4</th>\n",
       "      <td>Infosys</td>\n",
       "      <td>23.00</td>\n",
       "      <td>4000.000000</td>\n",
       "    </tr>\n",
       "    <tr>\n",
       "      <th>5</th>\n",
       "      <td>CTS</td>\n",
       "      <td>31.56</td>\n",
       "      <td>5000.000000</td>\n",
       "    </tr>\n",
       "    <tr>\n",
       "      <th>6</th>\n",
       "      <td>Infosys</td>\n",
       "      <td>31.56</td>\n",
       "      <td>6000.000000</td>\n",
       "    </tr>\n",
       "    <tr>\n",
       "      <th>7</th>\n",
       "      <td>CTS</td>\n",
       "      <td>23.00</td>\n",
       "      <td>7000.000000</td>\n",
       "    </tr>\n",
       "    <tr>\n",
       "      <th>8</th>\n",
       "      <td>Infosys</td>\n",
       "      <td>34.00</td>\n",
       "      <td>8000.000000</td>\n",
       "    </tr>\n",
       "    <tr>\n",
       "      <th>10</th>\n",
       "      <td>TCS</td>\n",
       "      <td>23.00</td>\n",
       "      <td>4923.086957</td>\n",
       "    </tr>\n",
       "    <tr>\n",
       "      <th>11</th>\n",
       "      <td>TCS</td>\n",
       "      <td>34.00</td>\n",
       "      <td>1089.000000</td>\n",
       "    </tr>\n",
       "    <tr>\n",
       "      <th>13</th>\n",
       "      <td>TCS</td>\n",
       "      <td>18.00</td>\n",
       "      <td>1234.000000</td>\n",
       "    </tr>\n",
       "    <tr>\n",
       "      <th>14</th>\n",
       "      <td>Infosys</td>\n",
       "      <td>40.00</td>\n",
       "      <td>3000.000000</td>\n",
       "    </tr>\n",
       "    <tr>\n",
       "      <th>15</th>\n",
       "      <td>Infosys</td>\n",
       "      <td>23.00</td>\n",
       "      <td>3000.000000</td>\n",
       "    </tr>\n",
       "    <tr>\n",
       "      <th>16</th>\n",
       "      <td>CTS</td>\n",
       "      <td>23.00</td>\n",
       "      <td>3030.000000</td>\n",
       "    </tr>\n",
       "    <tr>\n",
       "      <th>17</th>\n",
       "      <td>Infosys</td>\n",
       "      <td>34.00</td>\n",
       "      <td>5000.000000</td>\n",
       "    </tr>\n",
       "    <tr>\n",
       "      <th>18</th>\n",
       "      <td>Infosys</td>\n",
       "      <td>22.00</td>\n",
       "      <td>4923.086957</td>\n",
       "    </tr>\n",
       "    <tr>\n",
       "      <th>19</th>\n",
       "      <td>CTS</td>\n",
       "      <td>32.00</td>\n",
       "      <td>4923.086957</td>\n",
       "    </tr>\n",
       "    <tr>\n",
       "      <th>20</th>\n",
       "      <td>Infosys</td>\n",
       "      <td>37.00</td>\n",
       "      <td>3045.000000</td>\n",
       "    </tr>\n",
       "    <tr>\n",
       "      <th>22</th>\n",
       "      <td>Infosys</td>\n",
       "      <td>21.00</td>\n",
       "      <td>4824.000000</td>\n",
       "    </tr>\n",
       "    <tr>\n",
       "      <th>23</th>\n",
       "      <td>CTS</td>\n",
       "      <td>31.56</td>\n",
       "      <td>5835.000000</td>\n",
       "    </tr>\n",
       "    <tr>\n",
       "      <th>24</th>\n",
       "      <td>Infosys</td>\n",
       "      <td>31.56</td>\n",
       "      <td>7084.000000</td>\n",
       "    </tr>\n",
       "    <tr>\n",
       "      <th>25</th>\n",
       "      <td>CTS</td>\n",
       "      <td>23.00</td>\n",
       "      <td>8943.000000</td>\n",
       "    </tr>\n",
       "    <tr>\n",
       "      <th>26</th>\n",
       "      <td>Infosys</td>\n",
       "      <td>34.00</td>\n",
       "      <td>8345.000000</td>\n",
       "    </tr>\n",
       "  </tbody>\n",
       "</table>\n",
       "</div>"
      ],
      "text/plain": [
       "    Company    Age       Salary\n",
       "0   Infosys  20.00  4923.086957\n",
       "1       CTS  30.00  4923.086957\n",
       "2   Infosys  35.00  2300.000000\n",
       "4   Infosys  23.00  4000.000000\n",
       "5       CTS  31.56  5000.000000\n",
       "6   Infosys  31.56  6000.000000\n",
       "7       CTS  23.00  7000.000000\n",
       "8   Infosys  34.00  8000.000000\n",
       "10      TCS  23.00  4923.086957\n",
       "11      TCS  34.00  1089.000000\n",
       "13      TCS  18.00  1234.000000\n",
       "14  Infosys  40.00  3000.000000\n",
       "15  Infosys  23.00  3000.000000\n",
       "16      CTS  23.00  3030.000000\n",
       "17  Infosys  34.00  5000.000000\n",
       "18  Infosys  22.00  4923.086957\n",
       "19      CTS  32.00  4923.086957\n",
       "20  Infosys  37.00  3045.000000\n",
       "22  Infosys  21.00  4824.000000\n",
       "23      CTS  31.56  5835.000000\n",
       "24  Infosys  31.56  7084.000000\n",
       "25      CTS  23.00  8943.000000\n",
       "26  Infosys  34.00  8345.000000"
      ]
     },
     "execution_count": 48,
     "metadata": {},
     "output_type": "execute_result"
    }
   ],
   "source": [
    "df[(df['Company']=='Infosys') | (df['Age']< 35)]"
   ]
  },
  {
   "cell_type": "code",
   "execution_count": 38,
   "id": "44816a24",
   "metadata": {},
   "outputs": [
    {
     "data": {
      "text/html": [
       "<div>\n",
       "<style scoped>\n",
       "    .dataframe tbody tr th:only-of-type {\n",
       "        vertical-align: middle;\n",
       "    }\n",
       "\n",
       "    .dataframe tbody tr th {\n",
       "        vertical-align: top;\n",
       "    }\n",
       "\n",
       "    .dataframe thead th {\n",
       "        text-align: right;\n",
       "    }\n",
       "</style>\n",
       "<table border=\"1\" class=\"dataframe\">\n",
       "  <thead>\n",
       "    <tr style=\"text-align: right;\">\n",
       "      <th></th>\n",
       "      <th>Company</th>\n",
       "      <th>Age</th>\n",
       "      <th>Salary</th>\n",
       "    </tr>\n",
       "  </thead>\n",
       "  <tbody>\n",
       "    <tr>\n",
       "      <th>11</th>\n",
       "      <td>TCS</td>\n",
       "      <td>34.00</td>\n",
       "      <td>1089.000000</td>\n",
       "    </tr>\n",
       "    <tr>\n",
       "      <th>13</th>\n",
       "      <td>TCS</td>\n",
       "      <td>18.00</td>\n",
       "      <td>1234.000000</td>\n",
       "    </tr>\n",
       "    <tr>\n",
       "      <th>29</th>\n",
       "      <td>TCS</td>\n",
       "      <td>35.00</td>\n",
       "      <td>2034.000000</td>\n",
       "    </tr>\n",
       "    <tr>\n",
       "      <th>2</th>\n",
       "      <td>Infosys</td>\n",
       "      <td>35.00</td>\n",
       "      <td>2300.000000</td>\n",
       "    </tr>\n",
       "    <tr>\n",
       "      <th>15</th>\n",
       "      <td>Infosys</td>\n",
       "      <td>23.00</td>\n",
       "      <td>3000.000000</td>\n",
       "    </tr>\n",
       "    <tr>\n",
       "      <th>14</th>\n",
       "      <td>Infosys</td>\n",
       "      <td>40.00</td>\n",
       "      <td>3000.000000</td>\n",
       "    </tr>\n",
       "    <tr>\n",
       "      <th>3</th>\n",
       "      <td>CTS</td>\n",
       "      <td>40.00</td>\n",
       "      <td>3000.000000</td>\n",
       "    </tr>\n",
       "    <tr>\n",
       "      <th>16</th>\n",
       "      <td>CTS</td>\n",
       "      <td>23.00</td>\n",
       "      <td>3030.000000</td>\n",
       "    </tr>\n",
       "    <tr>\n",
       "      <th>20</th>\n",
       "      <td>Infosys</td>\n",
       "      <td>37.00</td>\n",
       "      <td>3045.000000</td>\n",
       "    </tr>\n",
       "    <tr>\n",
       "      <th>21</th>\n",
       "      <td>CTS</td>\n",
       "      <td>50.00</td>\n",
       "      <td>3184.000000</td>\n",
       "    </tr>\n",
       "    <tr>\n",
       "      <th>4</th>\n",
       "      <td>Infosys</td>\n",
       "      <td>23.00</td>\n",
       "      <td>4000.000000</td>\n",
       "    </tr>\n",
       "    <tr>\n",
       "      <th>22</th>\n",
       "      <td>Infosys</td>\n",
       "      <td>21.00</td>\n",
       "      <td>4824.000000</td>\n",
       "    </tr>\n",
       "    <tr>\n",
       "      <th>0</th>\n",
       "      <td>Infosys</td>\n",
       "      <td>20.00</td>\n",
       "      <td>4923.086957</td>\n",
       "    </tr>\n",
       "    <tr>\n",
       "      <th>10</th>\n",
       "      <td>TCS</td>\n",
       "      <td>23.00</td>\n",
       "      <td>4923.086957</td>\n",
       "    </tr>\n",
       "    <tr>\n",
       "      <th>12</th>\n",
       "      <td>TCS</td>\n",
       "      <td>45.00</td>\n",
       "      <td>4923.086957</td>\n",
       "    </tr>\n",
       "    <tr>\n",
       "      <th>19</th>\n",
       "      <td>CTS</td>\n",
       "      <td>32.00</td>\n",
       "      <td>4923.086957</td>\n",
       "    </tr>\n",
       "    <tr>\n",
       "      <th>1</th>\n",
       "      <td>CTS</td>\n",
       "      <td>30.00</td>\n",
       "      <td>4923.086957</td>\n",
       "    </tr>\n",
       "    <tr>\n",
       "      <th>18</th>\n",
       "      <td>Infosys</td>\n",
       "      <td>22.00</td>\n",
       "      <td>4923.086957</td>\n",
       "    </tr>\n",
       "    <tr>\n",
       "      <th>17</th>\n",
       "      <td>Infosys</td>\n",
       "      <td>34.00</td>\n",
       "      <td>5000.000000</td>\n",
       "    </tr>\n",
       "    <tr>\n",
       "      <th>5</th>\n",
       "      <td>CTS</td>\n",
       "      <td>31.56</td>\n",
       "      <td>5000.000000</td>\n",
       "    </tr>\n",
       "    <tr>\n",
       "      <th>23</th>\n",
       "      <td>CTS</td>\n",
       "      <td>31.56</td>\n",
       "      <td>5835.000000</td>\n",
       "    </tr>\n",
       "    <tr>\n",
       "      <th>6</th>\n",
       "      <td>Infosys</td>\n",
       "      <td>31.56</td>\n",
       "      <td>6000.000000</td>\n",
       "    </tr>\n",
       "    <tr>\n",
       "      <th>7</th>\n",
       "      <td>CTS</td>\n",
       "      <td>23.00</td>\n",
       "      <td>7000.000000</td>\n",
       "    </tr>\n",
       "    <tr>\n",
       "      <th>24</th>\n",
       "      <td>Infosys</td>\n",
       "      <td>31.56</td>\n",
       "      <td>7084.000000</td>\n",
       "    </tr>\n",
       "    <tr>\n",
       "      <th>8</th>\n",
       "      <td>Infosys</td>\n",
       "      <td>34.00</td>\n",
       "      <td>8000.000000</td>\n",
       "    </tr>\n",
       "    <tr>\n",
       "      <th>26</th>\n",
       "      <td>Infosys</td>\n",
       "      <td>34.00</td>\n",
       "      <td>8345.000000</td>\n",
       "    </tr>\n",
       "    <tr>\n",
       "      <th>25</th>\n",
       "      <td>CTS</td>\n",
       "      <td>23.00</td>\n",
       "      <td>8943.000000</td>\n",
       "    </tr>\n",
       "    <tr>\n",
       "      <th>9</th>\n",
       "      <td>TCS</td>\n",
       "      <td>45.00</td>\n",
       "      <td>9000.000000</td>\n",
       "    </tr>\n",
       "    <tr>\n",
       "      <th>27</th>\n",
       "      <td>TCS</td>\n",
       "      <td>45.00</td>\n",
       "      <td>9284.000000</td>\n",
       "    </tr>\n",
       "  </tbody>\n",
       "</table>\n",
       "</div>"
      ],
      "text/plain": [
       "    Company    Age       Salary\n",
       "11      TCS  34.00  1089.000000\n",
       "13      TCS  18.00  1234.000000\n",
       "29      TCS  35.00  2034.000000\n",
       "2   Infosys  35.00  2300.000000\n",
       "15  Infosys  23.00  3000.000000\n",
       "14  Infosys  40.00  3000.000000\n",
       "3       CTS  40.00  3000.000000\n",
       "16      CTS  23.00  3030.000000\n",
       "20  Infosys  37.00  3045.000000\n",
       "21      CTS  50.00  3184.000000\n",
       "4   Infosys  23.00  4000.000000\n",
       "22  Infosys  21.00  4824.000000\n",
       "0   Infosys  20.00  4923.086957\n",
       "10      TCS  23.00  4923.086957\n",
       "12      TCS  45.00  4923.086957\n",
       "19      CTS  32.00  4923.086957\n",
       "1       CTS  30.00  4923.086957\n",
       "18  Infosys  22.00  4923.086957\n",
       "17  Infosys  34.00  5000.000000\n",
       "5       CTS  31.56  5000.000000\n",
       "23      CTS  31.56  5835.000000\n",
       "6   Infosys  31.56  6000.000000\n",
       "7       CTS  23.00  7000.000000\n",
       "24  Infosys  31.56  7084.000000\n",
       "8   Infosys  34.00  8000.000000\n",
       "26  Infosys  34.00  8345.000000\n",
       "25      CTS  23.00  8943.000000\n",
       "9       TCS  45.00  9000.000000\n",
       "27      TCS  45.00  9284.000000"
      ]
     },
     "execution_count": 38,
     "metadata": {},
     "output_type": "execute_result"
    }
   ],
   "source": [
    "df.sort_values(by=['Salary'])"
   ]
  },
  {
   "cell_type": "code",
   "execution_count": 50,
   "id": "ab9f6644",
   "metadata": {},
   "outputs": [
    {
     "data": {
      "text/html": [
       "<div>\n",
       "<style scoped>\n",
       "    .dataframe tbody tr th:only-of-type {\n",
       "        vertical-align: middle;\n",
       "    }\n",
       "\n",
       "    .dataframe tbody tr th {\n",
       "        vertical-align: top;\n",
       "    }\n",
       "\n",
       "    .dataframe thead th {\n",
       "        text-align: right;\n",
       "    }\n",
       "</style>\n",
       "<table border=\"1\" class=\"dataframe\">\n",
       "  <thead>\n",
       "    <tr style=\"text-align: right;\">\n",
       "      <th></th>\n",
       "      <th>Company</th>\n",
       "      <th>Age</th>\n",
       "      <th>Salary</th>\n",
       "    </tr>\n",
       "  </thead>\n",
       "  <tbody>\n",
       "    <tr>\n",
       "      <th>11</th>\n",
       "      <td>TCS</td>\n",
       "      <td>34.00</td>\n",
       "      <td>1089.000000</td>\n",
       "    </tr>\n",
       "    <tr>\n",
       "      <th>13</th>\n",
       "      <td>TCS</td>\n",
       "      <td>18.00</td>\n",
       "      <td>1234.000000</td>\n",
       "    </tr>\n",
       "    <tr>\n",
       "      <th>29</th>\n",
       "      <td>TCS</td>\n",
       "      <td>35.00</td>\n",
       "      <td>2034.000000</td>\n",
       "    </tr>\n",
       "    <tr>\n",
       "      <th>2</th>\n",
       "      <td>Infosys</td>\n",
       "      <td>35.00</td>\n",
       "      <td>2300.000000</td>\n",
       "    </tr>\n",
       "    <tr>\n",
       "      <th>15</th>\n",
       "      <td>Infosys</td>\n",
       "      <td>23.00</td>\n",
       "      <td>3000.000000</td>\n",
       "    </tr>\n",
       "    <tr>\n",
       "      <th>3</th>\n",
       "      <td>CTS</td>\n",
       "      <td>40.00</td>\n",
       "      <td>3000.000000</td>\n",
       "    </tr>\n",
       "    <tr>\n",
       "      <th>14</th>\n",
       "      <td>Infosys</td>\n",
       "      <td>40.00</td>\n",
       "      <td>3000.000000</td>\n",
       "    </tr>\n",
       "    <tr>\n",
       "      <th>16</th>\n",
       "      <td>CTS</td>\n",
       "      <td>23.00</td>\n",
       "      <td>3030.000000</td>\n",
       "    </tr>\n",
       "    <tr>\n",
       "      <th>20</th>\n",
       "      <td>Infosys</td>\n",
       "      <td>37.00</td>\n",
       "      <td>3045.000000</td>\n",
       "    </tr>\n",
       "    <tr>\n",
       "      <th>21</th>\n",
       "      <td>CTS</td>\n",
       "      <td>50.00</td>\n",
       "      <td>3184.000000</td>\n",
       "    </tr>\n",
       "    <tr>\n",
       "      <th>4</th>\n",
       "      <td>Infosys</td>\n",
       "      <td>23.00</td>\n",
       "      <td>4000.000000</td>\n",
       "    </tr>\n",
       "    <tr>\n",
       "      <th>22</th>\n",
       "      <td>Infosys</td>\n",
       "      <td>21.00</td>\n",
       "      <td>4824.000000</td>\n",
       "    </tr>\n",
       "    <tr>\n",
       "      <th>0</th>\n",
       "      <td>Infosys</td>\n",
       "      <td>20.00</td>\n",
       "      <td>4923.086957</td>\n",
       "    </tr>\n",
       "    <tr>\n",
       "      <th>18</th>\n",
       "      <td>Infosys</td>\n",
       "      <td>22.00</td>\n",
       "      <td>4923.086957</td>\n",
       "    </tr>\n",
       "    <tr>\n",
       "      <th>10</th>\n",
       "      <td>TCS</td>\n",
       "      <td>23.00</td>\n",
       "      <td>4923.086957</td>\n",
       "    </tr>\n",
       "    <tr>\n",
       "      <th>1</th>\n",
       "      <td>CTS</td>\n",
       "      <td>30.00</td>\n",
       "      <td>4923.086957</td>\n",
       "    </tr>\n",
       "    <tr>\n",
       "      <th>19</th>\n",
       "      <td>CTS</td>\n",
       "      <td>32.00</td>\n",
       "      <td>4923.086957</td>\n",
       "    </tr>\n",
       "    <tr>\n",
       "      <th>12</th>\n",
       "      <td>TCS</td>\n",
       "      <td>45.00</td>\n",
       "      <td>4923.086957</td>\n",
       "    </tr>\n",
       "    <tr>\n",
       "      <th>5</th>\n",
       "      <td>CTS</td>\n",
       "      <td>31.56</td>\n",
       "      <td>5000.000000</td>\n",
       "    </tr>\n",
       "    <tr>\n",
       "      <th>17</th>\n",
       "      <td>Infosys</td>\n",
       "      <td>34.00</td>\n",
       "      <td>5000.000000</td>\n",
       "    </tr>\n",
       "    <tr>\n",
       "      <th>23</th>\n",
       "      <td>CTS</td>\n",
       "      <td>31.56</td>\n",
       "      <td>5835.000000</td>\n",
       "    </tr>\n",
       "    <tr>\n",
       "      <th>6</th>\n",
       "      <td>Infosys</td>\n",
       "      <td>31.56</td>\n",
       "      <td>6000.000000</td>\n",
       "    </tr>\n",
       "    <tr>\n",
       "      <th>7</th>\n",
       "      <td>CTS</td>\n",
       "      <td>23.00</td>\n",
       "      <td>7000.000000</td>\n",
       "    </tr>\n",
       "    <tr>\n",
       "      <th>24</th>\n",
       "      <td>Infosys</td>\n",
       "      <td>31.56</td>\n",
       "      <td>7084.000000</td>\n",
       "    </tr>\n",
       "    <tr>\n",
       "      <th>8</th>\n",
       "      <td>Infosys</td>\n",
       "      <td>34.00</td>\n",
       "      <td>8000.000000</td>\n",
       "    </tr>\n",
       "    <tr>\n",
       "      <th>26</th>\n",
       "      <td>Infosys</td>\n",
       "      <td>34.00</td>\n",
       "      <td>8345.000000</td>\n",
       "    </tr>\n",
       "    <tr>\n",
       "      <th>25</th>\n",
       "      <td>CTS</td>\n",
       "      <td>23.00</td>\n",
       "      <td>8943.000000</td>\n",
       "    </tr>\n",
       "    <tr>\n",
       "      <th>9</th>\n",
       "      <td>TCS</td>\n",
       "      <td>45.00</td>\n",
       "      <td>9000.000000</td>\n",
       "    </tr>\n",
       "    <tr>\n",
       "      <th>27</th>\n",
       "      <td>TCS</td>\n",
       "      <td>45.00</td>\n",
       "      <td>9284.000000</td>\n",
       "    </tr>\n",
       "  </tbody>\n",
       "</table>\n",
       "</div>"
      ],
      "text/plain": [
       "    Company    Age       Salary\n",
       "11      TCS  34.00  1089.000000\n",
       "13      TCS  18.00  1234.000000\n",
       "29      TCS  35.00  2034.000000\n",
       "2   Infosys  35.00  2300.000000\n",
       "15  Infosys  23.00  3000.000000\n",
       "3       CTS  40.00  3000.000000\n",
       "14  Infosys  40.00  3000.000000\n",
       "16      CTS  23.00  3030.000000\n",
       "20  Infosys  37.00  3045.000000\n",
       "21      CTS  50.00  3184.000000\n",
       "4   Infosys  23.00  4000.000000\n",
       "22  Infosys  21.00  4824.000000\n",
       "0   Infosys  20.00  4923.086957\n",
       "18  Infosys  22.00  4923.086957\n",
       "10      TCS  23.00  4923.086957\n",
       "1       CTS  30.00  4923.086957\n",
       "19      CTS  32.00  4923.086957\n",
       "12      TCS  45.00  4923.086957\n",
       "5       CTS  31.56  5000.000000\n",
       "17  Infosys  34.00  5000.000000\n",
       "23      CTS  31.56  5835.000000\n",
       "6   Infosys  31.56  6000.000000\n",
       "7       CTS  23.00  7000.000000\n",
       "24  Infosys  31.56  7084.000000\n",
       "8   Infosys  34.00  8000.000000\n",
       "26  Infosys  34.00  8345.000000\n",
       "25      CTS  23.00  8943.000000\n",
       "9       TCS  45.00  9000.000000\n",
       "27      TCS  45.00  9284.000000"
      ]
     },
     "execution_count": 50,
     "metadata": {},
     "output_type": "execute_result"
    }
   ],
   "source": [
    "df.sort_values(by=['Salary','Age'])"
   ]
  },
  {
   "cell_type": "code",
   "execution_count": 40,
   "id": "e15a39fc",
   "metadata": {},
   "outputs": [
    {
     "data": {
      "text/plain": [
       "Company\n",
       "CTS        45838.173913\n",
       "Infosys    64444.173913\n",
       "TCS        32487.173913\n",
       "Name: Salary, dtype: float64"
      ]
     },
     "execution_count": 40,
     "metadata": {},
     "output_type": "execute_result"
    }
   ],
   "source": [
    "df.groupby(by='Company')['Salary'].sum()"
   ]
  },
  {
   "cell_type": "code",
   "execution_count": 52,
   "id": "aef66c67",
   "metadata": {},
   "outputs": [],
   "source": [
    "def find_category(sal):\n",
    "    if sal >= 6000:\n",
    "        return 'High Paid'\n",
    "    elif sal >= 4000 and sal < 6000:\n",
    "        return 'Medium Paid'\n",
    "    else:\n",
    "        return 'Less Paid'"
   ]
  },
  {
   "cell_type": "code",
   "execution_count": 55,
   "id": "4f00206b",
   "metadata": {},
   "outputs": [],
   "source": [
    "df['Categgory']=df['Salary'].apply(find_category)"
   ]
  },
  {
   "cell_type": "code",
   "execution_count": 56,
   "id": "00552ae8",
   "metadata": {},
   "outputs": [
    {
     "data": {
      "text/html": [
       "<div>\n",
       "<style scoped>\n",
       "    .dataframe tbody tr th:only-of-type {\n",
       "        vertical-align: middle;\n",
       "    }\n",
       "\n",
       "    .dataframe tbody tr th {\n",
       "        vertical-align: top;\n",
       "    }\n",
       "\n",
       "    .dataframe thead th {\n",
       "        text-align: right;\n",
       "    }\n",
       "</style>\n",
       "<table border=\"1\" class=\"dataframe\">\n",
       "  <thead>\n",
       "    <tr style=\"text-align: right;\">\n",
       "      <th></th>\n",
       "      <th>Company</th>\n",
       "      <th>Age</th>\n",
       "      <th>Salary</th>\n",
       "      <th>Categgory</th>\n",
       "    </tr>\n",
       "  </thead>\n",
       "  <tbody>\n",
       "    <tr>\n",
       "      <th>0</th>\n",
       "      <td>Infosys</td>\n",
       "      <td>20.0</td>\n",
       "      <td>4923.086957</td>\n",
       "      <td>Medium Paid</td>\n",
       "    </tr>\n",
       "    <tr>\n",
       "      <th>1</th>\n",
       "      <td>CTS</td>\n",
       "      <td>30.0</td>\n",
       "      <td>4923.086957</td>\n",
       "      <td>Medium Paid</td>\n",
       "    </tr>\n",
       "    <tr>\n",
       "      <th>2</th>\n",
       "      <td>Infosys</td>\n",
       "      <td>35.0</td>\n",
       "      <td>2300.000000</td>\n",
       "      <td>Less Paid</td>\n",
       "    </tr>\n",
       "    <tr>\n",
       "      <th>3</th>\n",
       "      <td>CTS</td>\n",
       "      <td>40.0</td>\n",
       "      <td>3000.000000</td>\n",
       "      <td>Less Paid</td>\n",
       "    </tr>\n",
       "    <tr>\n",
       "      <th>4</th>\n",
       "      <td>Infosys</td>\n",
       "      <td>23.0</td>\n",
       "      <td>4000.000000</td>\n",
       "      <td>Medium Paid</td>\n",
       "    </tr>\n",
       "  </tbody>\n",
       "</table>\n",
       "</div>"
      ],
      "text/plain": [
       "   Company   Age       Salary    Categgory\n",
       "0  Infosys  20.0  4923.086957  Medium Paid\n",
       "1      CTS  30.0  4923.086957  Medium Paid\n",
       "2  Infosys  35.0  2300.000000    Less Paid\n",
       "3      CTS  40.0  3000.000000    Less Paid\n",
       "4  Infosys  23.0  4000.000000  Medium Paid"
      ]
     },
     "execution_count": 56,
     "metadata": {},
     "output_type": "execute_result"
    }
   ],
   "source": [
    "df.head()"
   ]
  },
  {
   "cell_type": "code",
   "execution_count": 58,
   "id": "0b7c5dee",
   "metadata": {},
   "outputs": [],
   "source": [
    "df.drop(columns=['Salary'], inplace=True)"
   ]
  },
  {
   "cell_type": "code",
   "execution_count": 59,
   "id": "caf55f9d",
   "metadata": {},
   "outputs": [],
   "source": [
    "df.to_csv(r'D:\\TPERSONAL\\python_ericsson\\company_final_2.csv', index=False)"
   ]
  },
  {
   "cell_type": "code",
   "execution_count": 60,
   "id": "9fd9451b",
   "metadata": {},
   "outputs": [
    {
     "data": {
      "text/plain": [
       "18.0"
      ]
     },
     "execution_count": 60,
     "metadata": {},
     "output_type": "execute_result"
    }
   ],
   "source": [
    "df['Age'].min()"
   ]
  },
  {
   "cell_type": "code",
   "execution_count": 64,
   "id": "c8a5c444",
   "metadata": {},
   "outputs": [],
   "source": [
    "df=df.drop(df[df['Age']==18.0].index)"
   ]
  },
  {
   "cell_type": "code",
   "execution_count": 65,
   "id": "00e96281",
   "metadata": {},
   "outputs": [
    {
     "data": {
      "text/plain": [
       "20.0"
      ]
     },
     "execution_count": 65,
     "metadata": {},
     "output_type": "execute_result"
    }
   ],
   "source": [
    "df['Age'].min()"
   ]
  },
  {
   "cell_type": "code",
   "execution_count": 66,
   "id": "fa3fadea",
   "metadata": {},
   "outputs": [
    {
     "name": "stdout",
     "output_type": "stream",
     "text": [
      "Requirement already satisfied: pandas in c:\\users\\raghulramesh\\appdata\\local\\programs\\python\\python38\\lib\\site-packages (1.4.2)\n",
      "Requirement already satisfied: numpy>=1.18.5 in c:\\users\\raghulramesh\\appdata\\local\\programs\\python\\python38\\lib\\site-packages (from pandas) (1.22.3)\n",
      "Requirement already satisfied: python-dateutil>=2.8.1 in c:\\users\\raghulramesh\\appdata\\local\\programs\\python\\python38\\lib\\site-packages (from pandas) (2.8.2)\n",
      "Requirement already satisfied: pytz>=2020.1 in c:\\users\\raghulramesh\\appdata\\local\\programs\\python\\python38\\lib\\site-packages (from pandas) (2022.1)\n",
      "Requirement already satisfied: six>=1.5 in c:\\users\\raghulramesh\\appdata\\local\\programs\\python\\python38\\lib\\site-packages (from python-dateutil>=2.8.1->pandas) (1.16.0)\n",
      "Note: you may need to restart the kernel to use updated packages.\n"
     ]
    }
   ],
   "source": [
    "pip install pandas"
   ]
  },
  {
   "cell_type": "code",
   "execution_count": null,
   "id": "089aee15",
   "metadata": {},
   "outputs": [],
   "source": []
  }
 ],
 "metadata": {
  "kernelspec": {
   "display_name": "Python 3 (ipykernel)",
   "language": "python",
   "name": "python3"
  },
  "language_info": {
   "codemirror_mode": {
    "name": "ipython",
    "version": 3
   },
   "file_extension": ".py",
   "mimetype": "text/x-python",
   "name": "python",
   "nbconvert_exporter": "python",
   "pygments_lexer": "ipython3",
   "version": "3.8.10"
  }
 },
 "nbformat": 4,
 "nbformat_minor": 5
}
