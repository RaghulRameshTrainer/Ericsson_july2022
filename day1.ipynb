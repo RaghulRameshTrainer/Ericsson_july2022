{
 "cells": [
  {
   "cell_type": "code",
   "execution_count": null,
   "id": "adba59ab",
   "metadata": {},
   "outputs": [],
   "source": [
    "1995 - java\n",
    "1990  - python\n",
    "\n",
    "100* java = python\n",
    "\n",
    "Python (Django)\n",
    "Tkinter (GUI)\n",
    "Machine Leanring (Python)  1960\n",
    "BigData (Spark - Pyspark)\n",
    "AWS/GCP/AZURE - Python\n",
    "DevOps - Python\n",
    "IOT - Python "
   ]
  },
  {
   "cell_type": "code",
   "execution_count": null,
   "id": "f234499f",
   "metadata": {},
   "outputs": [],
   "source": [
    "Guido Van Rossum - Netherland\n",
    "\n",
    "Monto Python "
   ]
  },
  {
   "cell_type": "code",
   "execution_count": 1,
   "id": "b06d4d3a",
   "metadata": {},
   "outputs": [
    {
     "data": {
      "text/plain": [
       "12"
      ]
     },
     "execution_count": 1,
     "metadata": {},
     "output_type": "execute_result"
    }
   ],
   "source": [
    "5+7"
   ]
  },
  {
   "cell_type": "code",
   "execution_count": 2,
   "id": "c67058d9",
   "metadata": {},
   "outputs": [
    {
     "data": {
      "text/plain": [
       "30"
      ]
     },
     "execution_count": 2,
     "metadata": {},
     "output_type": "execute_result"
    }
   ],
   "source": [
    "5*6"
   ]
  },
  {
   "cell_type": "code",
   "execution_count": 3,
   "id": "d22a7dbd",
   "metadata": {},
   "outputs": [
    {
     "data": {
      "text/plain": [
       "-1"
      ]
     },
     "execution_count": 3,
     "metadata": {},
     "output_type": "execute_result"
    }
   ],
   "source": [
    "5-6"
   ]
  },
  {
   "cell_type": "code",
   "execution_count": 4,
   "id": "2b85cd46",
   "metadata": {},
   "outputs": [
    {
     "data": {
      "text/plain": [
       "0.8333333333333334"
      ]
     },
     "execution_count": 4,
     "metadata": {},
     "output_type": "execute_result"
    }
   ],
   "source": [
    "5/6   #shift+enter"
   ]
  },
  {
   "cell_type": "code",
   "execution_count": 5,
   "id": "3ba11b88",
   "metadata": {},
   "outputs": [
    {
     "data": {
      "text/plain": [
       "11"
      ]
     },
     "execution_count": 5,
     "metadata": {},
     "output_type": "execute_result"
    }
   ],
   "source": [
    "5+6    #ctrl+enter"
   ]
  },
  {
   "cell_type": "code",
   "execution_count": 6,
   "id": "0d93758a",
   "metadata": {},
   "outputs": [
    {
     "data": {
      "text/plain": [
       "11"
      ]
     },
     "execution_count": 6,
     "metadata": {},
     "output_type": "execute_result"
    }
   ],
   "source": [
    "x=5\n",
    "y=6\n",
    "x+y"
   ]
  },
  {
   "cell_type": "code",
   "execution_count": 7,
   "id": "150343c9",
   "metadata": {},
   "outputs": [],
   "source": [
    "name='Raghul Ramesh'"
   ]
  },
  {
   "cell_type": "code",
   "execution_count": 8,
   "id": "77b1cc6c",
   "metadata": {},
   "outputs": [
    {
     "name": "stdout",
     "output_type": "stream",
     "text": [
      "Raghul Ramesh\n"
     ]
    }
   ],
   "source": [
    "print(name)"
   ]
  },
  {
   "cell_type": "code",
   "execution_count": 9,
   "id": "fce20f5e",
   "metadata": {},
   "outputs": [],
   "source": [
    "myname=\"Raghul Ramesh\""
   ]
  },
  {
   "cell_type": "code",
   "execution_count": 10,
   "id": "48c3e40d",
   "metadata": {},
   "outputs": [
    {
     "name": "stdout",
     "output_type": "stream",
     "text": [
      "Raghul Ramesh\n"
     ]
    }
   ],
   "source": [
    "print(myname)"
   ]
  },
  {
   "cell_type": "code",
   "execution_count": 12,
   "id": "b79c7105",
   "metadata": {},
   "outputs": [],
   "source": [
    "college=\"st's joseph engg college\""
   ]
  },
  {
   "cell_type": "code",
   "execution_count": 13,
   "id": "2f5777f8",
   "metadata": {},
   "outputs": [
    {
     "name": "stdout",
     "output_type": "stream",
     "text": [
      "st's joseph engg college\n"
     ]
    }
   ],
   "source": [
    "print(college)"
   ]
  },
  {
   "cell_type": "code",
   "execution_count": 14,
   "id": "3d3b232c",
   "metadata": {},
   "outputs": [],
   "source": [
    "training='Python training program for \"Ericsson\" client'"
   ]
  },
  {
   "cell_type": "code",
   "execution_count": 15,
   "id": "9601031b",
   "metadata": {},
   "outputs": [
    {
     "name": "stdout",
     "output_type": "stream",
     "text": [
      "Python training program for \"Ericsson\" client\n"
     ]
    }
   ],
   "source": [
    "print(training)"
   ]
  },
  {
   "cell_type": "code",
   "execution_count": 19,
   "id": "12a03c3e",
   "metadata": {},
   "outputs": [],
   "source": [
    "text='Python for \"Ecrisson\" client and the duration is \\'5 days\\''"
   ]
  },
  {
   "cell_type": "code",
   "execution_count": 20,
   "id": "ff2c8529",
   "metadata": {},
   "outputs": [
    {
     "name": "stdout",
     "output_type": "stream",
     "text": [
      "Python for \"Ecrisson\" client and the duration is '5 days'\n"
     ]
    }
   ],
   "source": [
    "print(text)"
   ]
  },
  {
   "cell_type": "code",
   "execution_count": 22,
   "id": "b855adbc",
   "metadata": {},
   "outputs": [],
   "source": [
    "info=\"\"\" Python is a high level, dynamic, procedural and object oriented programming langauge\n",
    "It was developed by Guido Van Rossum from Netherland\n",
    "and it was released on early 1990\"\"\""
   ]
  },
  {
   "cell_type": "code",
   "execution_count": 25,
   "id": "b6e0dc6a",
   "metadata": {},
   "outputs": [
    {
     "name": "stdout",
     "output_type": "stream",
     "text": [
      " Python is a high level, dynamic, procedural and object oriented programming langauge\n",
      "It was developed by Guido Van Rossum from Netherland\n",
      "and it was released on early 1990\n"
     ]
    }
   ],
   "source": [
    "print(info)"
   ]
  },
  {
   "cell_type": "code",
   "execution_count": 26,
   "id": "129d1991",
   "metadata": {},
   "outputs": [
    {
     "data": {
      "text/plain": [
       "' Python is a high level, dynamic, procedural and object oriented programming langauge\\nIt was developed by Guido Van Rossum from Netherland\\nand it was released on early 1990'"
      ]
     },
     "execution_count": 26,
     "metadata": {},
     "output_type": "execute_result"
    }
   ],
   "source": [
    "''' Python is a high level, dynamic, procedural and object oriented programming langauge\n",
    "It was developed by Guido Van Rossum from Netherland\n",
    "and it was released on early 1990'''"
   ]
  },
  {
   "cell_type": "code",
   "execution_count": 27,
   "id": "710c7172",
   "metadata": {},
   "outputs": [],
   "source": [
    "# Python Introduction"
   ]
  },
  {
   "cell_type": "markdown",
   "id": "da8bd3b9",
   "metadata": {},
   "source": [
    "# Control Statment (if..else)"
   ]
  },
  {
   "cell_type": "code",
   "execution_count": null,
   "id": "2cfb0d84",
   "metadata": {},
   "outputs": [],
   "source": [
    "sytax:\n",
    "\n",
    "if (condition)\n",
    "{\n",
    "    #true statements\n",
    "} else {\n",
    "    # else statements\n",
    "}\n",
    "\n",
    "Python:\n",
    "    \n",
    "if condition:\n",
    "    #statement1\n",
    "    #statement2\n",
    "else:\n",
    "    #statement3\n",
    "    #statement4\n"
   ]
  },
  {
   "cell_type": "code",
   "execution_count": 44,
   "id": "a550abf3",
   "metadata": {},
   "outputs": [
    {
     "name": "stdout",
     "output_type": "stream",
     "text": [
      "x is not 10\n",
      "Thanks\n"
     ]
    }
   ],
   "source": [
    "x=100\n",
    "\n",
    "if x==10:\n",
    "    print(\"x is 10\")\n",
    "else:\n",
    "    print(\"x is not 10\")\n",
    "    \n",
    "print(\"Thanks\")"
   ]
  },
  {
   "cell_type": "code",
   "execution_count": 52,
   "id": "0bd0a92a",
   "metadata": {},
   "outputs": [
    {
     "name": "stdout",
     "output_type": "stream",
     "text": [
      "It is 100 or above\n"
     ]
    }
   ],
   "source": [
    "x=555\n",
    "\n",
    "if x==0:\n",
    "    print(\"x is 0\")\n",
    "elif x > 0 and x < 10:\n",
    "    print(\"it is a single digit number\")\n",
    "elif x >= 10 and x < 100:\n",
    "    print(\"it is 2 digit number\")\n",
    "elif x>=100:\n",
    "    print(\"It is 100 or above\")\n",
    "else:\n",
    "    print(\"The value of x is negative\")"
   ]
  },
  {
   "cell_type": "markdown",
   "id": "3191da69",
   "metadata": {},
   "source": [
    "# LOOPS"
   ]
  },
  {
   "cell_type": "code",
   "execution_count": 2,
   "id": "659a3cfd",
   "metadata": {},
   "outputs": [
    {
     "name": "stdout",
     "output_type": "stream",
     "text": [
      "0 1 2 3 4 5 6 7 8 9 10 "
     ]
    }
   ],
   "source": [
    "# while and for\n",
    "\n",
    "x=0\n",
    "\n",
    "while x<=10:\n",
    "    print(x,end=' ')    #0,1,2.......10\n",
    "    x=x+1       #1,2,3......11"
   ]
  },
  {
   "cell_type": "code",
   "execution_count": 13,
   "id": "b9de5a8a",
   "metadata": {},
   "outputs": [
    {
     "name": "stdout",
     "output_type": "stream",
     "text": [
      "0 2 4 6 8 10 "
     ]
    }
   ],
   "source": [
    "#all even numbers from 0 .. 100\n",
    "\n",
    "x=0\n",
    "\n",
    "while x <= 10:\n",
    "    print(x, end=' ')\n",
    "    x+=2  # x=x+2"
   ]
  },
  {
   "cell_type": "code",
   "execution_count": 6,
   "id": "eadbcae4",
   "metadata": {},
   "outputs": [
    {
     "name": "stdout",
     "output_type": "stream",
     "text": [
      "10\n",
      "9\n",
      "8\n",
      "7\n",
      "6\n",
      "5\n",
      "4\n",
      "3\n",
      "2\n",
      "1\n",
      "0\n"
     ]
    }
   ],
   "source": [
    "x=10\n",
    "\n",
    "while x>=0:\n",
    "    print(x)\n",
    "    x-=1"
   ]
  },
  {
   "cell_type": "code",
   "execution_count": 7,
   "id": "455dc33b",
   "metadata": {},
   "outputs": [],
   "source": [
    "city=['Chennai','Banaglore','Hyderabad','Pune','Gurgaon']"
   ]
  },
  {
   "cell_type": "code",
   "execution_count": 8,
   "id": "ea8645c8",
   "metadata": {},
   "outputs": [
    {
     "name": "stdout",
     "output_type": "stream",
     "text": [
      "Chennai\n",
      "Banaglore\n",
      "Hyderabad\n",
      "Pune\n",
      "Gurgaon\n"
     ]
    }
   ],
   "source": [
    "for x in city:\n",
    "    print(x)"
   ]
  },
  {
   "cell_type": "code",
   "execution_count": null,
   "id": "7789e195",
   "metadata": {},
   "outputs": [],
   "source": [
    "# for var in collection/sequence:\n",
    "#     statements"
   ]
  },
  {
   "cell_type": "markdown",
   "id": "84d7c245",
   "metadata": {},
   "source": [
    "# break and continue"
   ]
  },
  {
   "cell_type": "code",
   "execution_count": 11,
   "id": "9033a58c",
   "metadata": {},
   "outputs": [
    {
     "name": "stdout",
     "output_type": "stream",
     "text": [
      "0\n",
      "1\n",
      "2\n",
      "3\n",
      "4\n",
      "I am the next line and not part of the loops\n"
     ]
    }
   ],
   "source": [
    "x=0\n",
    "\n",
    "while x<=10:\n",
    "    if x==5:\n",
    "        break\n",
    "    print(x)\n",
    "    x+=1\n",
    "    \n",
    "print(\"I am the next line and not part of the loops\")"
   ]
  },
  {
   "cell_type": "code",
   "execution_count": 12,
   "id": "19709163",
   "metadata": {},
   "outputs": [
    {
     "name": "stdout",
     "output_type": "stream",
     "text": [
      "1\n",
      "2\n",
      "3\n",
      "4\n",
      "6\n",
      "7\n",
      "8\n",
      "9\n",
      "10\n",
      "11\n",
      "I am the next line and not part of the loops\n"
     ]
    }
   ],
   "source": [
    "x=0\n",
    "\n",
    "while x<=10:\n",
    "    x+=1\n",
    "    if x==5:\n",
    "        continue\n",
    "    print(x)\n",
    "    \n",
    "    \n",
    "print(\"I am the next line and not part of the loops\")"
   ]
  },
  {
   "cell_type": "markdown",
   "id": "d76f4b7a",
   "metadata": {},
   "source": [
    "# input"
   ]
  },
  {
   "cell_type": "code",
   "execution_count": 20,
   "id": "d9b0a1a9",
   "metadata": {},
   "outputs": [
    {
     "name": "stdout",
     "output_type": "stream",
     "text": [
      "Enter your name:Ashwin\n",
      "Your name is : Ashwin\n",
      "<class 'str'>\n"
     ]
    }
   ],
   "source": [
    "name=input(\"Enter your name:\")\n",
    "print(\"Your name is :\",name)\n",
    "print(type(name))"
   ]
  },
  {
   "cell_type": "code",
   "execution_count": 22,
   "id": "b37d7440",
   "metadata": {},
   "outputs": [
    {
     "name": "stdout",
     "output_type": "stream",
     "text": [
      "Enter your age:38\n",
      "Your age is : 38\n",
      "<class 'int'>\n"
     ]
    }
   ],
   "source": [
    "age=int(input(\"Enter your age:\"))\n",
    "print(\"Your age is :\",age)\n",
    "print(type(age))"
   ]
  },
  {
   "cell_type": "markdown",
   "id": "65931516",
   "metadata": {},
   "source": [
    "# range"
   ]
  },
  {
   "cell_type": "code",
   "execution_count": 28,
   "id": "c691ef85",
   "metadata": {},
   "outputs": [
    {
     "name": "stdout",
     "output_type": "stream",
     "text": [
      "1 3 5 7 9 "
     ]
    }
   ],
   "source": [
    "#range(1,10) # The upper value is always exclussive\n",
    "\n",
    "for x in range(1,11,2):\n",
    "    print(x, end =' ')"
   ]
  },
  {
   "cell_type": "code",
   "execution_count": 29,
   "id": "31a8606b",
   "metadata": {},
   "outputs": [
    {
     "name": "stdout",
     "output_type": "stream",
     "text": [
      "1 4 7 10 "
     ]
    }
   ],
   "source": [
    "for x in range(1,11,3):   # step value\n",
    "    print(x, end =' ')"
   ]
  },
  {
   "cell_type": "code",
   "execution_count": 35,
   "id": "97157cd6",
   "metadata": {},
   "outputs": [
    {
     "name": "stdout",
     "output_type": "stream",
     "text": [
      "1 6 "
     ]
    }
   ],
   "source": [
    "for x in range(1,11,5):   # step value\n",
    "    print(x, end =' ')"
   ]
  },
  {
   "cell_type": "code",
   "execution_count": 37,
   "id": "f36e1997",
   "metadata": {},
   "outputs": [
    {
     "name": "stdout",
     "output_type": "stream",
     "text": [
      "10 11 12 13 14 15 16 17 18 19 20 "
     ]
    }
   ],
   "source": [
    "for x in range(10,21):\n",
    "    print(x, end = ' ')"
   ]
  },
  {
   "cell_type": "code",
   "execution_count": null,
   "id": "be6a465a",
   "metadata": {},
   "outputs": [],
   "source": [
    "\"\"\"\n",
    "Data Structure\n",
    "   - Immuatable\n",
    "       -Numbers\n",
    "       -Strings\n",
    "       -Tuple\n",
    "   - Mutable\n",
    "       -List\n",
    "       -Dictionary\n",
    "       -Set\n",
    "\"\"\""
   ]
  },
  {
   "cell_type": "code",
   "execution_count": null,
   "id": "5b52cd6a",
   "metadata": {},
   "outputs": [],
   "source": [
    "'''\n",
    "Number - Operators\n",
    "    Arithmetic Operator (+-,*,/, ** ,%, //)\n",
    "    Assignment (=)\n",
    "    Comparison (== , !=, > , >= , < , <=)\n",
    "    Binary Operator( &, |, ^)\n",
    "    Membership (in, not in)\n",
    "    Idendity (is , is not)\n",
    "'''"
   ]
  },
  {
   "cell_type": "markdown",
   "id": "c879cffc",
   "metadata": {},
   "source": [
    "# Arithmetic Operator"
   ]
  },
  {
   "cell_type": "code",
   "execution_count": 38,
   "id": "7179fe15",
   "metadata": {},
   "outputs": [
    {
     "data": {
      "text/plain": [
       "30"
      ]
     },
     "execution_count": 38,
     "metadata": {},
     "output_type": "execute_result"
    }
   ],
   "source": [
    "10+20"
   ]
  },
  {
   "cell_type": "code",
   "execution_count": 39,
   "id": "3ed8f790",
   "metadata": {},
   "outputs": [
    {
     "data": {
      "text/plain": [
       "-10"
      ]
     },
     "execution_count": 39,
     "metadata": {},
     "output_type": "execute_result"
    }
   ],
   "source": [
    "10-20"
   ]
  },
  {
   "cell_type": "code",
   "execution_count": 40,
   "id": "4cd627a8",
   "metadata": {},
   "outputs": [
    {
     "data": {
      "text/plain": [
       "0.5"
      ]
     },
     "execution_count": 40,
     "metadata": {},
     "output_type": "execute_result"
    }
   ],
   "source": [
    "10/20"
   ]
  },
  {
   "cell_type": "code",
   "execution_count": 41,
   "id": "82c9d2f1",
   "metadata": {},
   "outputs": [
    {
     "data": {
      "text/plain": [
       "200"
      ]
     },
     "execution_count": 41,
     "metadata": {},
     "output_type": "execute_result"
    }
   ],
   "source": [
    "10*20"
   ]
  },
  {
   "cell_type": "code",
   "execution_count": 42,
   "id": "ef8e87fc",
   "metadata": {},
   "outputs": [
    {
     "data": {
      "text/plain": [
       "125"
      ]
     },
     "execution_count": 42,
     "metadata": {},
     "output_type": "execute_result"
    }
   ],
   "source": [
    "5**3   #5*5*5"
   ]
  },
  {
   "cell_type": "code",
   "execution_count": 43,
   "id": "957083f7",
   "metadata": {},
   "outputs": [
    {
     "data": {
      "text/plain": [
       "3125"
      ]
     },
     "execution_count": 43,
     "metadata": {},
     "output_type": "execute_result"
    }
   ],
   "source": [
    "5**5"
   ]
  },
  {
   "cell_type": "code",
   "execution_count": 44,
   "id": "2af23dc6",
   "metadata": {},
   "outputs": [
    {
     "data": {
      "text/plain": [
       "0"
      ]
     },
     "execution_count": 44,
     "metadata": {},
     "output_type": "execute_result"
    }
   ],
   "source": [
    "10%2"
   ]
  },
  {
   "cell_type": "code",
   "execution_count": 45,
   "id": "2faea251",
   "metadata": {},
   "outputs": [
    {
     "data": {
      "text/plain": [
       "1"
      ]
     },
     "execution_count": 45,
     "metadata": {},
     "output_type": "execute_result"
    }
   ],
   "source": [
    "11%2"
   ]
  },
  {
   "cell_type": "code",
   "execution_count": 46,
   "id": "fd326b42",
   "metadata": {},
   "outputs": [
    {
     "data": {
      "text/plain": [
       "1"
      ]
     },
     "execution_count": 46,
     "metadata": {},
     "output_type": "execute_result"
    }
   ],
   "source": [
    "65767%2"
   ]
  },
  {
   "cell_type": "code",
   "execution_count": 47,
   "id": "74e1e7ae",
   "metadata": {},
   "outputs": [
    {
     "data": {
      "text/plain": [
       "5"
      ]
     },
     "execution_count": 47,
     "metadata": {},
     "output_type": "execute_result"
    }
   ],
   "source": [
    "11//2"
   ]
  },
  {
   "cell_type": "code",
   "execution_count": 48,
   "id": "d73867fe",
   "metadata": {},
   "outputs": [
    {
     "data": {
      "text/plain": [
       "8"
      ]
     },
     "execution_count": 48,
     "metadata": {},
     "output_type": "execute_result"
    }
   ],
   "source": [
    "26//3"
   ]
  },
  {
   "cell_type": "code",
   "execution_count": 49,
   "id": "1edfaf0d",
   "metadata": {},
   "outputs": [
    {
     "data": {
      "text/plain": [
       "13.2"
      ]
     },
     "execution_count": 49,
     "metadata": {},
     "output_type": "execute_result"
    }
   ],
   "source": [
    "5.6+7.6"
   ]
  },
  {
   "cell_type": "code",
   "execution_count": 50,
   "id": "98e2223b",
   "metadata": {},
   "outputs": [
    {
     "data": {
      "text/plain": [
       "-5.9"
      ]
     },
     "execution_count": 50,
     "metadata": {},
     "output_type": "execute_result"
    }
   ],
   "source": [
    "3.6-9.5"
   ]
  },
  {
   "cell_type": "code",
   "execution_count": 51,
   "id": "5e7fa218",
   "metadata": {},
   "outputs": [
    {
     "data": {
      "text/plain": [
       "34.2"
      ]
     },
     "execution_count": 51,
     "metadata": {},
     "output_type": "execute_result"
    }
   ],
   "source": [
    "3.6*9.5"
   ]
  },
  {
   "cell_type": "code",
   "execution_count": 52,
   "id": "481efdeb",
   "metadata": {},
   "outputs": [
    {
     "data": {
      "text/plain": [
       "0.5"
      ]
     },
     "execution_count": 52,
     "metadata": {},
     "output_type": "execute_result"
    }
   ],
   "source": [
    "10.5%2"
   ]
  },
  {
   "cell_type": "code",
   "execution_count": 53,
   "id": "a3436733",
   "metadata": {},
   "outputs": [
    {
     "data": {
      "text/plain": [
       "5.0"
      ]
     },
     "execution_count": 53,
     "metadata": {},
     "output_type": "execute_result"
    }
   ],
   "source": [
    "10.5//2"
   ]
  },
  {
   "cell_type": "markdown",
   "id": "9ddf9917",
   "metadata": {},
   "source": [
    "# Assignment Operator"
   ]
  },
  {
   "cell_type": "code",
   "execution_count": 54,
   "id": "f02adebd",
   "metadata": {},
   "outputs": [],
   "source": [
    "x=10"
   ]
  },
  {
   "cell_type": "code",
   "execution_count": 55,
   "id": "822de164",
   "metadata": {},
   "outputs": [
    {
     "data": {
      "text/plain": [
       "10"
      ]
     },
     "execution_count": 55,
     "metadata": {},
     "output_type": "execute_result"
    }
   ],
   "source": [
    "x"
   ]
  },
  {
   "cell_type": "code",
   "execution_count": 56,
   "id": "05103dcc",
   "metadata": {},
   "outputs": [],
   "source": [
    "y=x*2"
   ]
  },
  {
   "cell_type": "code",
   "execution_count": 57,
   "id": "84909238",
   "metadata": {},
   "outputs": [
    {
     "data": {
      "text/plain": [
       "20"
      ]
     },
     "execution_count": 57,
     "metadata": {},
     "output_type": "execute_result"
    }
   ],
   "source": [
    "y"
   ]
  },
  {
   "cell_type": "code",
   "execution_count": 58,
   "id": "adb82d09",
   "metadata": {},
   "outputs": [],
   "source": [
    "z=x+y"
   ]
  },
  {
   "cell_type": "code",
   "execution_count": 59,
   "id": "84a6b6df",
   "metadata": {},
   "outputs": [
    {
     "data": {
      "text/plain": [
       "30"
      ]
     },
     "execution_count": 59,
     "metadata": {},
     "output_type": "execute_result"
    }
   ],
   "source": [
    "z"
   ]
  },
  {
   "cell_type": "markdown",
   "id": "b073772a",
   "metadata": {},
   "source": [
    "# Comparison  Operator"
   ]
  },
  {
   "cell_type": "code",
   "execution_count": 60,
   "id": "3e3f1ee8",
   "metadata": {},
   "outputs": [
    {
     "data": {
      "text/plain": [
       "10"
      ]
     },
     "execution_count": 60,
     "metadata": {},
     "output_type": "execute_result"
    }
   ],
   "source": [
    "x"
   ]
  },
  {
   "cell_type": "code",
   "execution_count": 61,
   "id": "ad81d950",
   "metadata": {},
   "outputs": [
    {
     "data": {
      "text/plain": [
       "True"
      ]
     },
     "execution_count": 61,
     "metadata": {},
     "output_type": "execute_result"
    }
   ],
   "source": [
    "x == 10"
   ]
  },
  {
   "cell_type": "code",
   "execution_count": 62,
   "id": "b366ad36",
   "metadata": {},
   "outputs": [
    {
     "data": {
      "text/plain": [
       "True"
      ]
     },
     "execution_count": 62,
     "metadata": {},
     "output_type": "execute_result"
    }
   ],
   "source": [
    "x != 0"
   ]
  },
  {
   "cell_type": "code",
   "execution_count": 63,
   "id": "afa00564",
   "metadata": {},
   "outputs": [
    {
     "data": {
      "text/plain": [
       "False"
      ]
     },
     "execution_count": 63,
     "metadata": {},
     "output_type": "execute_result"
    }
   ],
   "source": [
    "x != 10"
   ]
  },
  {
   "cell_type": "code",
   "execution_count": 64,
   "id": "52a8ee46",
   "metadata": {},
   "outputs": [
    {
     "data": {
      "text/plain": [
       "True"
      ]
     },
     "execution_count": 64,
     "metadata": {},
     "output_type": "execute_result"
    }
   ],
   "source": [
    "x > 0"
   ]
  },
  {
   "cell_type": "code",
   "execution_count": 65,
   "id": "46c00a66",
   "metadata": {},
   "outputs": [
    {
     "data": {
      "text/plain": [
       "True"
      ]
     },
     "execution_count": 65,
     "metadata": {},
     "output_type": "execute_result"
    }
   ],
   "source": [
    "x < 100"
   ]
  },
  {
   "cell_type": "code",
   "execution_count": 66,
   "id": "1b231c9f",
   "metadata": {},
   "outputs": [
    {
     "data": {
      "text/plain": [
       "False"
      ]
     },
     "execution_count": 66,
     "metadata": {},
     "output_type": "execute_result"
    }
   ],
   "source": [
    "x < 0"
   ]
  },
  {
   "cell_type": "markdown",
   "id": "c4b2d11f",
   "metadata": {},
   "source": [
    "# Membership Operator"
   ]
  },
  {
   "cell_type": "code",
   "execution_count": 67,
   "id": "bcead5aa",
   "metadata": {},
   "outputs": [],
   "source": [
    "nums=[1,3,4,5,68,9,0,5,4,2,1,133,113,1,100,200,33,45,5,6]"
   ]
  },
  {
   "cell_type": "code",
   "execution_count": 68,
   "id": "61c17151",
   "metadata": {},
   "outputs": [
    {
     "data": {
      "text/plain": [
       "True"
      ]
     },
     "execution_count": 68,
     "metadata": {},
     "output_type": "execute_result"
    }
   ],
   "source": [
    "100 in nums"
   ]
  },
  {
   "cell_type": "code",
   "execution_count": 69,
   "id": "7c887d46",
   "metadata": {},
   "outputs": [
    {
     "data": {
      "text/plain": [
       "False"
      ]
     },
     "execution_count": 69,
     "metadata": {},
     "output_type": "execute_result"
    }
   ],
   "source": [
    "1000 in nums"
   ]
  },
  {
   "cell_type": "code",
   "execution_count": 70,
   "id": "83e00412",
   "metadata": {},
   "outputs": [
    {
     "data": {
      "text/plain": [
       "14"
      ]
     },
     "execution_count": 70,
     "metadata": {},
     "output_type": "execute_result"
    }
   ],
   "source": [
    "nums.index(100)"
   ]
  },
  {
   "cell_type": "code",
   "execution_count": 71,
   "id": "97e93540",
   "metadata": {},
   "outputs": [
    {
     "data": {
      "text/plain": [
       "False"
      ]
     },
     "execution_count": 71,
     "metadata": {},
     "output_type": "execute_result"
    }
   ],
   "source": [
    "7 in nums"
   ]
  },
  {
   "cell_type": "code",
   "execution_count": 72,
   "id": "67561ca1",
   "metadata": {},
   "outputs": [
    {
     "data": {
      "text/plain": [
       "True"
      ]
     },
     "execution_count": 72,
     "metadata": {},
     "output_type": "execute_result"
    }
   ],
   "source": [
    "7 not in nums"
   ]
  },
  {
   "cell_type": "markdown",
   "id": "94e674e6",
   "metadata": {},
   "source": [
    "# Idendity operators"
   ]
  },
  {
   "cell_type": "code",
   "execution_count": 73,
   "id": "e262295c",
   "metadata": {},
   "outputs": [
    {
     "data": {
      "text/plain": [
       "10"
      ]
     },
     "execution_count": 73,
     "metadata": {},
     "output_type": "execute_result"
    }
   ],
   "source": [
    "x"
   ]
  },
  {
   "cell_type": "code",
   "execution_count": 74,
   "id": "6fe765bb",
   "metadata": {},
   "outputs": [
    {
     "name": "stderr",
     "output_type": "stream",
     "text": [
      "<>:1: SyntaxWarning: \"is\" with a literal. Did you mean \"==\"?\n",
      "<>:1: SyntaxWarning: \"is\" with a literal. Did you mean \"==\"?\n",
      "C:\\Users\\RaghulRamesh\\AppData\\Local\\Temp\\ipykernel_20204\\2183931627.py:1: SyntaxWarning: \"is\" with a literal. Did you mean \"==\"?\n",
      "  x is 10\n"
     ]
    },
    {
     "data": {
      "text/plain": [
       "True"
      ]
     },
     "execution_count": 74,
     "metadata": {},
     "output_type": "execute_result"
    }
   ],
   "source": [
    "x is 10"
   ]
  },
  {
   "cell_type": "code",
   "execution_count": 75,
   "id": "94f2166d",
   "metadata": {},
   "outputs": [
    {
     "name": "stderr",
     "output_type": "stream",
     "text": [
      "<>:1: SyntaxWarning: \"is not\" with a literal. Did you mean \"!=\"?\n",
      "<>:1: SyntaxWarning: \"is not\" with a literal. Did you mean \"!=\"?\n",
      "C:\\Users\\RaghulRamesh\\AppData\\Local\\Temp\\ipykernel_20204\\3306646882.py:1: SyntaxWarning: \"is not\" with a literal. Did you mean \"!=\"?\n",
      "  x is not 0\n"
     ]
    },
    {
     "data": {
      "text/plain": [
       "True"
      ]
     },
     "execution_count": 75,
     "metadata": {},
     "output_type": "execute_result"
    }
   ],
   "source": [
    "x is not 0"
   ]
  },
  {
   "cell_type": "code",
   "execution_count": 76,
   "id": "aeeee382",
   "metadata": {},
   "outputs": [
    {
     "name": "stderr",
     "output_type": "stream",
     "text": [
      "<>:1: SyntaxWarning: \"is\" with a literal. Did you mean \"==\"?\n",
      "<>:1: SyntaxWarning: \"is\" with a literal. Did you mean \"==\"?\n",
      "C:\\Users\\RaghulRamesh\\AppData\\Local\\Temp\\ipykernel_20204\\1069372017.py:1: SyntaxWarning: \"is\" with a literal. Did you mean \"==\"?\n",
      "  x is 100\n"
     ]
    },
    {
     "data": {
      "text/plain": [
       "False"
      ]
     },
     "execution_count": 76,
     "metadata": {},
     "output_type": "execute_result"
    }
   ],
   "source": [
    "x is 100"
   ]
  },
  {
   "cell_type": "code",
   "execution_count": 77,
   "id": "aff259d5",
   "metadata": {},
   "outputs": [
    {
     "name": "stderr",
     "output_type": "stream",
     "text": [
      "<>:1: SyntaxWarning: \"is not\" with a literal. Did you mean \"!=\"?\n",
      "<>:1: SyntaxWarning: \"is not\" with a literal. Did you mean \"!=\"?\n",
      "C:\\Users\\RaghulRamesh\\AppData\\Local\\Temp\\ipykernel_20204\\1660080432.py:1: SyntaxWarning: \"is not\" with a literal. Did you mean \"!=\"?\n",
      "  x is not 10\n"
     ]
    },
    {
     "data": {
      "text/plain": [
       "False"
      ]
     },
     "execution_count": 77,
     "metadata": {},
     "output_type": "execute_result"
    }
   ],
   "source": [
    "x is not 10"
   ]
  },
  {
   "cell_type": "markdown",
   "id": "692ac131",
   "metadata": {},
   "source": [
    "# binary operators"
   ]
  },
  {
   "cell_type": "code",
   "execution_count": 78,
   "id": "a752f0d2",
   "metadata": {},
   "outputs": [
    {
     "data": {
      "text/plain": [
       "4"
      ]
     },
     "execution_count": 78,
     "metadata": {},
     "output_type": "execute_result"
    }
   ],
   "source": [
    "5 & 6"
   ]
  },
  {
   "cell_type": "code",
   "execution_count": 79,
   "id": "0209db17",
   "metadata": {},
   "outputs": [
    {
     "data": {
      "text/plain": [
       "7"
      ]
     },
     "execution_count": 79,
     "metadata": {},
     "output_type": "execute_result"
    }
   ],
   "source": [
    "5 | 6"
   ]
  },
  {
   "cell_type": "code",
   "execution_count": 80,
   "id": "df5c04e4",
   "metadata": {},
   "outputs": [
    {
     "data": {
      "text/plain": [
       "3"
      ]
     },
     "execution_count": 80,
     "metadata": {},
     "output_type": "execute_result"
    }
   ],
   "source": [
    "5 ^ 6"
   ]
  },
  {
   "cell_type": "markdown",
   "id": "1ce10254",
   "metadata": {},
   "source": [
    "# STRING "
   ]
  },
  {
   "cell_type": "code",
   "execution_count": 82,
   "id": "df9349f4",
   "metadata": {},
   "outputs": [],
   "source": [
    "name=\"Raghul Ramesh\""
   ]
  },
  {
   "cell_type": "code",
   "execution_count": 83,
   "id": "b582f921",
   "metadata": {},
   "outputs": [
    {
     "data": {
      "text/plain": [
       "13"
      ]
     },
     "execution_count": 83,
     "metadata": {},
     "output_type": "execute_result"
    }
   ],
   "source": [
    "len(name)"
   ]
  },
  {
   "cell_type": "code",
   "execution_count": 85,
   "id": "9c6d689f",
   "metadata": {},
   "outputs": [
    {
     "data": {
      "text/plain": [
       "'R'"
      ]
     },
     "execution_count": 85,
     "metadata": {},
     "output_type": "execute_result"
    }
   ],
   "source": [
    "name[0]"
   ]
  },
  {
   "cell_type": "code",
   "execution_count": 86,
   "id": "a6bf1404",
   "metadata": {},
   "outputs": [
    {
     "data": {
      "text/plain": [
       "'a'"
      ]
     },
     "execution_count": 86,
     "metadata": {},
     "output_type": "execute_result"
    }
   ],
   "source": [
    "name[1]"
   ]
  },
  {
   "cell_type": "code",
   "execution_count": 87,
   "id": "82ddc492",
   "metadata": {},
   "outputs": [
    {
     "data": {
      "text/plain": [
       "'g'"
      ]
     },
     "execution_count": 87,
     "metadata": {},
     "output_type": "execute_result"
    }
   ],
   "source": [
    "name[2]"
   ]
  },
  {
   "cell_type": "code",
   "execution_count": 88,
   "id": "9f03be7e",
   "metadata": {},
   "outputs": [
    {
     "data": {
      "text/plain": [
       "'Raghul Ramesh'"
      ]
     },
     "execution_count": 88,
     "metadata": {},
     "output_type": "execute_result"
    }
   ],
   "source": [
    "name"
   ]
  },
  {
   "cell_type": "code",
   "execution_count": 89,
   "id": "af2bf7d4",
   "metadata": {},
   "outputs": [
    {
     "data": {
      "text/plain": [
       "'h'"
      ]
     },
     "execution_count": 89,
     "metadata": {},
     "output_type": "execute_result"
    }
   ],
   "source": [
    "name[-1]"
   ]
  },
  {
   "cell_type": "code",
   "execution_count": 90,
   "id": "da20f6d9",
   "metadata": {},
   "outputs": [
    {
     "data": {
      "text/plain": [
       "'s'"
      ]
     },
     "execution_count": 90,
     "metadata": {},
     "output_type": "execute_result"
    }
   ],
   "source": [
    "name[-2]"
   ]
  },
  {
   "cell_type": "code",
   "execution_count": 91,
   "id": "e3b2ca39",
   "metadata": {},
   "outputs": [
    {
     "data": {
      "text/plain": [
       "'e'"
      ]
     },
     "execution_count": 91,
     "metadata": {},
     "output_type": "execute_result"
    }
   ],
   "source": [
    "name[-3]"
   ]
  },
  {
   "cell_type": "code",
   "execution_count": 92,
   "id": "d2f653a4",
   "metadata": {},
   "outputs": [
    {
     "data": {
      "text/plain": [
       "'Raghul Ramesh'"
      ]
     },
     "execution_count": 92,
     "metadata": {},
     "output_type": "execute_result"
    }
   ],
   "source": [
    "name"
   ]
  },
  {
   "cell_type": "code",
   "execution_count": 93,
   "id": "b4adc86c",
   "metadata": {},
   "outputs": [
    {
     "data": {
      "text/plain": [
       "' '"
      ]
     },
     "execution_count": 93,
     "metadata": {},
     "output_type": "execute_result"
    }
   ],
   "source": [
    "name[6]"
   ]
  },
  {
   "cell_type": "code",
   "execution_count": 95,
   "id": "903c4fd9",
   "metadata": {},
   "outputs": [
    {
     "data": {
      "text/plain": [
       "'Raghul'"
      ]
     },
     "execution_count": 95,
     "metadata": {},
     "output_type": "execute_result"
    }
   ],
   "source": [
    "name[0:6]"
   ]
  },
  {
   "cell_type": "code",
   "execution_count": 96,
   "id": "19122f90",
   "metadata": {},
   "outputs": [
    {
     "data": {
      "text/plain": [
       "'Raghul'"
      ]
     },
     "execution_count": 96,
     "metadata": {},
     "output_type": "execute_result"
    }
   ],
   "source": [
    "name[:6]"
   ]
  },
  {
   "cell_type": "code",
   "execution_count": 111,
   "id": "73ab34eb",
   "metadata": {},
   "outputs": [
    {
     "data": {
      "text/plain": [
       "'R luhgaR'"
      ]
     },
     "execution_count": 111,
     "metadata": {},
     "output_type": "execute_result"
    }
   ],
   "source": [
    "name[7::-1]"
   ]
  },
  {
   "cell_type": "code",
   "execution_count": 118,
   "id": "8e9c6fab",
   "metadata": {},
   "outputs": [
    {
     "data": {
      "text/plain": [
       "'hsemaR'"
      ]
     },
     "execution_count": 118,
     "metadata": {},
     "output_type": "execute_result"
    }
   ],
   "source": [
    "name[7:13][::-1]"
   ]
  },
  {
   "cell_type": "code",
   "execution_count": 101,
   "id": "d3bcfde8",
   "metadata": {},
   "outputs": [
    {
     "data": {
      "text/plain": [
       "'Raghul Ramesh'"
      ]
     },
     "execution_count": 101,
     "metadata": {},
     "output_type": "execute_result"
    }
   ],
   "source": [
    "name"
   ]
  },
  {
   "cell_type": "code",
   "execution_count": 103,
   "id": "4d4085c9",
   "metadata": {},
   "outputs": [
    {
     "data": {
      "text/plain": [
       "'Rgu aeh'"
      ]
     },
     "execution_count": 103,
     "metadata": {},
     "output_type": "execute_result"
    }
   ],
   "source": [
    "name[::2]"
   ]
  },
  {
   "cell_type": "code",
   "execution_count": 104,
   "id": "6287fad9",
   "metadata": {},
   "outputs": [
    {
     "data": {
      "text/plain": [
       "'Raghul Ramesh'"
      ]
     },
     "execution_count": 104,
     "metadata": {},
     "output_type": "execute_result"
    }
   ],
   "source": [
    "name"
   ]
  },
  {
   "cell_type": "code",
   "execution_count": 105,
   "id": "b7ebfb36",
   "metadata": {},
   "outputs": [
    {
     "data": {
      "text/plain": [
       "'Rh mh'"
      ]
     },
     "execution_count": 105,
     "metadata": {},
     "output_type": "execute_result"
    }
   ],
   "source": [
    "name[::3]"
   ]
  },
  {
   "cell_type": "code",
   "execution_count": 106,
   "id": "12be1448",
   "metadata": {},
   "outputs": [
    {
     "data": {
      "text/plain": [
       "'Raghul Ramesh'"
      ]
     },
     "execution_count": 106,
     "metadata": {},
     "output_type": "execute_result"
    }
   ],
   "source": [
    "name"
   ]
  },
  {
   "cell_type": "code",
   "execution_count": 107,
   "id": "6460ed36",
   "metadata": {},
   "outputs": [
    {
     "data": {
      "text/plain": [
       "'Ramesh'"
      ]
     },
     "execution_count": 107,
     "metadata": {},
     "output_type": "execute_result"
    }
   ],
   "source": [
    "name[-6:]"
   ]
  },
  {
   "cell_type": "code",
   "execution_count": 108,
   "id": "2cbae3d2",
   "metadata": {},
   "outputs": [
    {
     "data": {
      "text/plain": [
       "'Ram'"
      ]
     },
     "execution_count": 108,
     "metadata": {},
     "output_type": "execute_result"
    }
   ],
   "source": [
    "name[-6:-3]"
   ]
  },
  {
   "cell_type": "code",
   "execution_count": 109,
   "id": "bd37fd63",
   "metadata": {},
   "outputs": [
    {
     "data": {
      "text/plain": [
       "'Raghul Ramesh'"
      ]
     },
     "execution_count": 109,
     "metadata": {},
     "output_type": "execute_result"
    }
   ],
   "source": [
    "name[::1]"
   ]
  },
  {
   "cell_type": "code",
   "execution_count": 110,
   "id": "fc94d66d",
   "metadata": {},
   "outputs": [
    {
     "data": {
      "text/plain": [
       "'hsemaR luhgaR'"
      ]
     },
     "execution_count": 110,
     "metadata": {},
     "output_type": "execute_result"
    }
   ],
   "source": [
    "name[::-1]"
   ]
  },
  {
   "cell_type": "markdown",
   "id": "d0df462f",
   "metadata": {},
   "source": [
    "# String Methods"
   ]
  },
  {
   "cell_type": "code",
   "execution_count": 121,
   "id": "8fc2c770",
   "metadata": {},
   "outputs": [
    {
     "name": "stdout",
     "output_type": "stream",
     "text": [
      "['__add__', '__class__', '__contains__', '__delattr__', '__dir__', '__doc__', '__eq__', '__format__', '__ge__', '__getattribute__', '__getitem__', '__getnewargs__', '__gt__', '__hash__', '__init__', '__init_subclass__', '__iter__', '__le__', '__len__', '__lt__', '__mod__', '__mul__', '__ne__', '__new__', '__reduce__', '__reduce_ex__', '__repr__', '__rmod__', '__rmul__', '__setattr__', '__sizeof__', '__str__', '__subclasshook__', 'capitalize', 'casefold', 'center', 'count', 'encode', 'endswith', 'expandtabs', 'find', 'format', 'format_map', 'index', 'isalnum', 'isalpha', 'isascii', 'isdecimal', 'isdigit', 'isidentifier', 'islower', 'isnumeric', 'isprintable', 'isspace', 'istitle', 'isupper', 'join', 'ljust', 'lower', 'lstrip', 'maketrans', 'partition', 'replace', 'rfind', 'rindex', 'rjust', 'rpartition', 'rsplit', 'rstrip', 'split', 'splitlines', 'startswith', 'strip', 'swapcase', 'title', 'translate', 'upper', 'zfill']\n"
     ]
    }
   ],
   "source": [
    "print(dir(name))"
   ]
  },
  {
   "cell_type": "code",
   "execution_count": 123,
   "id": "7d6a54b0",
   "metadata": {},
   "outputs": [
    {
     "data": {
      "text/plain": [
       "'raghul ramesh'"
      ]
     },
     "execution_count": 123,
     "metadata": {},
     "output_type": "execute_result"
    }
   ],
   "source": [
    "name.lower()"
   ]
  },
  {
   "cell_type": "code",
   "execution_count": 124,
   "id": "3c308e9a",
   "metadata": {},
   "outputs": [
    {
     "data": {
      "text/plain": [
       "'Raghul Ramesh'"
      ]
     },
     "execution_count": 124,
     "metadata": {},
     "output_type": "execute_result"
    }
   ],
   "source": [
    "name"
   ]
  },
  {
   "cell_type": "code",
   "execution_count": 125,
   "id": "af282ce7",
   "metadata": {},
   "outputs": [
    {
     "data": {
      "text/plain": [
       "'raghul ramesh'"
      ]
     },
     "execution_count": 125,
     "metadata": {},
     "output_type": "execute_result"
    }
   ],
   "source": [
    "name.lower()"
   ]
  },
  {
   "cell_type": "code",
   "execution_count": 126,
   "id": "e2fdd0a2",
   "metadata": {},
   "outputs": [
    {
     "data": {
      "text/plain": [
       "'Raghul Ramesh'"
      ]
     },
     "execution_count": 126,
     "metadata": {},
     "output_type": "execute_result"
    }
   ],
   "source": [
    "name"
   ]
  },
  {
   "cell_type": "code",
   "execution_count": 127,
   "id": "4d13b7b8",
   "metadata": {},
   "outputs": [
    {
     "data": {
      "text/plain": [
       "'raghul ramesh'"
      ]
     },
     "execution_count": 127,
     "metadata": {},
     "output_type": "execute_result"
    }
   ],
   "source": [
    "name.casefold()"
   ]
  },
  {
   "cell_type": "code",
   "execution_count": 128,
   "id": "58442904",
   "metadata": {},
   "outputs": [
    {
     "data": {
      "text/plain": [
       "'RAGHUL RAMESH'"
      ]
     },
     "execution_count": 128,
     "metadata": {},
     "output_type": "execute_result"
    }
   ],
   "source": [
    "name.upper()"
   ]
  },
  {
   "cell_type": "code",
   "execution_count": 130,
   "id": "79baeb92",
   "metadata": {},
   "outputs": [],
   "source": [
    "info='raghul ramesh is the trainer for python programming session'"
   ]
  },
  {
   "cell_type": "code",
   "execution_count": 131,
   "id": "b8c9f65d",
   "metadata": {},
   "outputs": [
    {
     "data": {
      "text/plain": [
       "'Raghul Ramesh Is The Trainer For Python Programming Session'"
      ]
     },
     "execution_count": 131,
     "metadata": {},
     "output_type": "execute_result"
    }
   ],
   "source": [
    "info.title()"
   ]
  },
  {
   "cell_type": "code",
   "execution_count": 133,
   "id": "6d40a7b1",
   "metadata": {},
   "outputs": [
    {
     "data": {
      "text/plain": [
       "'Raghul ramesh is the trainer for python programming session'"
      ]
     },
     "execution_count": 133,
     "metadata": {},
     "output_type": "execute_result"
    }
   ],
   "source": [
    "info.capitalize()"
   ]
  },
  {
   "cell_type": "code",
   "execution_count": 134,
   "id": "f2072d6b",
   "metadata": {},
   "outputs": [
    {
     "data": {
      "text/plain": [
       "'Raghul Ramesh'"
      ]
     },
     "execution_count": 134,
     "metadata": {},
     "output_type": "execute_result"
    }
   ],
   "source": [
    "name"
   ]
  },
  {
   "cell_type": "code",
   "execution_count": 135,
   "id": "06a3b6f5",
   "metadata": {},
   "outputs": [
    {
     "data": {
      "text/plain": [
       "'rAGHUL rAMESH'"
      ]
     },
     "execution_count": 135,
     "metadata": {},
     "output_type": "execute_result"
    }
   ],
   "source": [
    "name.swapcase()"
   ]
  },
  {
   "cell_type": "code",
   "execution_count": 143,
   "id": "80f8ffaa",
   "metadata": {
    "scrolled": true
   },
   "outputs": [
    {
     "name": "stdout",
     "output_type": "stream",
     "text": [
      "Enter your country name:INDIA\n",
      "You are a indian\n"
     ]
    }
   ],
   "source": [
    "country=input(\"Enter your country name:\")\n",
    "\n",
    "if country.casefold() == \"india\":\n",
    "    print(\"You are a indian\")\n",
    "else:\n",
    "    print(\"You are a foreigner\")"
   ]
  },
  {
   "cell_type": "code",
   "execution_count": 145,
   "id": "384ff71e",
   "metadata": {},
   "outputs": [
    {
     "data": {
      "text/plain": [
       "True"
      ]
     },
     "execution_count": 145,
     "metadata": {},
     "output_type": "execute_result"
    }
   ],
   "source": [
    "name.istitle()"
   ]
  },
  {
   "cell_type": "code",
   "execution_count": 146,
   "id": "32745e3d",
   "metadata": {},
   "outputs": [
    {
     "data": {
      "text/plain": [
       "False"
      ]
     },
     "execution_count": 146,
     "metadata": {},
     "output_type": "execute_result"
    }
   ],
   "source": [
    "name.isupper()"
   ]
  },
  {
   "cell_type": "code",
   "execution_count": 147,
   "id": "324db6be",
   "metadata": {},
   "outputs": [
    {
     "data": {
      "text/plain": [
       "False"
      ]
     },
     "execution_count": 147,
     "metadata": {},
     "output_type": "execute_result"
    }
   ],
   "source": [
    "name.islower()"
   ]
  },
  {
   "cell_type": "code",
   "execution_count": 149,
   "id": "50639746",
   "metadata": {},
   "outputs": [
    {
     "data": {
      "text/plain": [
       "False"
      ]
     },
     "execution_count": 149,
     "metadata": {},
     "output_type": "execute_result"
    }
   ],
   "source": [
    "name.isalpha()"
   ]
  },
  {
   "cell_type": "code",
   "execution_count": 150,
   "id": "c84acb19",
   "metadata": {},
   "outputs": [
    {
     "data": {
      "text/plain": [
       "'Raghul Ramesh'"
      ]
     },
     "execution_count": 150,
     "metadata": {},
     "output_type": "execute_result"
    }
   ],
   "source": [
    "name"
   ]
  },
  {
   "cell_type": "code",
   "execution_count": 151,
   "id": "1f5f5b83",
   "metadata": {},
   "outputs": [],
   "source": [
    "city=\"Chennai\""
   ]
  },
  {
   "cell_type": "code",
   "execution_count": 152,
   "id": "59cbb29f",
   "metadata": {},
   "outputs": [
    {
     "data": {
      "text/plain": [
       "True"
      ]
     },
     "execution_count": 152,
     "metadata": {},
     "output_type": "execute_result"
    }
   ],
   "source": [
    "city.isalpha()"
   ]
  },
  {
   "cell_type": "code",
   "execution_count": 153,
   "id": "0e9626a1",
   "metadata": {},
   "outputs": [
    {
     "data": {
      "text/plain": [
       "False"
      ]
     },
     "execution_count": 153,
     "metadata": {},
     "output_type": "execute_result"
    }
   ],
   "source": [
    "name.isdigit()"
   ]
  },
  {
   "cell_type": "code",
   "execution_count": 154,
   "id": "3840ef1b",
   "metadata": {},
   "outputs": [],
   "source": [
    "x=\"100\""
   ]
  },
  {
   "cell_type": "code",
   "execution_count": 155,
   "id": "764f3d9b",
   "metadata": {},
   "outputs": [
    {
     "data": {
      "text/plain": [
       "True"
      ]
     },
     "execution_count": 155,
     "metadata": {},
     "output_type": "execute_result"
    }
   ],
   "source": [
    "x.isdigit()"
   ]
  },
  {
   "cell_type": "code",
   "execution_count": 157,
   "id": "f3bec5a8",
   "metadata": {},
   "outputs": [],
   "source": [
    "empid=\"sc1490532\""
   ]
  },
  {
   "cell_type": "code",
   "execution_count": 158,
   "id": "40d667b0",
   "metadata": {},
   "outputs": [
    {
     "data": {
      "text/plain": [
       "True"
      ]
     },
     "execution_count": 158,
     "metadata": {},
     "output_type": "execute_result"
    }
   ],
   "source": [
    "empid.isalnum()"
   ]
  },
  {
   "cell_type": "code",
   "execution_count": 159,
   "id": "5de66f23",
   "metadata": {},
   "outputs": [
    {
     "data": {
      "text/plain": [
       "'Raghul Ramesh'"
      ]
     },
     "execution_count": 159,
     "metadata": {},
     "output_type": "execute_result"
    }
   ],
   "source": [
    "# index, find\n",
    "\n",
    "name"
   ]
  },
  {
   "cell_type": "code",
   "execution_count": 160,
   "id": "ea8c8cc9",
   "metadata": {},
   "outputs": [
    {
     "data": {
      "text/plain": [
       "2"
      ]
     },
     "execution_count": 160,
     "metadata": {},
     "output_type": "execute_result"
    }
   ],
   "source": [
    "name.index('g')"
   ]
  },
  {
   "cell_type": "code",
   "execution_count": 161,
   "id": "709df5b2",
   "metadata": {},
   "outputs": [
    {
     "data": {
      "text/plain": [
       "2"
      ]
     },
     "execution_count": 161,
     "metadata": {},
     "output_type": "execute_result"
    }
   ],
   "source": [
    "name.find('g')"
   ]
  },
  {
   "cell_type": "code",
   "execution_count": 162,
   "id": "3fa963bc",
   "metadata": {},
   "outputs": [
    {
     "data": {
      "text/plain": [
       "3"
      ]
     },
     "execution_count": 162,
     "metadata": {},
     "output_type": "execute_result"
    }
   ],
   "source": [
    "name.find('h')"
   ]
  },
  {
   "cell_type": "code",
   "execution_count": 163,
   "id": "5c524efd",
   "metadata": {},
   "outputs": [
    {
     "data": {
      "text/plain": [
       "3"
      ]
     },
     "execution_count": 163,
     "metadata": {},
     "output_type": "execute_result"
    }
   ],
   "source": [
    "name.index('h')"
   ]
  },
  {
   "cell_type": "code",
   "execution_count": 164,
   "id": "0420f94a",
   "metadata": {},
   "outputs": [
    {
     "data": {
      "text/plain": [
       "'Raghul Ramesh'"
      ]
     },
     "execution_count": 164,
     "metadata": {},
     "output_type": "execute_result"
    }
   ],
   "source": [
    "name"
   ]
  },
  {
   "cell_type": "code",
   "execution_count": 165,
   "id": "251c6863",
   "metadata": {},
   "outputs": [
    {
     "ename": "ValueError",
     "evalue": "substring not found",
     "output_type": "error",
     "traceback": [
      "\u001b[1;31m---------------------------------------------------------------------------\u001b[0m",
      "\u001b[1;31mValueError\u001b[0m                                Traceback (most recent call last)",
      "Input \u001b[1;32mIn [165]\u001b[0m, in \u001b[0;36m<cell line: 1>\u001b[1;34m()\u001b[0m\n\u001b[1;32m----> 1\u001b[0m \u001b[43mname\u001b[49m\u001b[38;5;241;43m.\u001b[39;49m\u001b[43mindex\u001b[49m\u001b[43m(\u001b[49m\u001b[38;5;124;43m'\u001b[39;49m\u001b[38;5;124;43mz\u001b[39;49m\u001b[38;5;124;43m'\u001b[39;49m\u001b[43m)\u001b[49m\n",
      "\u001b[1;31mValueError\u001b[0m: substring not found"
     ]
    }
   ],
   "source": [
    "name.index('z')"
   ]
  },
  {
   "cell_type": "code",
   "execution_count": 166,
   "id": "4f98c1b4",
   "metadata": {},
   "outputs": [
    {
     "data": {
      "text/plain": [
       "-1"
      ]
     },
     "execution_count": 166,
     "metadata": {},
     "output_type": "execute_result"
    }
   ],
   "source": [
    "name.find('z')"
   ]
  },
  {
   "cell_type": "code",
   "execution_count": 210,
   "id": "81933e24",
   "metadata": {},
   "outputs": [
    {
     "data": {
      "text/plain": [
       "'Raghul Ramesh'"
      ]
     },
     "execution_count": 210,
     "metadata": {},
     "output_type": "execute_result"
    }
   ],
   "source": [
    "name"
   ]
  },
  {
   "cell_type": "code",
   "execution_count": 211,
   "id": "a34764b3",
   "metadata": {},
   "outputs": [
    {
     "data": {
      "text/plain": [
       "0"
      ]
     },
     "execution_count": 211,
     "metadata": {},
     "output_type": "execute_result"
    }
   ],
   "source": [
    "name.find('R')"
   ]
  },
  {
   "cell_type": "code",
   "execution_count": 212,
   "id": "681d7eb4",
   "metadata": {},
   "outputs": [
    {
     "data": {
      "text/plain": [
       "7"
      ]
     },
     "execution_count": 212,
     "metadata": {},
     "output_type": "execute_result"
    }
   ],
   "source": [
    "name.rfind('R')"
   ]
  },
  {
   "cell_type": "code",
   "execution_count": 213,
   "id": "bba45227",
   "metadata": {},
   "outputs": [
    {
     "data": {
      "text/plain": [
       "7"
      ]
     },
     "execution_count": 213,
     "metadata": {},
     "output_type": "execute_result"
    }
   ],
   "source": [
    "name.rindex('R')"
   ]
  },
  {
   "cell_type": "code",
   "execution_count": 167,
   "id": "cf126469",
   "metadata": {},
   "outputs": [
    {
     "data": {
      "text/plain": [
       "'Raghul Ramesh'"
      ]
     },
     "execution_count": 167,
     "metadata": {},
     "output_type": "execute_result"
    }
   ],
   "source": [
    "#center, ljust, rjust\n",
    "\n",
    "name"
   ]
  },
  {
   "cell_type": "code",
   "execution_count": 171,
   "id": "1738a3ce",
   "metadata": {},
   "outputs": [
    {
     "data": {
      "text/plain": [
       "'........Raghul Ramesh.........'"
      ]
     },
     "execution_count": 171,
     "metadata": {},
     "output_type": "execute_result"
    }
   ],
   "source": [
    "name.center(30,'.')"
   ]
  },
  {
   "cell_type": "code",
   "execution_count": 173,
   "id": "4e702e3f",
   "metadata": {},
   "outputs": [
    {
     "data": {
      "text/plain": [
       "'Raghul Ramesh_________________'"
      ]
     },
     "execution_count": 173,
     "metadata": {},
     "output_type": "execute_result"
    }
   ],
   "source": [
    "name.ljust(30,'_')"
   ]
  },
  {
   "cell_type": "code",
   "execution_count": 174,
   "id": "11160dcb",
   "metadata": {},
   "outputs": [
    {
     "data": {
      "text/plain": [
       "'-----------------Raghul Ramesh'"
      ]
     },
     "execution_count": 174,
     "metadata": {},
     "output_type": "execute_result"
    }
   ],
   "source": [
    "name.rjust(30,'-')"
   ]
  },
  {
   "cell_type": "code",
   "execution_count": 175,
   "id": "89da823d",
   "metadata": {},
   "outputs": [
    {
     "data": {
      "text/plain": [
       "'Raghul Ramesh'"
      ]
     },
     "execution_count": 175,
     "metadata": {},
     "output_type": "execute_result"
    }
   ],
   "source": [
    "# split\n",
    "name"
   ]
  },
  {
   "cell_type": "code",
   "execution_count": 176,
   "id": "90e2d15b",
   "metadata": {},
   "outputs": [],
   "source": [
    "city=\"chennai-bangalore-hyderabad-pune-gurgaon-delhi\""
   ]
  },
  {
   "cell_type": "code",
   "execution_count": 177,
   "id": "59fdbe1f",
   "metadata": {},
   "outputs": [
    {
     "data": {
      "text/plain": [
       "['chennai', 'bangalore', 'hyderabad', 'pune', 'gurgaon', 'delhi']"
      ]
     },
     "execution_count": 177,
     "metadata": {},
     "output_type": "execute_result"
    }
   ],
   "source": [
    "city.split('-')"
   ]
  },
  {
   "cell_type": "code",
   "execution_count": 178,
   "id": "3584bce5",
   "metadata": {},
   "outputs": [],
   "source": [
    "location=['chennai', 'bangalore', 'hyderabad', 'pune', 'gurgaon', 'delhi']"
   ]
  },
  {
   "cell_type": "code",
   "execution_count": 179,
   "id": "10c2703c",
   "metadata": {},
   "outputs": [
    {
     "data": {
      "text/plain": [
       "'chennai,bangalore,hyderabad,pune,gurgaon,delhi'"
      ]
     },
     "execution_count": 179,
     "metadata": {},
     "output_type": "execute_result"
    }
   ],
   "source": [
    "','.join(location)"
   ]
  },
  {
   "cell_type": "code",
   "execution_count": 181,
   "id": "0c8a7331",
   "metadata": {},
   "outputs": [
    {
     "data": {
      "text/plain": [
       "'chennai_bangalore_hyderabad_pune_gurgaon_delhi'"
      ]
     },
     "execution_count": 181,
     "metadata": {},
     "output_type": "execute_result"
    }
   ],
   "source": [
    "'_'.join(location)"
   ]
  },
  {
   "cell_type": "code",
   "execution_count": 183,
   "id": "21791b12",
   "metadata": {},
   "outputs": [
    {
     "data": {
      "text/plain": [
       "'chennai-bangalore-hyderabad-pune-gurgaon-delhi'"
      ]
     },
     "execution_count": 183,
     "metadata": {},
     "output_type": "execute_result"
    }
   ],
   "source": [
    "# replace , translate (maketrans)\n",
    "city"
   ]
  },
  {
   "cell_type": "code",
   "execution_count": 184,
   "id": "4dba3d85",
   "metadata": {},
   "outputs": [
    {
     "data": {
      "text/plain": [
       "'chennai-bangalore-hyderabad-mumbai-gurgaon-delhi'"
      ]
     },
     "execution_count": 184,
     "metadata": {},
     "output_type": "execute_result"
    }
   ],
   "source": [
    "city.replace('pune','mumbai')"
   ]
  },
  {
   "cell_type": "code",
   "execution_count": 185,
   "id": "5f75636c",
   "metadata": {},
   "outputs": [
    {
     "data": {
      "text/plain": [
       "'chennai,bangalore,hyderabad,pune,gurgaon,delhi'"
      ]
     },
     "execution_count": 185,
     "metadata": {},
     "output_type": "execute_result"
    }
   ],
   "source": [
    "city.replace('-',',')"
   ]
  },
  {
   "cell_type": "code",
   "execution_count": 186,
   "id": "5ca7ce04",
   "metadata": {},
   "outputs": [
    {
     "data": {
      "text/plain": [
       "'chennAi-bAngAlore-hyderAbAd-pune-gurgAon-delhi'"
      ]
     },
     "execution_count": 186,
     "metadata": {},
     "output_type": "execute_result"
    }
   ],
   "source": [
    "city.replace('a','A')"
   ]
  },
  {
   "cell_type": "code",
   "execution_count": 187,
   "id": "0691e541",
   "metadata": {},
   "outputs": [
    {
     "data": {
      "text/plain": [
       "'chennai-bangalore-hyderabad-pune-gurgaon-delhi'"
      ]
     },
     "execution_count": 187,
     "metadata": {},
     "output_type": "execute_result"
    }
   ],
   "source": [
    "city.replace('abc','ABC')"
   ]
  },
  {
   "cell_type": "code",
   "execution_count": 188,
   "id": "aa64e528",
   "metadata": {},
   "outputs": [
    {
     "data": {
      "text/plain": [
       "'ChennAi-BAngAlore-hyderABAd-pune-gurgAon-delhi'"
      ]
     },
     "execution_count": 188,
     "metadata": {},
     "output_type": "execute_result"
    }
   ],
   "source": [
    "city.replace('a','A').replace('b','B').replace('c','C')"
   ]
  },
  {
   "cell_type": "code",
   "execution_count": 189,
   "id": "a0faf073",
   "metadata": {},
   "outputs": [],
   "source": [
    "#city.translate('abc','ABC')"
   ]
  },
  {
   "cell_type": "code",
   "execution_count": 190,
   "id": "161aaa4e",
   "metadata": {},
   "outputs": [
    {
     "data": {
      "text/plain": [
       "97"
      ]
     },
     "execution_count": 190,
     "metadata": {},
     "output_type": "execute_result"
    }
   ],
   "source": [
    "ord('a')"
   ]
  },
  {
   "cell_type": "code",
   "execution_count": 191,
   "id": "17e88c30",
   "metadata": {},
   "outputs": [
    {
     "data": {
      "text/plain": [
       "98"
      ]
     },
     "execution_count": 191,
     "metadata": {},
     "output_type": "execute_result"
    }
   ],
   "source": [
    "ord('b')"
   ]
  },
  {
   "cell_type": "code",
   "execution_count": 192,
   "id": "acbc9b0e",
   "metadata": {},
   "outputs": [
    {
     "data": {
      "text/plain": [
       "99"
      ]
     },
     "execution_count": 192,
     "metadata": {},
     "output_type": "execute_result"
    }
   ],
   "source": [
    "ord('c')"
   ]
  },
  {
   "cell_type": "code",
   "execution_count": 193,
   "id": "02db0343",
   "metadata": {},
   "outputs": [
    {
     "data": {
      "text/plain": [
       "65"
      ]
     },
     "execution_count": 193,
     "metadata": {},
     "output_type": "execute_result"
    }
   ],
   "source": [
    "ord('A')"
   ]
  },
  {
   "cell_type": "code",
   "execution_count": 194,
   "id": "3068f29a",
   "metadata": {},
   "outputs": [
    {
     "data": {
      "text/plain": [
       "66"
      ]
     },
     "execution_count": 194,
     "metadata": {},
     "output_type": "execute_result"
    }
   ],
   "source": [
    "ord('B')"
   ]
  },
  {
   "cell_type": "code",
   "execution_count": 195,
   "id": "bfd4cc44",
   "metadata": {},
   "outputs": [
    {
     "data": {
      "text/plain": [
       "67"
      ]
     },
     "execution_count": 195,
     "metadata": {},
     "output_type": "execute_result"
    }
   ],
   "source": [
    "ord('C')"
   ]
  },
  {
   "cell_type": "code",
   "execution_count": 196,
   "id": "a4c3911c",
   "metadata": {},
   "outputs": [
    {
     "data": {
      "text/plain": [
       "'ChennAi-BAngAlore-hyderABAd-pune-gurgAon-delhi'"
      ]
     },
     "execution_count": 196,
     "metadata": {},
     "output_type": "execute_result"
    }
   ],
   "source": [
    "city.translate({97:65, 98:66, 99:67})"
   ]
  },
  {
   "cell_type": "code",
   "execution_count": 201,
   "id": "696b21a0",
   "metadata": {},
   "outputs": [],
   "source": [
    "changes=city.maketrans('abcde','ABCDE')"
   ]
  },
  {
   "cell_type": "code",
   "execution_count": 202,
   "id": "62e60dee",
   "metadata": {},
   "outputs": [
    {
     "data": {
      "text/plain": [
       "'ChEnnAi-BAngAlorE-hyDErABAD-punE-gurgAon-DElhi'"
      ]
     },
     "execution_count": 202,
     "metadata": {},
     "output_type": "execute_result"
    }
   ],
   "source": [
    "city.translate(changes)"
   ]
  },
  {
   "cell_type": "code",
   "execution_count": 203,
   "id": "c36a99bf",
   "metadata": {},
   "outputs": [],
   "source": [
    "company=\"E!@r#$i%#!c!s#$s*(o*^#n\""
   ]
  },
  {
   "cell_type": "code",
   "execution_count": 207,
   "id": "d1205710",
   "metadata": {},
   "outputs": [
    {
     "data": {
      "text/plain": [
       "{126: 32,\n",
       " 33: 32,\n",
       " 64: 32,\n",
       " 35: 32,\n",
       " 36: 32,\n",
       " 37: 32,\n",
       " 94: 32,\n",
       " 38: 32,\n",
       " 42: 32,\n",
       " 40: 32,\n",
       " 41: 32,\n",
       " 95: 32,\n",
       " 43: 32,\n",
       " 123: 32,\n",
       " 125: 32,\n",
       " 91: 32,\n",
       " 93: 32,\n",
       " 58: 32,\n",
       " 59: 32,\n",
       " 34: 32}"
      ]
     },
     "execution_count": 207,
     "metadata": {},
     "output_type": "execute_result"
    }
   ],
   "source": [
    "company.maketrans('~!@#$%^&*()_+{}[]:;\"\"','                     ')"
   ]
  },
  {
   "cell_type": "code",
   "execution_count": 209,
   "id": "67eef2d3",
   "metadata": {},
   "outputs": [
    {
     "data": {
      "text/plain": [
       "'Ericsson'"
      ]
     },
     "execution_count": 209,
     "metadata": {},
     "output_type": "execute_result"
    }
   ],
   "source": [
    "company.translate({126: None, 33: None, 64: None, 35: None, 36: None, 37: None, 94: None, 38: None,\n",
    " 42: None, 40: None, 41: None, 95: None, 43: None, 123: None, 125: None,91: None, 93: None, 58: None,\n",
    " 59: None, 34: None})"
   ]
  },
  {
   "cell_type": "code",
   "execution_count": 215,
   "id": "1cf012b2",
   "metadata": {},
   "outputs": [
    {
     "data": {
      "text/plain": [
       "2"
      ]
     },
     "execution_count": 215,
     "metadata": {},
     "output_type": "execute_result"
    }
   ],
   "source": [
    "name.count('a')"
   ]
  },
  {
   "cell_type": "code",
   "execution_count": 216,
   "id": "dd001580",
   "metadata": {},
   "outputs": [
    {
     "data": {
      "text/plain": [
       "1"
      ]
     },
     "execution_count": 216,
     "metadata": {},
     "output_type": "execute_result"
    }
   ],
   "source": [
    "name.count(' ')"
   ]
  },
  {
   "cell_type": "code",
   "execution_count": 217,
   "id": "608727f5",
   "metadata": {},
   "outputs": [
    {
     "data": {
      "text/plain": [
       "True"
      ]
     },
     "execution_count": 217,
     "metadata": {},
     "output_type": "execute_result"
    }
   ],
   "source": [
    "name.endswith('h')"
   ]
  },
  {
   "cell_type": "code",
   "execution_count": 221,
   "id": "553f5c9a",
   "metadata": {},
   "outputs": [
    {
     "data": {
      "text/plain": [
       "True"
      ]
     },
     "execution_count": 221,
     "metadata": {},
     "output_type": "execute_result"
    }
   ],
   "source": [
    "name.startswith('Raghul')"
   ]
  },
  {
   "cell_type": "code",
   "execution_count": 222,
   "id": "76daf192",
   "metadata": {},
   "outputs": [
    {
     "data": {
      "text/plain": [
       "False"
      ]
     },
     "execution_count": 222,
     "metadata": {},
     "output_type": "execute_result"
    }
   ],
   "source": [
    "name.startswith('A')"
   ]
  },
  {
   "cell_type": "code",
   "execution_count": 223,
   "id": "60c66dc6",
   "metadata": {},
   "outputs": [
    {
     "data": {
      "text/plain": [
       "'chennai-bangalore-hyderabad-pune-gurgaon-delhi'"
      ]
     },
     "execution_count": 223,
     "metadata": {},
     "output_type": "execute_result"
    }
   ],
   "source": [
    "city"
   ]
  },
  {
   "cell_type": "code",
   "execution_count": 224,
   "id": "4e29ea1e",
   "metadata": {},
   "outputs": [
    {
     "data": {
      "text/plain": [
       "['chennai', 'bangalore', 'hyderabad', 'pune', 'gurgaon', 'delhi']"
      ]
     },
     "execution_count": 224,
     "metadata": {},
     "output_type": "execute_result"
    }
   ],
   "source": [
    "city.split('-')"
   ]
  },
  {
   "cell_type": "code",
   "execution_count": 225,
   "id": "502bacfb",
   "metadata": {},
   "outputs": [
    {
     "data": {
      "text/plain": [
       "('chennai', '-', 'bangalore-hyderabad-pune-gurgaon-delhi')"
      ]
     },
     "execution_count": 225,
     "metadata": {},
     "output_type": "execute_result"
    }
   ],
   "source": [
    "city.partition('-')"
   ]
  },
  {
   "cell_type": "code",
   "execution_count": 226,
   "id": "0d9dece4",
   "metadata": {},
   "outputs": [
    {
     "data": {
      "text/plain": [
       "('chennai-bangalore-hyderabad-pune-gurgaon', '-', 'delhi')"
      ]
     },
     "execution_count": 226,
     "metadata": {},
     "output_type": "execute_result"
    }
   ],
   "source": [
    "city.rpartition('-')"
   ]
  },
  {
   "cell_type": "code",
   "execution_count": 227,
   "id": "f7245573",
   "metadata": {},
   "outputs": [],
   "source": [
    "salary='100000'"
   ]
  },
  {
   "cell_type": "code",
   "execution_count": 229,
   "id": "c9ab1f6e",
   "metadata": {},
   "outputs": [
    {
     "data": {
      "text/plain": [
       "'10000000'"
      ]
     },
     "execution_count": 229,
     "metadata": {},
     "output_type": "execute_result"
    }
   ],
   "source": [
    "salary.ljust(8,'0')"
   ]
  },
  {
   "cell_type": "code",
   "execution_count": 230,
   "id": "dc48b807",
   "metadata": {},
   "outputs": [
    {
     "data": {
      "text/plain": [
       "'00100000'"
      ]
     },
     "execution_count": 230,
     "metadata": {},
     "output_type": "execute_result"
    }
   ],
   "source": [
    "salary.rjust(8,'0')"
   ]
  },
  {
   "cell_type": "code",
   "execution_count": 231,
   "id": "05b24da2",
   "metadata": {},
   "outputs": [
    {
     "data": {
      "text/plain": [
       "'0000100000'"
      ]
     },
     "execution_count": 231,
     "metadata": {},
     "output_type": "execute_result"
    }
   ],
   "source": [
    "salary.zfill(10)"
   ]
  },
  {
   "cell_type": "markdown",
   "id": "6357bc09",
   "metadata": {},
   "source": [
    "# LIST"
   ]
  },
  {
   "cell_type": "code",
   "execution_count": 232,
   "id": "79e5eca3",
   "metadata": {},
   "outputs": [],
   "source": [
    "data=['Ericsson','Python',5,7.50,True,100000]"
   ]
  },
  {
   "cell_type": "code",
   "execution_count": 233,
   "id": "4fe80886",
   "metadata": {},
   "outputs": [
    {
     "data": {
      "text/plain": [
       "'Ericsson'"
      ]
     },
     "execution_count": 233,
     "metadata": {},
     "output_type": "execute_result"
    }
   ],
   "source": [
    "data[0]"
   ]
  },
  {
   "cell_type": "code",
   "execution_count": 234,
   "id": "86891a2d",
   "metadata": {},
   "outputs": [
    {
     "data": {
      "text/plain": [
       "'Python'"
      ]
     },
     "execution_count": 234,
     "metadata": {},
     "output_type": "execute_result"
    }
   ],
   "source": [
    "data[1]"
   ]
  },
  {
   "cell_type": "code",
   "execution_count": 235,
   "id": "3fd81e5f",
   "metadata": {},
   "outputs": [
    {
     "data": {
      "text/plain": [
       "100000"
      ]
     },
     "execution_count": 235,
     "metadata": {},
     "output_type": "execute_result"
    }
   ],
   "source": [
    "data[-1]"
   ]
  },
  {
   "cell_type": "code",
   "execution_count": 236,
   "id": "c280d0f2",
   "metadata": {},
   "outputs": [],
   "source": [
    "nums=[30,2,10,20,5]"
   ]
  },
  {
   "cell_type": "code",
   "execution_count": 237,
   "id": "9ae6a128",
   "metadata": {},
   "outputs": [
    {
     "data": {
      "text/plain": [
       "5"
      ]
     },
     "execution_count": 237,
     "metadata": {},
     "output_type": "execute_result"
    }
   ],
   "source": [
    "len(nums)"
   ]
  },
  {
   "cell_type": "code",
   "execution_count": 238,
   "id": "375b44bf",
   "metadata": {},
   "outputs": [
    {
     "data": {
      "text/plain": [
       "2"
      ]
     },
     "execution_count": 238,
     "metadata": {},
     "output_type": "execute_result"
    }
   ],
   "source": [
    "min(nums)"
   ]
  },
  {
   "cell_type": "code",
   "execution_count": 239,
   "id": "78d90de1",
   "metadata": {},
   "outputs": [
    {
     "data": {
      "text/plain": [
       "30"
      ]
     },
     "execution_count": 239,
     "metadata": {},
     "output_type": "execute_result"
    }
   ],
   "source": [
    "max(nums)"
   ]
  },
  {
   "cell_type": "code",
   "execution_count": 240,
   "id": "3752b0a4",
   "metadata": {},
   "outputs": [
    {
     "data": {
      "text/plain": [
       "67"
      ]
     },
     "execution_count": 240,
     "metadata": {},
     "output_type": "execute_result"
    }
   ],
   "source": [
    "sum(nums)"
   ]
  },
  {
   "cell_type": "code",
   "execution_count": 241,
   "id": "50aa5adf",
   "metadata": {},
   "outputs": [
    {
     "data": {
      "text/plain": [
       "13.4"
      ]
     },
     "execution_count": 241,
     "metadata": {},
     "output_type": "execute_result"
    }
   ],
   "source": [
    "sum(nums)/len(nums)"
   ]
  },
  {
   "cell_type": "code",
   "execution_count": 242,
   "id": "fbad75c9",
   "metadata": {},
   "outputs": [],
   "source": [
    "nums=[1,2,3,4,5]"
   ]
  },
  {
   "cell_type": "code",
   "execution_count": 243,
   "id": "90fdea80",
   "metadata": {},
   "outputs": [
    {
     "name": "stdout",
     "output_type": "stream",
     "text": [
      "['__add__', '__class__', '__contains__', '__delattr__', '__delitem__', '__dir__', '__doc__', '__eq__', '__format__', '__ge__', '__getattribute__', '__getitem__', '__gt__', '__hash__', '__iadd__', '__imul__', '__init__', '__init_subclass__', '__iter__', '__le__', '__len__', '__lt__', '__mul__', '__ne__', '__new__', '__reduce__', '__reduce_ex__', '__repr__', '__reversed__', '__rmul__', '__setattr__', '__setitem__', '__sizeof__', '__str__', '__subclasshook__', 'append', 'clear', 'copy', 'count', 'extend', 'index', 'insert', 'pop', 'remove', 'reverse', 'sort']\n"
     ]
    }
   ],
   "source": [
    "print(dir(nums))"
   ]
  },
  {
   "cell_type": "code",
   "execution_count": 244,
   "id": "71ecd742",
   "metadata": {},
   "outputs": [
    {
     "data": {
      "text/plain": [
       "[1, 2, 3, 4, 5]"
      ]
     },
     "execution_count": 244,
     "metadata": {},
     "output_type": "execute_result"
    }
   ],
   "source": [
    "nums"
   ]
  },
  {
   "cell_type": "code",
   "execution_count": 245,
   "id": "30b75510",
   "metadata": {},
   "outputs": [],
   "source": [
    "nums.append(6)"
   ]
  },
  {
   "cell_type": "code",
   "execution_count": 246,
   "id": "60275d28",
   "metadata": {},
   "outputs": [
    {
     "data": {
      "text/plain": [
       "[1, 2, 3, 4, 5, 6]"
      ]
     },
     "execution_count": 246,
     "metadata": {},
     "output_type": "execute_result"
    }
   ],
   "source": [
    "nums"
   ]
  },
  {
   "cell_type": "code",
   "execution_count": 248,
   "id": "e86e4ec0",
   "metadata": {},
   "outputs": [],
   "source": [
    "nums.append([7,8])"
   ]
  },
  {
   "cell_type": "code",
   "execution_count": 249,
   "id": "de254bde",
   "metadata": {},
   "outputs": [
    {
     "data": {
      "text/plain": [
       "[1, 2, 3, 4, 5, 6, [7, 8]]"
      ]
     },
     "execution_count": 249,
     "metadata": {},
     "output_type": "execute_result"
    }
   ],
   "source": [
    "nums"
   ]
  },
  {
   "cell_type": "code",
   "execution_count": 250,
   "id": "2b0a83de",
   "metadata": {},
   "outputs": [
    {
     "data": {
      "text/plain": [
       "[7, 8]"
      ]
     },
     "execution_count": 250,
     "metadata": {},
     "output_type": "execute_result"
    }
   ],
   "source": [
    "nums[-1]"
   ]
  },
  {
   "cell_type": "code",
   "execution_count": 251,
   "id": "7da00455",
   "metadata": {},
   "outputs": [
    {
     "data": {
      "text/plain": [
       "[1, 2, 3, 4, 5, 6, [7, 8]]"
      ]
     },
     "execution_count": 251,
     "metadata": {},
     "output_type": "execute_result"
    }
   ],
   "source": [
    "nums"
   ]
  },
  {
   "cell_type": "code",
   "execution_count": 253,
   "id": "e08b6ad7",
   "metadata": {},
   "outputs": [],
   "source": [
    "nums.extend([9])"
   ]
  },
  {
   "cell_type": "code",
   "execution_count": 254,
   "id": "72845698",
   "metadata": {},
   "outputs": [
    {
     "data": {
      "text/plain": [
       "[1, 2, 3, 4, 5, 6, [7, 8], 9]"
      ]
     },
     "execution_count": 254,
     "metadata": {},
     "output_type": "execute_result"
    }
   ],
   "source": [
    "nums"
   ]
  },
  {
   "cell_type": "code",
   "execution_count": 255,
   "id": "02024dfa",
   "metadata": {},
   "outputs": [],
   "source": [
    "nums.extend([10,11,12])"
   ]
  },
  {
   "cell_type": "code",
   "execution_count": 256,
   "id": "93a62e77",
   "metadata": {},
   "outputs": [
    {
     "data": {
      "text/plain": [
       "[1, 2, 3, 4, 5, 6, [7, 8], 9, 10, 11, 12]"
      ]
     },
     "execution_count": 256,
     "metadata": {},
     "output_type": "execute_result"
    }
   ],
   "source": [
    "nums"
   ]
  },
  {
   "cell_type": "code",
   "execution_count": 257,
   "id": "030c2e50",
   "metadata": {},
   "outputs": [
    {
     "data": {
      "text/plain": [
       "12"
      ]
     },
     "execution_count": 257,
     "metadata": {},
     "output_type": "execute_result"
    }
   ],
   "source": [
    "nums[-1]"
   ]
  },
  {
   "cell_type": "code",
   "execution_count": 258,
   "id": "56d37a5b",
   "metadata": {},
   "outputs": [],
   "source": [
    "nums.insert(0,100)"
   ]
  },
  {
   "cell_type": "code",
   "execution_count": 259,
   "id": "aecdc887",
   "metadata": {},
   "outputs": [
    {
     "data": {
      "text/plain": [
       "[100, 1, 2, 3, 4, 5, 6, [7, 8], 9, 10, 11, 12]"
      ]
     },
     "execution_count": 259,
     "metadata": {},
     "output_type": "execute_result"
    }
   ],
   "source": [
    "nums"
   ]
  },
  {
   "cell_type": "code",
   "execution_count": 260,
   "id": "481b14f3",
   "metadata": {},
   "outputs": [],
   "source": [
    "nums.insert(3,2.5)"
   ]
  },
  {
   "cell_type": "code",
   "execution_count": 261,
   "id": "1f2f2daf",
   "metadata": {},
   "outputs": [
    {
     "data": {
      "text/plain": [
       "[100, 1, 2, 2.5, 3, 4, 5, 6, [7, 8], 9, 10, 11, 12]"
      ]
     },
     "execution_count": 261,
     "metadata": {},
     "output_type": "execute_result"
    }
   ],
   "source": [
    "nums"
   ]
  },
  {
   "cell_type": "code",
   "execution_count": 263,
   "id": "1c8209db",
   "metadata": {},
   "outputs": [],
   "source": [
    "nums[8].insert(1,7.5)"
   ]
  },
  {
   "cell_type": "code",
   "execution_count": 264,
   "id": "4543fd4a",
   "metadata": {},
   "outputs": [
    {
     "data": {
      "text/plain": [
       "[100, 1, 2, 2.5, 3, 4, 5, 6, [7, 7.5, 8], 9, 10, 11, 12]"
      ]
     },
     "execution_count": 264,
     "metadata": {},
     "output_type": "execute_result"
    }
   ],
   "source": [
    "nums"
   ]
  },
  {
   "cell_type": "code",
   "execution_count": 265,
   "id": "e7969354",
   "metadata": {},
   "outputs": [],
   "source": [
    "# remove and pop"
   ]
  },
  {
   "cell_type": "code",
   "execution_count": 266,
   "id": "7d9987f1",
   "metadata": {},
   "outputs": [],
   "source": [
    "nums.remove(4)"
   ]
  },
  {
   "cell_type": "code",
   "execution_count": 267,
   "id": "a4baf81b",
   "metadata": {},
   "outputs": [
    {
     "data": {
      "text/plain": [
       "[100, 1, 2, 2.5, 3, 5, 6, [7, 7.5, 8], 9, 10, 11, 12]"
      ]
     },
     "execution_count": 267,
     "metadata": {},
     "output_type": "execute_result"
    }
   ],
   "source": [
    "nums"
   ]
  },
  {
   "cell_type": "code",
   "execution_count": 268,
   "id": "b2ba2ab4",
   "metadata": {},
   "outputs": [],
   "source": [
    "nums.remove(2.5)"
   ]
  },
  {
   "cell_type": "code",
   "execution_count": 269,
   "id": "422e636c",
   "metadata": {},
   "outputs": [
    {
     "data": {
      "text/plain": [
       "[100, 1, 2, 3, 5, 6, [7, 7.5, 8], 9, 10, 11, 12]"
      ]
     },
     "execution_count": 269,
     "metadata": {},
     "output_type": "execute_result"
    }
   ],
   "source": [
    "nums"
   ]
  },
  {
   "cell_type": "code",
   "execution_count": 270,
   "id": "db8fe3bf",
   "metadata": {},
   "outputs": [
    {
     "data": {
      "text/plain": [
       "100"
      ]
     },
     "execution_count": 270,
     "metadata": {},
     "output_type": "execute_result"
    }
   ],
   "source": [
    "nums.pop(0)"
   ]
  },
  {
   "cell_type": "code",
   "execution_count": 271,
   "id": "306d457a",
   "metadata": {},
   "outputs": [
    {
     "data": {
      "text/plain": [
       "[1, 2, 3, 5, 6, [7, 7.5, 8], 9, 10, 11, 12]"
      ]
     },
     "execution_count": 271,
     "metadata": {},
     "output_type": "execute_result"
    }
   ],
   "source": [
    "nums"
   ]
  },
  {
   "cell_type": "code",
   "execution_count": 272,
   "id": "bebbf5ab",
   "metadata": {},
   "outputs": [
    {
     "data": {
      "text/plain": [
       "[7, 7.5, 8]"
      ]
     },
     "execution_count": 272,
     "metadata": {},
     "output_type": "execute_result"
    }
   ],
   "source": [
    "nums.pop(5)"
   ]
  },
  {
   "cell_type": "code",
   "execution_count": 273,
   "id": "1473263b",
   "metadata": {},
   "outputs": [
    {
     "data": {
      "text/plain": [
       "[1, 2, 3, 5, 6, 9, 10, 11, 12]"
      ]
     },
     "execution_count": 273,
     "metadata": {},
     "output_type": "execute_result"
    }
   ],
   "source": [
    "nums"
   ]
  },
  {
   "cell_type": "code",
   "execution_count": 276,
   "id": "f2a8dd41",
   "metadata": {},
   "outputs": [],
   "source": [
    "number=[1,5,3,2,6,8,9,4,2,5,7,8,10]"
   ]
  },
  {
   "cell_type": "code",
   "execution_count": 277,
   "id": "bd0f03ee",
   "metadata": {},
   "outputs": [
    {
     "data": {
      "text/plain": [
       "[1, 5, 3, 2, 6, 8, 9, 4, 2, 5, 7, 8, 10]"
      ]
     },
     "execution_count": 277,
     "metadata": {},
     "output_type": "execute_result"
    }
   ],
   "source": [
    "number"
   ]
  },
  {
   "cell_type": "code",
   "execution_count": 278,
   "id": "1f91ccc1",
   "metadata": {},
   "outputs": [],
   "source": [
    "number.sort()"
   ]
  },
  {
   "cell_type": "code",
   "execution_count": 279,
   "id": "6942816d",
   "metadata": {},
   "outputs": [
    {
     "data": {
      "text/plain": [
       "[1, 2, 2, 3, 4, 5, 5, 6, 7, 8, 8, 9, 10]"
      ]
     },
     "execution_count": 279,
     "metadata": {},
     "output_type": "execute_result"
    }
   ],
   "source": [
    "number"
   ]
  },
  {
   "cell_type": "code",
   "execution_count": 280,
   "id": "80e1f375",
   "metadata": {},
   "outputs": [],
   "source": [
    "number.sort(reverse=True)"
   ]
  },
  {
   "cell_type": "code",
   "execution_count": 281,
   "id": "5183b82b",
   "metadata": {},
   "outputs": [
    {
     "data": {
      "text/plain": [
       "[10, 9, 8, 8, 7, 6, 5, 5, 4, 3, 2, 2, 1]"
      ]
     },
     "execution_count": 281,
     "metadata": {},
     "output_type": "execute_result"
    }
   ],
   "source": [
    "number"
   ]
  },
  {
   "cell_type": "code",
   "execution_count": 282,
   "id": "3725f15c",
   "metadata": {},
   "outputs": [
    {
     "data": {
      "text/plain": [
       "2"
      ]
     },
     "execution_count": 282,
     "metadata": {},
     "output_type": "execute_result"
    }
   ],
   "source": [
    "number.index(8)"
   ]
  },
  {
   "cell_type": "code",
   "execution_count": 283,
   "id": "5dd066bd",
   "metadata": {},
   "outputs": [
    {
     "data": {
      "text/plain": [
       "2"
      ]
     },
     "execution_count": 283,
     "metadata": {},
     "output_type": "execute_result"
    }
   ],
   "source": [
    "number.count(5)"
   ]
  },
  {
   "cell_type": "code",
   "execution_count": 284,
   "id": "ba2c6104",
   "metadata": {},
   "outputs": [],
   "source": [
    "number.clear()"
   ]
  },
  {
   "cell_type": "code",
   "execution_count": 285,
   "id": "cd1633ab",
   "metadata": {},
   "outputs": [
    {
     "data": {
      "text/plain": [
       "[]"
      ]
     },
     "execution_count": 285,
     "metadata": {},
     "output_type": "execute_result"
    }
   ],
   "source": [
    "number"
   ]
  },
  {
   "cell_type": "code",
   "execution_count": null,
   "id": "312bebf5",
   "metadata": {},
   "outputs": [],
   "source": [
    "append\n",
    "extend\n",
    "insert\n",
    "\n",
    "\n",
    "remove\n",
    "pop\n",
    "\n",
    "sort \n",
    "reverse\n",
    "\n",
    "index\n",
    "count\n",
    "clear\n",
    "\n",
    "copy"
   ]
  },
  {
   "cell_type": "code",
   "execution_count": 286,
   "id": "68f4cf69",
   "metadata": {},
   "outputs": [],
   "source": [
    "data=[5, 3, 2, 6, 8, 9]"
   ]
  },
  {
   "cell_type": "code",
   "execution_count": 289,
   "id": "48f6b489",
   "metadata": {},
   "outputs": [],
   "source": [
    "data.reverse()"
   ]
  },
  {
   "cell_type": "code",
   "execution_count": 290,
   "id": "345d65e9",
   "metadata": {},
   "outputs": [
    {
     "data": {
      "text/plain": [
       "[9, 8, 6, 2, 3, 5]"
      ]
     },
     "execution_count": 290,
     "metadata": {},
     "output_type": "execute_result"
    }
   ],
   "source": [
    "data"
   ]
  },
  {
   "cell_type": "code",
   "execution_count": 291,
   "id": "5539fc0b",
   "metadata": {},
   "outputs": [],
   "source": [
    "nums=[1,2,3,4,5]"
   ]
  },
  {
   "cell_type": "code",
   "execution_count": 292,
   "id": "b97a1f40",
   "metadata": {},
   "outputs": [],
   "source": [
    "nums_bk=nums"
   ]
  },
  {
   "cell_type": "code",
   "execution_count": 293,
   "id": "109bcd5d",
   "metadata": {},
   "outputs": [
    {
     "data": {
      "text/plain": [
       "[1, 2, 3, 4, 5]"
      ]
     },
     "execution_count": 293,
     "metadata": {},
     "output_type": "execute_result"
    }
   ],
   "source": [
    "nums"
   ]
  },
  {
   "cell_type": "code",
   "execution_count": 294,
   "id": "9c654b23",
   "metadata": {},
   "outputs": [
    {
     "data": {
      "text/plain": [
       "[1, 2, 3, 4, 5]"
      ]
     },
     "execution_count": 294,
     "metadata": {},
     "output_type": "execute_result"
    }
   ],
   "source": [
    "nums_bk"
   ]
  },
  {
   "cell_type": "code",
   "execution_count": 295,
   "id": "bda3aa0d",
   "metadata": {},
   "outputs": [],
   "source": [
    "nums.append(100)"
   ]
  },
  {
   "cell_type": "code",
   "execution_count": 296,
   "id": "9de0f131",
   "metadata": {},
   "outputs": [
    {
     "data": {
      "text/plain": [
       "[1, 2, 3, 4, 5, 100]"
      ]
     },
     "execution_count": 296,
     "metadata": {},
     "output_type": "execute_result"
    }
   ],
   "source": [
    "nums"
   ]
  },
  {
   "cell_type": "code",
   "execution_count": 297,
   "id": "833e0ad1",
   "metadata": {},
   "outputs": [
    {
     "data": {
      "text/plain": [
       "[1, 2, 3, 4, 5, 100]"
      ]
     },
     "execution_count": 297,
     "metadata": {},
     "output_type": "execute_result"
    }
   ],
   "source": [
    "nums_bk"
   ]
  },
  {
   "cell_type": "code",
   "execution_count": 298,
   "id": "e77409aa",
   "metadata": {},
   "outputs": [],
   "source": [
    "nums_bk.remove(4)"
   ]
  },
  {
   "cell_type": "code",
   "execution_count": 299,
   "id": "1b9f1ae5",
   "metadata": {},
   "outputs": [
    {
     "data": {
      "text/plain": [
       "[1, 2, 3, 5, 100]"
      ]
     },
     "execution_count": 299,
     "metadata": {},
     "output_type": "execute_result"
    }
   ],
   "source": [
    "nums_bk"
   ]
  },
  {
   "cell_type": "code",
   "execution_count": 300,
   "id": "9071ddae",
   "metadata": {},
   "outputs": [
    {
     "data": {
      "text/plain": [
       "[1, 2, 3, 5, 100]"
      ]
     },
     "execution_count": 300,
     "metadata": {},
     "output_type": "execute_result"
    }
   ],
   "source": [
    "nums"
   ]
  },
  {
   "cell_type": "code",
   "execution_count": 301,
   "id": "39187c1f",
   "metadata": {},
   "outputs": [
    {
     "data": {
      "text/plain": [
       "2230334413824"
      ]
     },
     "execution_count": 301,
     "metadata": {},
     "output_type": "execute_result"
    }
   ],
   "source": [
    "id(nums)"
   ]
  },
  {
   "cell_type": "code",
   "execution_count": 302,
   "id": "16eba000",
   "metadata": {},
   "outputs": [
    {
     "data": {
      "text/plain": [
       "2230334413824"
      ]
     },
     "execution_count": 302,
     "metadata": {},
     "output_type": "execute_result"
    }
   ],
   "source": [
    "id(nums_bk)"
   ]
  },
  {
   "cell_type": "code",
   "execution_count": 303,
   "id": "918ee1b6",
   "metadata": {},
   "outputs": [],
   "source": [
    "import copy"
   ]
  },
  {
   "cell_type": "code",
   "execution_count": null,
   "id": "9e65ebee",
   "metadata": {},
   "outputs": [],
   "source": [
    "#shallow copy(copy.copy())\n",
    "#deep copy(copy.deepcopy())"
   ]
  },
  {
   "cell_type": "code",
   "execution_count": 312,
   "id": "2be3e390",
   "metadata": {},
   "outputs": [],
   "source": [
    "nums=[1,2,[3,4],5]"
   ]
  },
  {
   "cell_type": "code",
   "execution_count": 313,
   "id": "13040a13",
   "metadata": {},
   "outputs": [],
   "source": [
    "s_nums=copy.copy(nums)"
   ]
  },
  {
   "cell_type": "code",
   "execution_count": 314,
   "id": "653eef98",
   "metadata": {},
   "outputs": [
    {
     "data": {
      "text/plain": [
       "[1, 2, [3, 4], 5]"
      ]
     },
     "execution_count": 314,
     "metadata": {},
     "output_type": "execute_result"
    }
   ],
   "source": [
    "nums"
   ]
  },
  {
   "cell_type": "code",
   "execution_count": 315,
   "id": "17f37948",
   "metadata": {},
   "outputs": [
    {
     "data": {
      "text/plain": [
       "[1, 2, [3, 4], 5]"
      ]
     },
     "execution_count": 315,
     "metadata": {},
     "output_type": "execute_result"
    }
   ],
   "source": [
    "s_nums"
   ]
  },
  {
   "cell_type": "code",
   "execution_count": 316,
   "id": "38c19936",
   "metadata": {},
   "outputs": [],
   "source": [
    "nums.append(6)"
   ]
  },
  {
   "cell_type": "code",
   "execution_count": 317,
   "id": "00d8725a",
   "metadata": {},
   "outputs": [
    {
     "data": {
      "text/plain": [
       "[1, 2, [3, 4], 5, 6]"
      ]
     },
     "execution_count": 317,
     "metadata": {},
     "output_type": "execute_result"
    }
   ],
   "source": [
    "nums"
   ]
  },
  {
   "cell_type": "code",
   "execution_count": 318,
   "id": "1a2cb503",
   "metadata": {},
   "outputs": [
    {
     "data": {
      "text/plain": [
       "[1, 2, [3, 4], 5]"
      ]
     },
     "execution_count": 318,
     "metadata": {},
     "output_type": "execute_result"
    }
   ],
   "source": [
    "s_nums"
   ]
  },
  {
   "cell_type": "code",
   "execution_count": 319,
   "id": "e0c7776b",
   "metadata": {},
   "outputs": [],
   "source": [
    "s_nums.insert(0,100)"
   ]
  },
  {
   "cell_type": "code",
   "execution_count": 320,
   "id": "85fbba89",
   "metadata": {},
   "outputs": [
    {
     "data": {
      "text/plain": [
       "[100, 1, 2, [3, 4], 5]"
      ]
     },
     "execution_count": 320,
     "metadata": {},
     "output_type": "execute_result"
    }
   ],
   "source": [
    "s_nums"
   ]
  },
  {
   "cell_type": "code",
   "execution_count": 321,
   "id": "30cd8424",
   "metadata": {},
   "outputs": [
    {
     "data": {
      "text/plain": [
       "[1, 2, [3, 4], 5, 6]"
      ]
     },
     "execution_count": 321,
     "metadata": {},
     "output_type": "execute_result"
    }
   ],
   "source": [
    "nums"
   ]
  },
  {
   "cell_type": "code",
   "execution_count": 323,
   "id": "e2fda4a2",
   "metadata": {},
   "outputs": [],
   "source": [
    "nums[2].append(10)"
   ]
  },
  {
   "cell_type": "code",
   "execution_count": 324,
   "id": "3202cf4b",
   "metadata": {},
   "outputs": [
    {
     "data": {
      "text/plain": [
       "[1, 2, [3, 4, 10], 5, 6]"
      ]
     },
     "execution_count": 324,
     "metadata": {},
     "output_type": "execute_result"
    }
   ],
   "source": [
    "nums"
   ]
  },
  {
   "cell_type": "code",
   "execution_count": 325,
   "id": "95990d2d",
   "metadata": {},
   "outputs": [
    {
     "data": {
      "text/plain": [
       "[100, 1, 2, [3, 4, 10], 5]"
      ]
     },
     "execution_count": 325,
     "metadata": {},
     "output_type": "execute_result"
    }
   ],
   "source": [
    "s_nums"
   ]
  },
  {
   "cell_type": "code",
   "execution_count": 326,
   "id": "bfb19eef",
   "metadata": {},
   "outputs": [],
   "source": [
    "##deep copy"
   ]
  },
  {
   "cell_type": "code",
   "execution_count": 327,
   "id": "85efd84d",
   "metadata": {},
   "outputs": [],
   "source": [
    "nums=[1,2,[3,4],5]"
   ]
  },
  {
   "cell_type": "code",
   "execution_count": 328,
   "id": "c7a06d0d",
   "metadata": {},
   "outputs": [],
   "source": [
    "d_nums=copy.deepcopy(nums)"
   ]
  },
  {
   "cell_type": "code",
   "execution_count": 329,
   "id": "73547c5c",
   "metadata": {},
   "outputs": [
    {
     "data": {
      "text/plain": [
       "[1, 2, [3, 4], 5]"
      ]
     },
     "execution_count": 329,
     "metadata": {},
     "output_type": "execute_result"
    }
   ],
   "source": [
    "nums"
   ]
  },
  {
   "cell_type": "code",
   "execution_count": 330,
   "id": "ec41d982",
   "metadata": {},
   "outputs": [
    {
     "data": {
      "text/plain": [
       "[1, 2, [3, 4], 5]"
      ]
     },
     "execution_count": 330,
     "metadata": {},
     "output_type": "execute_result"
    }
   ],
   "source": [
    "d_nums"
   ]
  },
  {
   "cell_type": "code",
   "execution_count": 331,
   "id": "1c739a4d",
   "metadata": {},
   "outputs": [],
   "source": [
    "nums.append(6)"
   ]
  },
  {
   "cell_type": "code",
   "execution_count": 332,
   "id": "8b5394bb",
   "metadata": {},
   "outputs": [
    {
     "data": {
      "text/plain": [
       "[1, 2, [3, 4], 5, 6]"
      ]
     },
     "execution_count": 332,
     "metadata": {},
     "output_type": "execute_result"
    }
   ],
   "source": [
    "nums"
   ]
  },
  {
   "cell_type": "code",
   "execution_count": 333,
   "id": "911d8f89",
   "metadata": {},
   "outputs": [
    {
     "data": {
      "text/plain": [
       "[1, 2, [3, 4], 5]"
      ]
     },
     "execution_count": 333,
     "metadata": {},
     "output_type": "execute_result"
    }
   ],
   "source": [
    "d_nums"
   ]
  },
  {
   "cell_type": "code",
   "execution_count": 335,
   "id": "4cc8c65e",
   "metadata": {},
   "outputs": [],
   "source": [
    "nums[2].insert(1,3.5)"
   ]
  },
  {
   "cell_type": "code",
   "execution_count": 336,
   "id": "b5246fca",
   "metadata": {},
   "outputs": [
    {
     "data": {
      "text/plain": [
       "[1, 2, [3, 3.5, 4], 5, 6]"
      ]
     },
     "execution_count": 336,
     "metadata": {},
     "output_type": "execute_result"
    }
   ],
   "source": [
    "nums"
   ]
  },
  {
   "cell_type": "code",
   "execution_count": 337,
   "id": "8690a943",
   "metadata": {},
   "outputs": [
    {
     "data": {
      "text/plain": [
       "[1, 2, [3, 4], 5]"
      ]
     },
     "execution_count": 337,
     "metadata": {},
     "output_type": "execute_result"
    }
   ],
   "source": [
    "d_nums"
   ]
  },
  {
   "cell_type": "code",
   "execution_count": 338,
   "id": "3f04f538",
   "metadata": {},
   "outputs": [],
   "source": [
    "# usual copy"
   ]
  },
  {
   "cell_type": "code",
   "execution_count": 339,
   "id": "740dcd2b",
   "metadata": {},
   "outputs": [],
   "source": [
    "nums=[1,2,[3,4],5]"
   ]
  },
  {
   "cell_type": "code",
   "execution_count": 340,
   "id": "240737d4",
   "metadata": {},
   "outputs": [],
   "source": [
    "c_nums=nums"
   ]
  },
  {
   "cell_type": "code",
   "execution_count": 341,
   "id": "3cdbdb8c",
   "metadata": {},
   "outputs": [
    {
     "data": {
      "text/plain": [
       "[1, 2, [3, 4], 5]"
      ]
     },
     "execution_count": 341,
     "metadata": {},
     "output_type": "execute_result"
    }
   ],
   "source": [
    "nums"
   ]
  },
  {
   "cell_type": "code",
   "execution_count": 342,
   "id": "fdd1605a",
   "metadata": {},
   "outputs": [
    {
     "data": {
      "text/plain": [
       "[1, 2, [3, 4], 5]"
      ]
     },
     "execution_count": 342,
     "metadata": {},
     "output_type": "execute_result"
    }
   ],
   "source": [
    "c_nums"
   ]
  },
  {
   "cell_type": "code",
   "execution_count": 343,
   "id": "335773cf",
   "metadata": {},
   "outputs": [],
   "source": [
    "nums.append(6)"
   ]
  },
  {
   "cell_type": "code",
   "execution_count": 344,
   "id": "9fb5eb8e",
   "metadata": {},
   "outputs": [
    {
     "data": {
      "text/plain": [
       "[1, 2, [3, 4], 5, 6]"
      ]
     },
     "execution_count": 344,
     "metadata": {},
     "output_type": "execute_result"
    }
   ],
   "source": [
    "nums"
   ]
  },
  {
   "cell_type": "code",
   "execution_count": 345,
   "id": "6d15ca5c",
   "metadata": {},
   "outputs": [
    {
     "data": {
      "text/plain": [
       "[1, 2, [3, 4], 5, 6]"
      ]
     },
     "execution_count": 345,
     "metadata": {},
     "output_type": "execute_result"
    }
   ],
   "source": [
    "c_nums"
   ]
  },
  {
   "cell_type": "code",
   "execution_count": 346,
   "id": "4c0e2f3d",
   "metadata": {},
   "outputs": [],
   "source": [
    "nums[2].insert(1,3.5)"
   ]
  },
  {
   "cell_type": "code",
   "execution_count": 347,
   "id": "e9c199cd",
   "metadata": {},
   "outputs": [
    {
     "data": {
      "text/plain": [
       "[1, 2, [3, 3.5, 4], 5, 6]"
      ]
     },
     "execution_count": 347,
     "metadata": {},
     "output_type": "execute_result"
    }
   ],
   "source": [
    "nums"
   ]
  },
  {
   "cell_type": "code",
   "execution_count": 348,
   "id": "3b107a27",
   "metadata": {},
   "outputs": [
    {
     "data": {
      "text/plain": [
       "[1, 2, [3, 3.5, 4], 5, 6]"
      ]
     },
     "execution_count": 348,
     "metadata": {},
     "output_type": "execute_result"
    }
   ],
   "source": [
    "c_nums"
   ]
  },
  {
   "cell_type": "code",
   "execution_count": 349,
   "id": "cf132047",
   "metadata": {},
   "outputs": [
    {
     "name": "stdout",
     "output_type": "stream",
     "text": [
      "['__add__', '__class__', '__contains__', '__delattr__', '__delitem__', '__dir__', '__doc__', '__eq__', '__format__', '__ge__', '__getattribute__', '__getitem__', '__gt__', '__hash__', '__iadd__', '__imul__', '__init__', '__init_subclass__', '__iter__', '__le__', '__len__', '__lt__', '__mul__', '__ne__', '__new__', '__reduce__', '__reduce_ex__', '__repr__', '__reversed__', '__rmul__', '__setattr__', '__setitem__', '__sizeof__', '__str__', '__subclasshook__', 'append', 'clear', 'copy', 'count', 'extend', 'index', 'insert', 'pop', 'remove', 'reverse', 'sort']\n"
     ]
    }
   ],
   "source": [
    "print(dir(nums))"
   ]
  },
  {
   "cell_type": "code",
   "execution_count": null,
   "id": "5c895df2",
   "metadata": {},
   "outputs": [],
   "source": [
    "'append', 'clear', 'copy', 'count', 'extend', 'index', 'insert', 'pop', 'remove', 'reverse', 'sort'"
   ]
  },
  {
   "cell_type": "markdown",
   "id": "278cc49b",
   "metadata": {},
   "source": [
    "# TUPLE"
   ]
  },
  {
   "cell_type": "code",
   "execution_count": 351,
   "id": "9f24094f",
   "metadata": {},
   "outputs": [],
   "source": [
    "nums=(1,2,3,4,5)"
   ]
  },
  {
   "cell_type": "code",
   "execution_count": 352,
   "id": "3ec5b6da",
   "metadata": {},
   "outputs": [
    {
     "data": {
      "text/plain": [
       "tuple"
      ]
     },
     "execution_count": 352,
     "metadata": {},
     "output_type": "execute_result"
    }
   ],
   "source": [
    "type(nums)"
   ]
  },
  {
   "cell_type": "code",
   "execution_count": 353,
   "id": "cc83a3d3",
   "metadata": {},
   "outputs": [
    {
     "name": "stdout",
     "output_type": "stream",
     "text": [
      "['__add__', '__class__', '__contains__', '__delattr__', '__dir__', '__doc__', '__eq__', '__format__', '__ge__', '__getattribute__', '__getitem__', '__getnewargs__', '__gt__', '__hash__', '__init__', '__init_subclass__', '__iter__', '__le__', '__len__', '__lt__', '__mul__', '__ne__', '__new__', '__reduce__', '__reduce_ex__', '__repr__', '__rmul__', '__setattr__', '__sizeof__', '__str__', '__subclasshook__', 'count', 'index']\n"
     ]
    }
   ],
   "source": [
    "print(dir(nums))"
   ]
  },
  {
   "cell_type": "code",
   "execution_count": 354,
   "id": "e7f4107a",
   "metadata": {},
   "outputs": [
    {
     "data": {
      "text/plain": [
       "1"
      ]
     },
     "execution_count": 354,
     "metadata": {},
     "output_type": "execute_result"
    }
   ],
   "source": [
    "nums.count(5)"
   ]
  },
  {
   "cell_type": "code",
   "execution_count": 355,
   "id": "c658427b",
   "metadata": {},
   "outputs": [
    {
     "data": {
      "text/plain": [
       "4"
      ]
     },
     "execution_count": 355,
     "metadata": {},
     "output_type": "execute_result"
    }
   ],
   "source": [
    "nums.index(5)"
   ]
  },
  {
   "cell_type": "markdown",
   "id": "40a4d183",
   "metadata": {},
   "source": [
    "# LIST VS TUPLE"
   ]
  },
  {
   "cell_type": "code",
   "execution_count": null,
   "id": "23591fe4",
   "metadata": {},
   "outputs": [],
   "source": [
    "List is mutable                                 Tuple is immutable\n",
    "List takes more memory                          Less Memory\n",
    "Takes more time to process                      very less time to process"
   ]
  },
  {
   "cell_type": "code",
   "execution_count": 356,
   "id": "0fdf7a42",
   "metadata": {},
   "outputs": [
    {
     "name": "stdout",
     "output_type": "stream",
     "text": [
      "LIST SIZE: 128\n",
      "TUPLE SIZE: 112\n"
     ]
    }
   ],
   "source": [
    "import sys\n",
    "\n",
    "l_nums=[1,2,3,4,5,7,8,9,10]\n",
    "t_nums=(1,2,3,4,5,7,8,9,10)\n",
    "\n",
    "print(\"LIST SIZE:\", sys.getsizeof(l_nums))\n",
    "print(\"TUPLE SIZE:\", sys.getsizeof(t_nums))"
   ]
  },
  {
   "cell_type": "code",
   "execution_count": 358,
   "id": "adbdeea9",
   "metadata": {},
   "outputs": [
    {
     "name": "stdout",
     "output_type": "stream",
     "text": [
      "List took: 706.2955000001239\n",
      "Tuple took: 61.283900002308656\n"
     ]
    }
   ],
   "source": [
    "import timeit\n",
    "\n",
    "print(\"List took:\",timeit.timeit(stmt=\"[1,2,3,4,5,7,8,9,10]\", number=10000000)*1000)\n",
    "print(\"Tuple took:\",timeit.timeit(stmt=\"(1,2,3,4,5,7,8,9,10)\", number=10000000)*1000)"
   ]
  },
  {
   "cell_type": "markdown",
   "id": "d96b46a9",
   "metadata": {},
   "source": [
    "# DICTIONARY"
   ]
  },
  {
   "cell_type": "code",
   "execution_count": null,
   "id": "e9dfc480",
   "metadata": {},
   "outputs": [],
   "source": [
    "key , value pairs of elements\n",
    "key can't be duplicated\n",
    "it is unordered array, associative array, hash, hash map"
   ]
  },
  {
   "cell_type": "code",
   "execution_count": 359,
   "id": "594da1c8",
   "metadata": {},
   "outputs": [],
   "source": [
    "info={'name':'Raghul Ramesh','exp':17,'city':'Chennai'}"
   ]
  },
  {
   "cell_type": "code",
   "execution_count": 360,
   "id": "b80bab1c",
   "metadata": {},
   "outputs": [
    {
     "data": {
      "text/plain": [
       "{'name': 'Raghul Ramesh', 'exp': 17, 'city': 'Chennai'}"
      ]
     },
     "execution_count": 360,
     "metadata": {},
     "output_type": "execute_result"
    }
   ],
   "source": [
    "info"
   ]
  },
  {
   "cell_type": "code",
   "execution_count": 361,
   "id": "f6d2fcd1",
   "metadata": {},
   "outputs": [
    {
     "data": {
      "text/plain": [
       "'Raghul Ramesh'"
      ]
     },
     "execution_count": 361,
     "metadata": {},
     "output_type": "execute_result"
    }
   ],
   "source": [
    "info['name']"
   ]
  },
  {
   "cell_type": "code",
   "execution_count": 362,
   "id": "4417df35",
   "metadata": {},
   "outputs": [
    {
     "data": {
      "text/plain": [
       "'Chennai'"
      ]
     },
     "execution_count": 362,
     "metadata": {},
     "output_type": "execute_result"
    }
   ],
   "source": [
    "info['city']"
   ]
  },
  {
   "cell_type": "code",
   "execution_count": 363,
   "id": "08e0cc24",
   "metadata": {},
   "outputs": [],
   "source": [
    "info['manager']='Levin Lenus'"
   ]
  },
  {
   "cell_type": "code",
   "execution_count": 364,
   "id": "b6244ae8",
   "metadata": {},
   "outputs": [
    {
     "data": {
      "text/plain": [
       "{'name': 'Raghul Ramesh',\n",
       " 'exp': 17,\n",
       " 'city': 'Chennai',\n",
       " 'manager': 'Levin Lenus'}"
      ]
     },
     "execution_count": 364,
     "metadata": {},
     "output_type": "execute_result"
    }
   ],
   "source": [
    "info"
   ]
  },
  {
   "cell_type": "code",
   "execution_count": 365,
   "id": "d30f274a",
   "metadata": {},
   "outputs": [],
   "source": [
    "info['city']='Bangalore'"
   ]
  },
  {
   "cell_type": "code",
   "execution_count": 366,
   "id": "931590c3",
   "metadata": {},
   "outputs": [
    {
     "data": {
      "text/plain": [
       "{'name': 'Raghul Ramesh',\n",
       " 'exp': 17,\n",
       " 'city': 'Bangalore',\n",
       " 'manager': 'Levin Lenus'}"
      ]
     },
     "execution_count": 366,
     "metadata": {},
     "output_type": "execute_result"
    }
   ],
   "source": [
    "info"
   ]
  },
  {
   "cell_type": "code",
   "execution_count": 367,
   "id": "0fb47ad8",
   "metadata": {},
   "outputs": [],
   "source": [
    "info.update({'exp':20,'city':'hyderabad','project':'marketing analytics','BU':'LND'})"
   ]
  },
  {
   "cell_type": "code",
   "execution_count": 368,
   "id": "20dc0c8b",
   "metadata": {},
   "outputs": [
    {
     "data": {
      "text/plain": [
       "{'name': 'Raghul Ramesh',\n",
       " 'exp': 20,\n",
       " 'city': 'hyderabad',\n",
       " 'manager': 'Levin Lenus',\n",
       " 'project': 'marketing analytics',\n",
       " 'BU': 'LND'}"
      ]
     },
     "execution_count": 368,
     "metadata": {},
     "output_type": "execute_result"
    }
   ],
   "source": [
    "info"
   ]
  },
  {
   "cell_type": "code",
   "execution_count": 369,
   "id": "e8b4f095",
   "metadata": {},
   "outputs": [
    {
     "ename": "KeyError",
     "evalue": "'salary'",
     "output_type": "error",
     "traceback": [
      "\u001b[1;31m---------------------------------------------------------------------------\u001b[0m",
      "\u001b[1;31mKeyError\u001b[0m                                  Traceback (most recent call last)",
      "Input \u001b[1;32mIn [369]\u001b[0m, in \u001b[0;36m<cell line: 1>\u001b[1;34m()\u001b[0m\n\u001b[1;32m----> 1\u001b[0m \u001b[43minfo\u001b[49m\u001b[43m[\u001b[49m\u001b[38;5;124;43m'\u001b[39;49m\u001b[38;5;124;43msalary\u001b[39;49m\u001b[38;5;124;43m'\u001b[39;49m\u001b[43m]\u001b[49m\n",
      "\u001b[1;31mKeyError\u001b[0m: 'salary'"
     ]
    }
   ],
   "source": [
    "info['salary']"
   ]
  },
  {
   "cell_type": "code",
   "execution_count": 370,
   "id": "21d004a6",
   "metadata": {},
   "outputs": [
    {
     "data": {
      "text/plain": [
       "'Raghul Ramesh'"
      ]
     },
     "execution_count": 370,
     "metadata": {},
     "output_type": "execute_result"
    }
   ],
   "source": [
    "info.get('name')"
   ]
  },
  {
   "cell_type": "code",
   "execution_count": 375,
   "id": "aa1d71c6",
   "metadata": {},
   "outputs": [
    {
     "data": {
      "text/plain": [
       "'Not Available'"
      ]
     },
     "execution_count": 375,
     "metadata": {},
     "output_type": "execute_result"
    }
   ],
   "source": [
    "info.get('salary','Not Available')"
   ]
  },
  {
   "cell_type": "code",
   "execution_count": 376,
   "id": "1e6eaf8f",
   "metadata": {},
   "outputs": [
    {
     "data": {
      "text/plain": [
       "{'name': 'Raghul Ramesh',\n",
       " 'exp': 20,\n",
       " 'city': 'hyderabad',\n",
       " 'manager': 'Levin Lenus',\n",
       " 'project': 'marketing analytics',\n",
       " 'BU': 'LND'}"
      ]
     },
     "execution_count": 376,
     "metadata": {},
     "output_type": "execute_result"
    }
   ],
   "source": [
    "info"
   ]
  },
  {
   "cell_type": "code",
   "execution_count": 377,
   "id": "b77363ce",
   "metadata": {},
   "outputs": [
    {
     "data": {
      "text/plain": [
       "'Levin Lenus'"
      ]
     },
     "execution_count": 377,
     "metadata": {},
     "output_type": "execute_result"
    }
   ],
   "source": [
    "info.setdefault('manager')"
   ]
  },
  {
   "cell_type": "code",
   "execution_count": 379,
   "id": "71dd64a4",
   "metadata": {},
   "outputs": [
    {
     "data": {
      "text/plain": [
       "'hyderabad'"
      ]
     },
     "execution_count": 379,
     "metadata": {},
     "output_type": "execute_result"
    }
   ],
   "source": [
    "info.setdefault('city','Mumbai')"
   ]
  },
  {
   "cell_type": "code",
   "execution_count": 380,
   "id": "e7980644",
   "metadata": {},
   "outputs": [
    {
     "data": {
      "text/plain": [
       "{'name': 'Raghul Ramesh',\n",
       " 'exp': 20,\n",
       " 'city': 'hyderabad',\n",
       " 'manager': 'Levin Lenus',\n",
       " 'project': 'marketing analytics',\n",
       " 'BU': 'LND'}"
      ]
     },
     "execution_count": 380,
     "metadata": {},
     "output_type": "execute_result"
    }
   ],
   "source": [
    "info"
   ]
  },
  {
   "cell_type": "code",
   "execution_count": 382,
   "id": "7931cddd",
   "metadata": {},
   "outputs": [
    {
     "data": {
      "text/plain": [
       "100000"
      ]
     },
     "execution_count": 382,
     "metadata": {},
     "output_type": "execute_result"
    }
   ],
   "source": [
    "info.setdefault('salary',100000)"
   ]
  },
  {
   "cell_type": "code",
   "execution_count": 383,
   "id": "5a6b6c63",
   "metadata": {},
   "outputs": [
    {
     "data": {
      "text/plain": [
       "{'name': 'Raghul Ramesh',\n",
       " 'exp': 20,\n",
       " 'city': 'hyderabad',\n",
       " 'manager': 'Levin Lenus',\n",
       " 'project': 'marketing analytics',\n",
       " 'BU': 'LND',\n",
       " 'salary': 100000}"
      ]
     },
     "execution_count": 383,
     "metadata": {},
     "output_type": "execute_result"
    }
   ],
   "source": [
    "info"
   ]
  },
  {
   "cell_type": "code",
   "execution_count": 384,
   "id": "3810f749",
   "metadata": {},
   "outputs": [
    {
     "name": "stdout",
     "output_type": "stream",
     "text": [
      "['__class__', '__contains__', '__delattr__', '__delitem__', '__dir__', '__doc__', '__eq__', '__format__', '__ge__', '__getattribute__', '__getitem__', '__gt__', '__hash__', '__init__', '__init_subclass__', '__iter__', '__le__', '__len__', '__lt__', '__ne__', '__new__', '__reduce__', '__reduce_ex__', '__repr__', '__reversed__', '__setattr__', '__setitem__', '__sizeof__', '__str__', '__subclasshook__', 'clear', 'copy', 'fromkeys', 'get', 'items', 'keys', 'pop', 'popitem', 'setdefault', 'update', 'values']\n"
     ]
    }
   ],
   "source": [
    "print(dir(info))"
   ]
  },
  {
   "cell_type": "code",
   "execution_count": 385,
   "id": "7447f026",
   "metadata": {},
   "outputs": [
    {
     "name": "stdout",
     "output_type": "stream",
     "text": [
      "{'name': 'Raghul Ramesh', 'exp': 20, 'city': 'hyderabad', 'manager': 'Levin Lenus', 'project': 'marketing analytics', 'BU': 'LND', 'salary': 100000}\n"
     ]
    }
   ],
   "source": [
    "# keys(), values() , items()\n",
    "\n",
    "print(info)"
   ]
  },
  {
   "cell_type": "code",
   "execution_count": 386,
   "id": "ab64de76",
   "metadata": {},
   "outputs": [
    {
     "data": {
      "text/plain": [
       "dict_keys(['name', 'exp', 'city', 'manager', 'project', 'BU', 'salary'])"
      ]
     },
     "execution_count": 386,
     "metadata": {},
     "output_type": "execute_result"
    }
   ],
   "source": [
    "info.keys()"
   ]
  },
  {
   "cell_type": "code",
   "execution_count": 387,
   "id": "27950747",
   "metadata": {},
   "outputs": [
    {
     "data": {
      "text/plain": [
       "dict_values(['Raghul Ramesh', 20, 'hyderabad', 'Levin Lenus', 'marketing analytics', 'LND', 100000])"
      ]
     },
     "execution_count": 387,
     "metadata": {},
     "output_type": "execute_result"
    }
   ],
   "source": [
    "info.values()"
   ]
  },
  {
   "cell_type": "code",
   "execution_count": 388,
   "id": "7cca86dc",
   "metadata": {},
   "outputs": [
    {
     "data": {
      "text/plain": [
       "dict_items([('name', 'Raghul Ramesh'), ('exp', 20), ('city', 'hyderabad'), ('manager', 'Levin Lenus'), ('project', 'marketing analytics'), ('BU', 'LND'), ('salary', 100000)])"
      ]
     },
     "execution_count": 388,
     "metadata": {},
     "output_type": "execute_result"
    }
   ],
   "source": [
    "info.items()"
   ]
  },
  {
   "cell_type": "code",
   "execution_count": 392,
   "id": "43f180d1",
   "metadata": {},
   "outputs": [
    {
     "name": "stdout",
     "output_type": "stream",
     "text": [
      "name ====> Raghul Ramesh\n",
      "exp ====> 20\n",
      "city ====> hyderabad\n",
      "manager ====> Levin Lenus\n",
      "project ====> marketing analytics\n",
      "BU ====> LND\n",
      "salary ====> 100000\n"
     ]
    }
   ],
   "source": [
    "for k in info.keys():\n",
    "    print(k + \" ====> \" + str(info[k]))"
   ]
  },
  {
   "cell_type": "code",
   "execution_count": 393,
   "id": "1cdc728d",
   "metadata": {},
   "outputs": [
    {
     "name": "stdout",
     "output_type": "stream",
     "text": [
      "name ====> Raghul Ramesh\n",
      "exp ====> 20\n",
      "city ====> hyderabad\n",
      "manager ====> Levin Lenus\n",
      "project ====> marketing analytics\n",
      "BU ====> LND\n",
      "salary ====> 100000\n"
     ]
    }
   ],
   "source": [
    "for k,v in info.items():\n",
    "    print(k + \" ====> \" + str(v))"
   ]
  },
  {
   "cell_type": "code",
   "execution_count": 394,
   "id": "77e6cfc8",
   "metadata": {},
   "outputs": [],
   "source": [
    "# pop , popitem"
   ]
  },
  {
   "cell_type": "code",
   "execution_count": 395,
   "id": "ebe9bafa",
   "metadata": {},
   "outputs": [
    {
     "data": {
      "text/plain": [
       "100000"
      ]
     },
     "execution_count": 395,
     "metadata": {},
     "output_type": "execute_result"
    }
   ],
   "source": [
    "info.pop('salary')"
   ]
  },
  {
   "cell_type": "code",
   "execution_count": 396,
   "id": "5cebeb83",
   "metadata": {},
   "outputs": [
    {
     "data": {
      "text/plain": [
       "{'name': 'Raghul Ramesh',\n",
       " 'exp': 20,\n",
       " 'city': 'hyderabad',\n",
       " 'manager': 'Levin Lenus',\n",
       " 'project': 'marketing analytics',\n",
       " 'BU': 'LND'}"
      ]
     },
     "execution_count": 396,
     "metadata": {},
     "output_type": "execute_result"
    }
   ],
   "source": [
    "info"
   ]
  },
  {
   "cell_type": "code",
   "execution_count": 397,
   "id": "766684c1",
   "metadata": {},
   "outputs": [
    {
     "data": {
      "text/plain": [
       "20"
      ]
     },
     "execution_count": 397,
     "metadata": {},
     "output_type": "execute_result"
    }
   ],
   "source": [
    "info.pop('exp')"
   ]
  },
  {
   "cell_type": "code",
   "execution_count": 398,
   "id": "d3e44864",
   "metadata": {},
   "outputs": [
    {
     "data": {
      "text/plain": [
       "{'name': 'Raghul Ramesh',\n",
       " 'city': 'hyderabad',\n",
       " 'manager': 'Levin Lenus',\n",
       " 'project': 'marketing analytics',\n",
       " 'BU': 'LND'}"
      ]
     },
     "execution_count": 398,
     "metadata": {},
     "output_type": "execute_result"
    }
   ],
   "source": [
    "info"
   ]
  },
  {
   "cell_type": "code",
   "execution_count": 399,
   "id": "5c8b8089",
   "metadata": {},
   "outputs": [
    {
     "data": {
      "text/plain": [
       "('BU', 'LND')"
      ]
     },
     "execution_count": 399,
     "metadata": {},
     "output_type": "execute_result"
    }
   ],
   "source": [
    "info.popitem()"
   ]
  },
  {
   "cell_type": "code",
   "execution_count": 400,
   "id": "bcac3052",
   "metadata": {},
   "outputs": [
    {
     "data": {
      "text/plain": [
       "{'name': 'Raghul Ramesh',\n",
       " 'city': 'hyderabad',\n",
       " 'manager': 'Levin Lenus',\n",
       " 'project': 'marketing analytics'}"
      ]
     },
     "execution_count": 400,
     "metadata": {},
     "output_type": "execute_result"
    }
   ],
   "source": [
    "info"
   ]
  },
  {
   "cell_type": "code",
   "execution_count": 401,
   "id": "5296b512",
   "metadata": {},
   "outputs": [
    {
     "data": {
      "text/plain": [
       "('project', 'marketing analytics')"
      ]
     },
     "execution_count": 401,
     "metadata": {},
     "output_type": "execute_result"
    }
   ],
   "source": [
    "info.popitem()"
   ]
  },
  {
   "cell_type": "code",
   "execution_count": 402,
   "id": "a06bf914",
   "metadata": {},
   "outputs": [
    {
     "data": {
      "text/plain": [
       "{'name': 'Raghul Ramesh', 'city': 'hyderabad', 'manager': 'Levin Lenus'}"
      ]
     },
     "execution_count": 402,
     "metadata": {},
     "output_type": "execute_result"
    }
   ],
   "source": [
    "info"
   ]
  },
  {
   "cell_type": "code",
   "execution_count": 403,
   "id": "b593ecc7",
   "metadata": {},
   "outputs": [],
   "source": [
    "# fromkeys"
   ]
  },
  {
   "cell_type": "code",
   "execution_count": 404,
   "id": "d886797a",
   "metadata": {},
   "outputs": [],
   "source": [
    "data=['fname','lname','location','gender','mobile','email']"
   ]
  },
  {
   "cell_type": "code",
   "execution_count": 409,
   "id": "2e4d9684",
   "metadata": {},
   "outputs": [],
   "source": [
    "emp_dict=dict.fromkeys(data,'TBD')"
   ]
  },
  {
   "cell_type": "code",
   "execution_count": 410,
   "id": "cb40463a",
   "metadata": {},
   "outputs": [
    {
     "data": {
      "text/plain": [
       "{'fname': 'TBD',\n",
       " 'lname': 'TBD',\n",
       " 'location': 'TBD',\n",
       " 'gender': 'TBD',\n",
       " 'mobile': 'TBD',\n",
       " 'email': 'TBD'}"
      ]
     },
     "execution_count": 410,
     "metadata": {},
     "output_type": "execute_result"
    }
   ],
   "source": [
    "emp_dict"
   ]
  },
  {
   "cell_type": "code",
   "execution_count": 413,
   "id": "6179af6d",
   "metadata": {},
   "outputs": [],
   "source": [
    "emp_dict.clear()"
   ]
  },
  {
   "cell_type": "code",
   "execution_count": 414,
   "id": "397670e3",
   "metadata": {},
   "outputs": [
    {
     "data": {
      "text/plain": [
       "{}"
      ]
     },
     "execution_count": 414,
     "metadata": {},
     "output_type": "execute_result"
    }
   ],
   "source": [
    "emp_dict"
   ]
  },
  {
   "cell_type": "code",
   "execution_count": null,
   "id": "c4ceaf47",
   "metadata": {},
   "outputs": [],
   "source": []
  }
 ],
 "metadata": {
  "kernelspec": {
   "display_name": "Python 3 (ipykernel)",
   "language": "python",
   "name": "python3"
  },
  "language_info": {
   "codemirror_mode": {
    "name": "ipython",
    "version": 3
   },
   "file_extension": ".py",
   "mimetype": "text/x-python",
   "name": "python",
   "nbconvert_exporter": "python",
   "pygments_lexer": "ipython3",
   "version": "3.8.10"
  }
 },
 "nbformat": 4,
 "nbformat_minor": 5
}
