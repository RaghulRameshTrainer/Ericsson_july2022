{
 "cells": [
  {
   "cell_type": "code",
   "execution_count": null,
   "id": "adba59ab",
   "metadata": {},
   "outputs": [],
   "source": [
    "1995 - java\n",
    "1990  - python\n",
    "\n",
    "100* java = python\n",
    "\n",
    "Python (Django)\n",
    "Tkinter (GUI)\n",
    "Machine Leanring (Python)  1960\n",
    "BigData (Spark - Pyspark)\n",
    "AWS/GCP/AZURE - Python\n",
    "DevOps - Python\n",
    "IOT - Python "
   ]
  },
  {
   "cell_type": "code",
   "execution_count": null,
   "id": "f234499f",
   "metadata": {},
   "outputs": [],
   "source": [
    "Guido Van Rossum - Netherland\n",
    "\n",
    "Monto Python "
   ]
  },
  {
   "cell_type": "code",
   "execution_count": 1,
   "id": "b06d4d3a",
   "metadata": {},
   "outputs": [
    {
     "data": {
      "text/plain": [
       "12"
      ]
     },
     "execution_count": 1,
     "metadata": {},
     "output_type": "execute_result"
    }
   ],
   "source": [
    "5+7"
   ]
  },
  {
   "cell_type": "code",
   "execution_count": 2,
   "id": "c67058d9",
   "metadata": {},
   "outputs": [
    {
     "data": {
      "text/plain": [
       "30"
      ]
     },
     "execution_count": 2,
     "metadata": {},
     "output_type": "execute_result"
    }
   ],
   "source": [
    "5*6"
   ]
  },
  {
   "cell_type": "code",
   "execution_count": 3,
   "id": "d22a7dbd",
   "metadata": {},
   "outputs": [
    {
     "data": {
      "text/plain": [
       "-1"
      ]
     },
     "execution_count": 3,
     "metadata": {},
     "output_type": "execute_result"
    }
   ],
   "source": [
    "5-6"
   ]
  },
  {
   "cell_type": "code",
   "execution_count": 4,
   "id": "2b85cd46",
   "metadata": {},
   "outputs": [
    {
     "data": {
      "text/plain": [
       "0.8333333333333334"
      ]
     },
     "execution_count": 4,
     "metadata": {},
     "output_type": "execute_result"
    }
   ],
   "source": [
    "5/6   #shift+enter"
   ]
  },
  {
   "cell_type": "code",
   "execution_count": 5,
   "id": "3ba11b88",
   "metadata": {},
   "outputs": [
    {
     "data": {
      "text/plain": [
       "11"
      ]
     },
     "execution_count": 5,
     "metadata": {},
     "output_type": "execute_result"
    }
   ],
   "source": [
    "5+6    #ctrl+enter"
   ]
  },
  {
   "cell_type": "code",
   "execution_count": 6,
   "id": "0d93758a",
   "metadata": {},
   "outputs": [
    {
     "data": {
      "text/plain": [
       "11"
      ]
     },
     "execution_count": 6,
     "metadata": {},
     "output_type": "execute_result"
    }
   ],
   "source": [
    "x=5\n",
    "y=6\n",
    "x+y"
   ]
  },
  {
   "cell_type": "code",
   "execution_count": 7,
   "id": "150343c9",
   "metadata": {},
   "outputs": [],
   "source": [
    "name='Raghul Ramesh'"
   ]
  },
  {
   "cell_type": "code",
   "execution_count": 8,
   "id": "77b1cc6c",
   "metadata": {},
   "outputs": [
    {
     "name": "stdout",
     "output_type": "stream",
     "text": [
      "Raghul Ramesh\n"
     ]
    }
   ],
   "source": [
    "print(name)"
   ]
  },
  {
   "cell_type": "code",
   "execution_count": 9,
   "id": "fce20f5e",
   "metadata": {},
   "outputs": [],
   "source": [
    "myname=\"Raghul Ramesh\""
   ]
  },
  {
   "cell_type": "code",
   "execution_count": 10,
   "id": "48c3e40d",
   "metadata": {},
   "outputs": [
    {
     "name": "stdout",
     "output_type": "stream",
     "text": [
      "Raghul Ramesh\n"
     ]
    }
   ],
   "source": [
    "print(myname)"
   ]
  },
  {
   "cell_type": "code",
   "execution_count": 12,
   "id": "b79c7105",
   "metadata": {},
   "outputs": [],
   "source": [
    "college=\"st's joseph engg college\""
   ]
  },
  {
   "cell_type": "code",
   "execution_count": 13,
   "id": "2f5777f8",
   "metadata": {},
   "outputs": [
    {
     "name": "stdout",
     "output_type": "stream",
     "text": [
      "st's joseph engg college\n"
     ]
    }
   ],
   "source": [
    "print(college)"
   ]
  },
  {
   "cell_type": "code",
   "execution_count": 14,
   "id": "3d3b232c",
   "metadata": {},
   "outputs": [],
   "source": [
    "training='Python training program for \"Ericsson\" client'"
   ]
  },
  {
   "cell_type": "code",
   "execution_count": 15,
   "id": "9601031b",
   "metadata": {},
   "outputs": [
    {
     "name": "stdout",
     "output_type": "stream",
     "text": [
      "Python training program for \"Ericsson\" client\n"
     ]
    }
   ],
   "source": [
    "print(training)"
   ]
  },
  {
   "cell_type": "code",
   "execution_count": 19,
   "id": "12a03c3e",
   "metadata": {},
   "outputs": [],
   "source": [
    "text='Python for \"Ecrisson\" client and the duration is \\'5 days\\''"
   ]
  },
  {
   "cell_type": "code",
   "execution_count": 20,
   "id": "ff2c8529",
   "metadata": {},
   "outputs": [
    {
     "name": "stdout",
     "output_type": "stream",
     "text": [
      "Python for \"Ecrisson\" client and the duration is '5 days'\n"
     ]
    }
   ],
   "source": [
    "print(text)"
   ]
  },
  {
   "cell_type": "code",
   "execution_count": 22,
   "id": "b855adbc",
   "metadata": {},
   "outputs": [],
   "source": [
    "info=\"\"\" Python is a high level, dynamic, procedural and object oriented programming langauge\n",
    "It was developed by Guido Van Rossum from Netherland\n",
    "and it was released on early 1990\"\"\""
   ]
  },
  {
   "cell_type": "code",
   "execution_count": 25,
   "id": "b6e0dc6a",
   "metadata": {},
   "outputs": [
    {
     "name": "stdout",
     "output_type": "stream",
     "text": [
      " Python is a high level, dynamic, procedural and object oriented programming langauge\n",
      "It was developed by Guido Van Rossum from Netherland\n",
      "and it was released on early 1990\n"
     ]
    }
   ],
   "source": [
    "print(info)"
   ]
  },
  {
   "cell_type": "code",
   "execution_count": 26,
   "id": "129d1991",
   "metadata": {},
   "outputs": [
    {
     "data": {
      "text/plain": [
       "' Python is a high level, dynamic, procedural and object oriented programming langauge\\nIt was developed by Guido Van Rossum from Netherland\\nand it was released on early 1990'"
      ]
     },
     "execution_count": 26,
     "metadata": {},
     "output_type": "execute_result"
    }
   ],
   "source": [
    "''' Python is a high level, dynamic, procedural and object oriented programming langauge\n",
    "It was developed by Guido Van Rossum from Netherland\n",
    "and it was released on early 1990'''"
   ]
  },
  {
   "cell_type": "code",
   "execution_count": 27,
   "id": "710c7172",
   "metadata": {},
   "outputs": [],
   "source": [
    "# Python Introduction"
   ]
  },
  {
   "cell_type": "markdown",
   "id": "da8bd3b9",
   "metadata": {},
   "source": [
    "# Control Statment (if..else)"
   ]
  },
  {
   "cell_type": "code",
   "execution_count": null,
   "id": "2cfb0d84",
   "metadata": {},
   "outputs": [],
   "source": [
    "sytax:\n",
    "\n",
    "if (condition)\n",
    "{\n",
    "    #true statements\n",
    "} else {\n",
    "    # else statements\n",
    "}\n",
    "\n",
    "Python:\n",
    "    \n",
    "if condition:\n",
    "    #statement1\n",
    "    #statement2\n",
    "else:\n",
    "    #statement3\n",
    "    #statement4\n"
   ]
  },
  {
   "cell_type": "code",
   "execution_count": 44,
   "id": "a550abf3",
   "metadata": {},
   "outputs": [
    {
     "name": "stdout",
     "output_type": "stream",
     "text": [
      "x is not 10\n",
      "Thanks\n"
     ]
    }
   ],
   "source": [
    "x=100\n",
    "\n",
    "if x==10:\n",
    "    print(\"x is 10\")\n",
    "else:\n",
    "    print(\"x is not 10\")\n",
    "    \n",
    "print(\"Thanks\")"
   ]
  },
  {
   "cell_type": "code",
   "execution_count": 52,
   "id": "0bd0a92a",
   "metadata": {},
   "outputs": [
    {
     "name": "stdout",
     "output_type": "stream",
     "text": [
      "It is 100 or above\n"
     ]
    }
   ],
   "source": [
    "x=555\n",
    "\n",
    "if x==0:\n",
    "    print(\"x is 0\")\n",
    "elif x > 0 and x < 10:\n",
    "    print(\"it is a single digit number\")\n",
    "elif x >= 10 and x < 100:\n",
    "    print(\"it is 2 digit number\")\n",
    "elif x>=100:\n",
    "    print(\"It is 100 or above\")\n",
    "else:\n",
    "    print(\"The value of x is negative\")"
   ]
  },
  {
   "cell_type": "markdown",
   "id": "95d6911b",
   "metadata": {},
   "source": [
    "# LOOPS"
   ]
  },
  {
   "cell_type": "code",
   "execution_count": 2,
   "id": "e4073471",
   "metadata": {},
   "outputs": [
    {
     "name": "stdout",
     "output_type": "stream",
     "text": [
      "0 1 2 3 4 5 6 7 8 9 10 "
     ]
    }
   ],
   "source": [
    "# while and for\n",
    "\n",
    "x=0\n",
    "\n",
    "while x<=10:\n",
    "    print(x,end=' ')    #0,1,2.......10\n",
    "    x=x+1       #1,2,3......11"
   ]
  },
  {
   "cell_type": "code",
   "execution_count": 13,
   "id": "7022fe4a",
   "metadata": {},
   "outputs": [
    {
     "name": "stdout",
     "output_type": "stream",
     "text": [
      "0 2 4 6 8 10 "
     ]
    }
   ],
   "source": [
    "#all even numbers from 0 .. 100\n",
    "\n",
    "x=0\n",
    "\n",
    "while x <= 10:\n",
    "    print(x, end=' ')\n",
    "    x+=2  # x=x+2"
   ]
  },
  {
   "cell_type": "code",
   "execution_count": 6,
   "id": "e3690bd8",
   "metadata": {},
   "outputs": [
    {
     "name": "stdout",
     "output_type": "stream",
     "text": [
      "10\n",
      "9\n",
      "8\n",
      "7\n",
      "6\n",
      "5\n",
      "4\n",
      "3\n",
      "2\n",
      "1\n",
      "0\n"
     ]
    }
   ],
   "source": [
    "x=10\n",
    "\n",
    "while x>=0:\n",
    "    print(x)\n",
    "    x-=1"
   ]
  },
  {
   "cell_type": "code",
   "execution_count": 7,
   "id": "465821a3",
   "metadata": {},
   "outputs": [],
   "source": [
    "city=['Chennai','Banaglore','Hyderabad','Pune','Gurgaon']"
   ]
  },
  {
   "cell_type": "code",
   "execution_count": 8,
   "id": "85968295",
   "metadata": {},
   "outputs": [
    {
     "name": "stdout",
     "output_type": "stream",
     "text": [
      "Chennai\n",
      "Banaglore\n",
      "Hyderabad\n",
      "Pune\n",
      "Gurgaon\n"
     ]
    }
   ],
   "source": [
    "for x in city:\n",
    "    print(x)"
   ]
  },
  {
   "cell_type": "code",
   "execution_count": null,
   "id": "9827f357",
   "metadata": {},
   "outputs": [],
   "source": [
    "# for var in collection/sequence:\n",
    "#     statements"
   ]
  },
  {
   "cell_type": "markdown",
   "id": "c3acadd1",
   "metadata": {},
   "source": [
    "# break and continue"
   ]
  },
  {
   "cell_type": "code",
   "execution_count": 11,
   "id": "5dcb7c51",
   "metadata": {},
   "outputs": [
    {
     "name": "stdout",
     "output_type": "stream",
     "text": [
      "0\n",
      "1\n",
      "2\n",
      "3\n",
      "4\n",
      "I am the next line and not part of the loops\n"
     ]
    }
   ],
   "source": [
    "x=0\n",
    "\n",
    "while x<=10:\n",
    "    if x==5:\n",
    "        break\n",
    "    print(x)\n",
    "    x+=1\n",
    "    \n",
    "print(\"I am the next line and not part of the loops\")"
   ]
  },
  {
   "cell_type": "code",
   "execution_count": 12,
   "id": "955f40e9",
   "metadata": {},
   "outputs": [
    {
     "name": "stdout",
     "output_type": "stream",
     "text": [
      "1\n",
      "2\n",
      "3\n",
      "4\n",
      "6\n",
      "7\n",
      "8\n",
      "9\n",
      "10\n",
      "11\n",
      "I am the next line and not part of the loops\n"
     ]
    }
   ],
   "source": [
    "x=0\n",
    "\n",
    "while x<=10:\n",
    "    x+=1\n",
    "    if x==5:\n",
    "        continue\n",
    "    print(x)\n",
    "    \n",
    "    \n",
    "print(\"I am the next line and not part of the loops\")"
   ]
  },
  {
   "cell_type": "markdown",
   "id": "638db8f6",
   "metadata": {},
   "source": [
    "# input"
   ]
  },
  {
   "cell_type": "code",
   "execution_count": 20,
   "id": "aa3d670f",
   "metadata": {},
   "outputs": [
    {
     "name": "stdout",
     "output_type": "stream",
     "text": [
      "Enter your name:Ashwin\n",
      "Your name is : Ashwin\n",
      "<class 'str'>\n"
     ]
    }
   ],
   "source": [
    "name=input(\"Enter your name:\")\n",
    "print(\"Your name is :\",name)\n",
    "print(type(name))"
   ]
  },
  {
   "cell_type": "code",
   "execution_count": 22,
   "id": "dc90e83e",
   "metadata": {},
   "outputs": [
    {
     "name": "stdout",
     "output_type": "stream",
     "text": [
      "Enter your age:38\n",
      "Your age is : 38\n",
      "<class 'int'>\n"
     ]
    }
   ],
   "source": [
    "age=int(input(\"Enter your age:\"))\n",
    "print(\"Your age is :\",age)\n",
    "print(type(age))"
   ]
  },
  {
   "cell_type": "markdown",
   "id": "00493df2",
   "metadata": {},
   "source": [
    "# range"
   ]
  },
  {
   "cell_type": "code",
   "execution_count": 28,
   "id": "8c338f01",
   "metadata": {},
   "outputs": [
    {
     "name": "stdout",
     "output_type": "stream",
     "text": [
      "1 3 5 7 9 "
     ]
    }
   ],
   "source": [
    "#range(1,10) # The upper value is always exclussive\n",
    "\n",
    "for x in range(1,11,2):\n",
    "    print(x, end =' ')"
   ]
  },
  {
   "cell_type": "code",
   "execution_count": 29,
   "id": "00f88b73",
   "metadata": {},
   "outputs": [
    {
     "name": "stdout",
     "output_type": "stream",
     "text": [
      "1 4 7 10 "
     ]
    }
   ],
   "source": [
    "for x in range(1,11,3):   # step value\n",
    "    print(x, end =' ')"
   ]
  },
  {
   "cell_type": "code",
   "execution_count": 35,
   "id": "a2bf5848",
   "metadata": {},
   "outputs": [
    {
     "name": "stdout",
     "output_type": "stream",
     "text": [
      "1 6 "
     ]
    }
   ],
   "source": [
    "for x in range(1,11,5):   # step value\n",
    "    print(x, end =' ')"
   ]
  },
  {
   "cell_type": "code",
   "execution_count": 37,
   "id": "62c18afb",
   "metadata": {},
   "outputs": [
    {
     "name": "stdout",
     "output_type": "stream",
     "text": [
      "10 11 12 13 14 15 16 17 18 19 20 "
     ]
    }
   ],
   "source": [
    "for x in range(10,21):\n",
    "    print(x, end = ' ')"
   ]
  },
  {
   "cell_type": "code",
   "execution_count": null,
   "id": "c79204ea",
   "metadata": {},
   "outputs": [],
   "source": [
    "\"\"\"\n",
    "Data Structure\n",
    "   - Immuatable\n",
    "       -Numbers\n",
    "       -Strings\n",
    "       -Tuple\n",
    "   - Mutable\n",
    "       -List\n",
    "       -Dictionary\n",
    "       -Set\n",
    "\"\"\""
   ]
  },
  {
   "cell_type": "code",
   "execution_count": null,
   "id": "ffef4c0a",
   "metadata": {},
   "outputs": [],
   "source": [
    "'''\n",
    "Number - Operators\n",
    "    Arithmetic Operator (+-,*,/, ** ,%, //)\n",
    "    Assignment (=)\n",
    "    Comparison (== , !=, > , >= , < , <=)\n",
    "    Binary Operator( &, |, ^)\n",
    "    Membership (in, not in)\n",
    "    Idendity (is , is not)\n",
    "'''"
   ]
  },
  {
   "cell_type": "markdown",
   "id": "a840d000",
   "metadata": {},
   "source": [
    "# Arithmetic Operator"
   ]
  },
  {
   "cell_type": "code",
   "execution_count": 38,
   "id": "564db318",
   "metadata": {},
   "outputs": [
    {
     "data": {
      "text/plain": [
       "30"
      ]
     },
     "execution_count": 38,
     "metadata": {},
     "output_type": "execute_result"
    }
   ],
   "source": [
    "10+20"
   ]
  },
  {
   "cell_type": "code",
   "execution_count": 39,
   "id": "df549040",
   "metadata": {},
   "outputs": [
    {
     "data": {
      "text/plain": [
       "-10"
      ]
     },
     "execution_count": 39,
     "metadata": {},
     "output_type": "execute_result"
    }
   ],
   "source": [
    "10-20"
   ]
  },
  {
   "cell_type": "code",
   "execution_count": 40,
   "id": "06074d1a",
   "metadata": {},
   "outputs": [
    {
     "data": {
      "text/plain": [
       "0.5"
      ]
     },
     "execution_count": 40,
     "metadata": {},
     "output_type": "execute_result"
    }
   ],
   "source": [
    "10/20"
   ]
  },
  {
   "cell_type": "code",
   "execution_count": 41,
   "id": "77d15c5b",
   "metadata": {},
   "outputs": [
    {
     "data": {
      "text/plain": [
       "200"
      ]
     },
     "execution_count": 41,
     "metadata": {},
     "output_type": "execute_result"
    }
   ],
   "source": [
    "10*20"
   ]
  },
  {
   "cell_type": "code",
   "execution_count": 42,
   "id": "e0ad18b2",
   "metadata": {},
   "outputs": [
    {
     "data": {
      "text/plain": [
       "125"
      ]
     },
     "execution_count": 42,
     "metadata": {},
     "output_type": "execute_result"
    }
   ],
   "source": [
    "5**3   #5*5*5"
   ]
  },
  {
   "cell_type": "code",
   "execution_count": 43,
   "id": "7abe3257",
   "metadata": {},
   "outputs": [
    {
     "data": {
      "text/plain": [
       "3125"
      ]
     },
     "execution_count": 43,
     "metadata": {},
     "output_type": "execute_result"
    }
   ],
   "source": [
    "5**5"
   ]
  },
  {
   "cell_type": "code",
   "execution_count": 44,
   "id": "7c0de93d",
   "metadata": {},
   "outputs": [
    {
     "data": {
      "text/plain": [
       "0"
      ]
     },
     "execution_count": 44,
     "metadata": {},
     "output_type": "execute_result"
    }
   ],
   "source": [
    "10%2"
   ]
  },
  {
   "cell_type": "code",
   "execution_count": 45,
   "id": "9ad9a6cd",
   "metadata": {},
   "outputs": [
    {
     "data": {
      "text/plain": [
       "1"
      ]
     },
     "execution_count": 45,
     "metadata": {},
     "output_type": "execute_result"
    }
   ],
   "source": [
    "11%2"
   ]
  },
  {
   "cell_type": "code",
   "execution_count": 46,
   "id": "efbd9ff0",
   "metadata": {},
   "outputs": [
    {
     "data": {
      "text/plain": [
       "1"
      ]
     },
     "execution_count": 46,
     "metadata": {},
     "output_type": "execute_result"
    }
   ],
   "source": [
    "65767%2"
   ]
  },
  {
   "cell_type": "code",
   "execution_count": 47,
   "id": "69d90cc2",
   "metadata": {},
   "outputs": [
    {
     "data": {
      "text/plain": [
       "5"
      ]
     },
     "execution_count": 47,
     "metadata": {},
     "output_type": "execute_result"
    }
   ],
   "source": [
    "11//2"
   ]
  },
  {
   "cell_type": "code",
   "execution_count": 48,
   "id": "8177700d",
   "metadata": {},
   "outputs": [
    {
     "data": {
      "text/plain": [
       "8"
      ]
     },
     "execution_count": 48,
     "metadata": {},
     "output_type": "execute_result"
    }
   ],
   "source": [
    "26//3"
   ]
  },
  {
   "cell_type": "code",
   "execution_count": 49,
   "id": "c8c57401",
   "metadata": {},
   "outputs": [
    {
     "data": {
      "text/plain": [
       "13.2"
      ]
     },
     "execution_count": 49,
     "metadata": {},
     "output_type": "execute_result"
    }
   ],
   "source": [
    "5.6+7.6"
   ]
  },
  {
   "cell_type": "code",
   "execution_count": 50,
   "id": "448768b0",
   "metadata": {},
   "outputs": [
    {
     "data": {
      "text/plain": [
       "-5.9"
      ]
     },
     "execution_count": 50,
     "metadata": {},
     "output_type": "execute_result"
    }
   ],
   "source": [
    "3.6-9.5"
   ]
  },
  {
   "cell_type": "code",
   "execution_count": 51,
   "id": "f6149b11",
   "metadata": {},
   "outputs": [
    {
     "data": {
      "text/plain": [
       "34.2"
      ]
     },
     "execution_count": 51,
     "metadata": {},
     "output_type": "execute_result"
    }
   ],
   "source": [
    "3.6*9.5"
   ]
  },
  {
   "cell_type": "code",
   "execution_count": 52,
   "id": "2b7a9af1",
   "metadata": {},
   "outputs": [
    {
     "data": {
      "text/plain": [
       "0.5"
      ]
     },
     "execution_count": 52,
     "metadata": {},
     "output_type": "execute_result"
    }
   ],
   "source": [
    "10.5%2"
   ]
  },
  {
   "cell_type": "code",
   "execution_count": 53,
   "id": "40a44096",
   "metadata": {},
   "outputs": [
    {
     "data": {
      "text/plain": [
       "5.0"
      ]
     },
     "execution_count": 53,
     "metadata": {},
     "output_type": "execute_result"
    }
   ],
   "source": [
    "10.5//2"
   ]
  },
  {
   "cell_type": "markdown",
   "id": "6ab7080a",
   "metadata": {},
   "source": [
    "# Assignment Operator"
   ]
  },
  {
   "cell_type": "code",
   "execution_count": 54,
   "id": "0018657a",
   "metadata": {},
   "outputs": [],
   "source": [
    "x=10"
   ]
  },
  {
   "cell_type": "code",
   "execution_count": 55,
   "id": "e48f1dc2",
   "metadata": {},
   "outputs": [
    {
     "data": {
      "text/plain": [
       "10"
      ]
     },
     "execution_count": 55,
     "metadata": {},
     "output_type": "execute_result"
    }
   ],
   "source": [
    "x"
   ]
  },
  {
   "cell_type": "code",
   "execution_count": 56,
   "id": "5dd41a13",
   "metadata": {},
   "outputs": [],
   "source": [
    "y=x*2"
   ]
  },
  {
   "cell_type": "code",
   "execution_count": 57,
   "id": "402ffa30",
   "metadata": {},
   "outputs": [
    {
     "data": {
      "text/plain": [
       "20"
      ]
     },
     "execution_count": 57,
     "metadata": {},
     "output_type": "execute_result"
    }
   ],
   "source": [
    "y"
   ]
  },
  {
   "cell_type": "code",
   "execution_count": 58,
   "id": "5aef5eac",
   "metadata": {},
   "outputs": [],
   "source": [
    "z=x+y"
   ]
  },
  {
   "cell_type": "code",
   "execution_count": 59,
   "id": "cf0f79b9",
   "metadata": {},
   "outputs": [
    {
     "data": {
      "text/plain": [
       "30"
      ]
     },
     "execution_count": 59,
     "metadata": {},
     "output_type": "execute_result"
    }
   ],
   "source": [
    "z"
   ]
  },
  {
   "cell_type": "markdown",
   "id": "ace278bc",
   "metadata": {},
   "source": [
    "# Comparison  Operator"
   ]
  },
  {
   "cell_type": "code",
   "execution_count": 60,
   "id": "9cb61fae",
   "metadata": {},
   "outputs": [
    {
     "data": {
      "text/plain": [
       "10"
      ]
     },
     "execution_count": 60,
     "metadata": {},
     "output_type": "execute_result"
    }
   ],
   "source": [
    "x"
   ]
  },
  {
   "cell_type": "code",
   "execution_count": 61,
   "id": "afba2b83",
   "metadata": {},
   "outputs": [
    {
     "data": {
      "text/plain": [
       "True"
      ]
     },
     "execution_count": 61,
     "metadata": {},
     "output_type": "execute_result"
    }
   ],
   "source": [
    "x == 10"
   ]
  },
  {
   "cell_type": "code",
   "execution_count": 62,
   "id": "b55d8998",
   "metadata": {},
   "outputs": [
    {
     "data": {
      "text/plain": [
       "True"
      ]
     },
     "execution_count": 62,
     "metadata": {},
     "output_type": "execute_result"
    }
   ],
   "source": [
    "x != 0"
   ]
  },
  {
   "cell_type": "code",
   "execution_count": 63,
   "id": "6b4356ac",
   "metadata": {},
   "outputs": [
    {
     "data": {
      "text/plain": [
       "False"
      ]
     },
     "execution_count": 63,
     "metadata": {},
     "output_type": "execute_result"
    }
   ],
   "source": [
    "x != 10"
   ]
  },
  {
   "cell_type": "code",
   "execution_count": 64,
   "id": "cad0745a",
   "metadata": {},
   "outputs": [
    {
     "data": {
      "text/plain": [
       "True"
      ]
     },
     "execution_count": 64,
     "metadata": {},
     "output_type": "execute_result"
    }
   ],
   "source": [
    "x > 0"
   ]
  },
  {
   "cell_type": "code",
   "execution_count": 65,
   "id": "ecfcaff1",
   "metadata": {},
   "outputs": [
    {
     "data": {
      "text/plain": [
       "True"
      ]
     },
     "execution_count": 65,
     "metadata": {},
     "output_type": "execute_result"
    }
   ],
   "source": [
    "x < 100"
   ]
  },
  {
   "cell_type": "code",
   "execution_count": 66,
   "id": "02d95708",
   "metadata": {},
   "outputs": [
    {
     "data": {
      "text/plain": [
       "False"
      ]
     },
     "execution_count": 66,
     "metadata": {},
     "output_type": "execute_result"
    }
   ],
   "source": [
    "x < 0"
   ]
  },
  {
   "cell_type": "markdown",
   "id": "7c3d61b3",
   "metadata": {},
   "source": [
    "# Membership Operator"
   ]
  },
  {
   "cell_type": "code",
   "execution_count": 67,
   "id": "9cbfdd4a",
   "metadata": {},
   "outputs": [],
   "source": [
    "nums=[1,3,4,5,68,9,0,5,4,2,1,133,113,1,100,200,33,45,5,6]"
   ]
  },
  {
   "cell_type": "code",
   "execution_count": 68,
   "id": "a1a46a8f",
   "metadata": {},
   "outputs": [
    {
     "data": {
      "text/plain": [
       "True"
      ]
     },
     "execution_count": 68,
     "metadata": {},
     "output_type": "execute_result"
    }
   ],
   "source": [
    "100 in nums"
   ]
  },
  {
   "cell_type": "code",
   "execution_count": 69,
   "id": "ad1eaec0",
   "metadata": {},
   "outputs": [
    {
     "data": {
      "text/plain": [
       "False"
      ]
     },
     "execution_count": 69,
     "metadata": {},
     "output_type": "execute_result"
    }
   ],
   "source": [
    "1000 in nums"
   ]
  },
  {
   "cell_type": "code",
   "execution_count": 70,
   "id": "46048614",
   "metadata": {},
   "outputs": [
    {
     "data": {
      "text/plain": [
       "14"
      ]
     },
     "execution_count": 70,
     "metadata": {},
     "output_type": "execute_result"
    }
   ],
   "source": [
    "nums.index(100)"
   ]
  },
  {
   "cell_type": "code",
   "execution_count": 71,
   "id": "f91f9827",
   "metadata": {},
   "outputs": [
    {
     "data": {
      "text/plain": [
       "False"
      ]
     },
     "execution_count": 71,
     "metadata": {},
     "output_type": "execute_result"
    }
   ],
   "source": [
    "7 in nums"
   ]
  },
  {
   "cell_type": "code",
   "execution_count": 72,
   "id": "1313181e",
   "metadata": {},
   "outputs": [
    {
     "data": {
      "text/plain": [
       "True"
      ]
     },
     "execution_count": 72,
     "metadata": {},
     "output_type": "execute_result"
    }
   ],
   "source": [
    "7 not in nums"
   ]
  },
  {
   "cell_type": "markdown",
   "id": "1e984d7c",
   "metadata": {},
   "source": [
    "# Idendity operators"
   ]
  },
  {
   "cell_type": "code",
   "execution_count": 73,
   "id": "b943a434",
   "metadata": {},
   "outputs": [
    {
     "data": {
      "text/plain": [
       "10"
      ]
     },
     "execution_count": 73,
     "metadata": {},
     "output_type": "execute_result"
    }
   ],
   "source": [
    "x"
   ]
  },
  {
   "cell_type": "code",
   "execution_count": 74,
   "id": "a49bbb62",
   "metadata": {},
   "outputs": [
    {
     "name": "stderr",
     "output_type": "stream",
     "text": [
      "<>:1: SyntaxWarning: \"is\" with a literal. Did you mean \"==\"?\n",
      "<>:1: SyntaxWarning: \"is\" with a literal. Did you mean \"==\"?\n",
      "C:\\Users\\RaghulRamesh\\AppData\\Local\\Temp\\ipykernel_20204\\2183931627.py:1: SyntaxWarning: \"is\" with a literal. Did you mean \"==\"?\n",
      "  x is 10\n"
     ]
    },
    {
     "data": {
      "text/plain": [
       "True"
      ]
     },
     "execution_count": 74,
     "metadata": {},
     "output_type": "execute_result"
    }
   ],
   "source": [
    "x is 10"
   ]
  },
  {
   "cell_type": "code",
   "execution_count": 75,
   "id": "7a553902",
   "metadata": {},
   "outputs": [
    {
     "name": "stderr",
     "output_type": "stream",
     "text": [
      "<>:1: SyntaxWarning: \"is not\" with a literal. Did you mean \"!=\"?\n",
      "<>:1: SyntaxWarning: \"is not\" with a literal. Did you mean \"!=\"?\n",
      "C:\\Users\\RaghulRamesh\\AppData\\Local\\Temp\\ipykernel_20204\\3306646882.py:1: SyntaxWarning: \"is not\" with a literal. Did you mean \"!=\"?\n",
      "  x is not 0\n"
     ]
    },
    {
     "data": {
      "text/plain": [
       "True"
      ]
     },
     "execution_count": 75,
     "metadata": {},
     "output_type": "execute_result"
    }
   ],
   "source": [
    "x is not 0"
   ]
  },
  {
   "cell_type": "code",
   "execution_count": 76,
   "id": "f8faa882",
   "metadata": {},
   "outputs": [
    {
     "name": "stderr",
     "output_type": "stream",
     "text": [
      "<>:1: SyntaxWarning: \"is\" with a literal. Did you mean \"==\"?\n",
      "<>:1: SyntaxWarning: \"is\" with a literal. Did you mean \"==\"?\n",
      "C:\\Users\\RaghulRamesh\\AppData\\Local\\Temp\\ipykernel_20204\\1069372017.py:1: SyntaxWarning: \"is\" with a literal. Did you mean \"==\"?\n",
      "  x is 100\n"
     ]
    },
    {
     "data": {
      "text/plain": [
       "False"
      ]
     },
     "execution_count": 76,
     "metadata": {},
     "output_type": "execute_result"
    }
   ],
   "source": [
    "x is 100"
   ]
  },
  {
   "cell_type": "code",
   "execution_count": 77,
   "id": "8e0f2569",
   "metadata": {},
   "outputs": [
    {
     "name": "stderr",
     "output_type": "stream",
     "text": [
      "<>:1: SyntaxWarning: \"is not\" with a literal. Did you mean \"!=\"?\n",
      "<>:1: SyntaxWarning: \"is not\" with a literal. Did you mean \"!=\"?\n",
      "C:\\Users\\RaghulRamesh\\AppData\\Local\\Temp\\ipykernel_20204\\1660080432.py:1: SyntaxWarning: \"is not\" with a literal. Did you mean \"!=\"?\n",
      "  x is not 10\n"
     ]
    },
    {
     "data": {
      "text/plain": [
       "False"
      ]
     },
     "execution_count": 77,
     "metadata": {},
     "output_type": "execute_result"
    }
   ],
   "source": [
    "x is not 10"
   ]
  },
  {
   "cell_type": "markdown",
   "id": "b3dca715",
   "metadata": {},
   "source": [
    "# binary operators"
   ]
  },
  {
   "cell_type": "code",
   "execution_count": 78,
   "id": "1c8ede52",
   "metadata": {},
   "outputs": [
    {
     "data": {
      "text/plain": [
       "4"
      ]
     },
     "execution_count": 78,
     "metadata": {},
     "output_type": "execute_result"
    }
   ],
   "source": [
    "5 & 6"
   ]
  },
  {
   "cell_type": "code",
   "execution_count": 79,
   "id": "292e0011",
   "metadata": {},
   "outputs": [
    {
     "data": {
      "text/plain": [
       "7"
      ]
     },
     "execution_count": 79,
     "metadata": {},
     "output_type": "execute_result"
    }
   ],
   "source": [
    "5 | 6"
   ]
  },
  {
   "cell_type": "code",
   "execution_count": 80,
   "id": "d11fef7d",
   "metadata": {},
   "outputs": [
    {
     "data": {
      "text/plain": [
       "3"
      ]
     },
     "execution_count": 80,
     "metadata": {},
     "output_type": "execute_result"
    }
   ],
   "source": [
    "5 ^ 6"
   ]
  },
  {
   "cell_type": "markdown",
   "id": "883746e3",
   "metadata": {},
   "source": [
    "# STRING "
   ]
  },
  {
   "cell_type": "code",
   "execution_count": 82,
   "id": "540adfbf",
   "metadata": {},
   "outputs": [],
   "source": [
    "name=\"Raghul Ramesh\""
   ]
  },
  {
   "cell_type": "code",
   "execution_count": 83,
   "id": "71690b59",
   "metadata": {},
   "outputs": [
    {
     "data": {
      "text/plain": [
       "13"
      ]
     },
     "execution_count": 83,
     "metadata": {},
     "output_type": "execute_result"
    }
   ],
   "source": [
    "len(name)"
   ]
  },
  {
   "cell_type": "code",
   "execution_count": 85,
   "id": "cfeacb3e",
   "metadata": {},
   "outputs": [
    {
     "data": {
      "text/plain": [
       "'R'"
      ]
     },
     "execution_count": 85,
     "metadata": {},
     "output_type": "execute_result"
    }
   ],
   "source": [
    "name[0]"
   ]
  },
  {
   "cell_type": "code",
   "execution_count": 86,
   "id": "6011425a",
   "metadata": {},
   "outputs": [
    {
     "data": {
      "text/plain": [
       "'a'"
      ]
     },
     "execution_count": 86,
     "metadata": {},
     "output_type": "execute_result"
    }
   ],
   "source": [
    "name[1]"
   ]
  },
  {
   "cell_type": "code",
   "execution_count": 87,
   "id": "7748aca1",
   "metadata": {},
   "outputs": [
    {
     "data": {
      "text/plain": [
       "'g'"
      ]
     },
     "execution_count": 87,
     "metadata": {},
     "output_type": "execute_result"
    }
   ],
   "source": [
    "name[2]"
   ]
  },
  {
   "cell_type": "code",
   "execution_count": 88,
   "id": "06ee6ab1",
   "metadata": {},
   "outputs": [
    {
     "data": {
      "text/plain": [
       "'Raghul Ramesh'"
      ]
     },
     "execution_count": 88,
     "metadata": {},
     "output_type": "execute_result"
    }
   ],
   "source": [
    "name"
   ]
  },
  {
   "cell_type": "code",
   "execution_count": 89,
   "id": "4f720f1e",
   "metadata": {},
   "outputs": [
    {
     "data": {
      "text/plain": [
       "'h'"
      ]
     },
     "execution_count": 89,
     "metadata": {},
     "output_type": "execute_result"
    }
   ],
   "source": [
    "name[-1]"
   ]
  },
  {
   "cell_type": "code",
   "execution_count": 90,
   "id": "0f364595",
   "metadata": {},
   "outputs": [
    {
     "data": {
      "text/plain": [
       "'s'"
      ]
     },
     "execution_count": 90,
     "metadata": {},
     "output_type": "execute_result"
    }
   ],
   "source": [
    "name[-2]"
   ]
  },
  {
   "cell_type": "code",
   "execution_count": 91,
   "id": "fcb0f5b8",
   "metadata": {},
   "outputs": [
    {
     "data": {
      "text/plain": [
       "'e'"
      ]
     },
     "execution_count": 91,
     "metadata": {},
     "output_type": "execute_result"
    }
   ],
   "source": [
    "name[-3]"
   ]
  },
  {
   "cell_type": "code",
   "execution_count": 92,
   "id": "b8524854",
   "metadata": {},
   "outputs": [
    {
     "data": {
      "text/plain": [
       "'Raghul Ramesh'"
      ]
     },
     "execution_count": 92,
     "metadata": {},
     "output_type": "execute_result"
    }
   ],
   "source": [
    "name"
   ]
  },
  {
   "cell_type": "code",
   "execution_count": 93,
   "id": "da1e7e39",
   "metadata": {},
   "outputs": [
    {
     "data": {
      "text/plain": [
       "' '"
      ]
     },
     "execution_count": 93,
     "metadata": {},
     "output_type": "execute_result"
    }
   ],
   "source": [
    "name[6]"
   ]
  },
  {
   "cell_type": "code",
   "execution_count": 95,
   "id": "b68c24ad",
   "metadata": {},
   "outputs": [
    {
     "data": {
      "text/plain": [
       "'Raghul'"
      ]
     },
     "execution_count": 95,
     "metadata": {},
     "output_type": "execute_result"
    }
   ],
   "source": [
    "name[0:6]"
   ]
  },
  {
   "cell_type": "code",
   "execution_count": 96,
   "id": "5b9f2ce8",
   "metadata": {},
   "outputs": [
    {
     "data": {
      "text/plain": [
       "'Raghul'"
      ]
     },
     "execution_count": 96,
     "metadata": {},
     "output_type": "execute_result"
    }
   ],
   "source": [
    "name[:6]"
   ]
  },
  {
   "cell_type": "code",
   "execution_count": 111,
   "id": "d8c507bd",
   "metadata": {},
   "outputs": [
    {
     "data": {
      "text/plain": [
       "'R luhgaR'"
      ]
     },
     "execution_count": 111,
     "metadata": {},
     "output_type": "execute_result"
    }
   ],
   "source": [
    "name[7::-1]"
   ]
  },
  {
   "cell_type": "code",
   "execution_count": 118,
   "id": "291d406c",
   "metadata": {},
   "outputs": [
    {
     "data": {
      "text/plain": [
       "'hsemaR'"
      ]
     },
     "execution_count": 118,
     "metadata": {},
     "output_type": "execute_result"
    }
   ],
   "source": [
    "name[7:13][::-1]"
   ]
  },
  {
   "cell_type": "code",
   "execution_count": 101,
   "id": "e0a85e0d",
   "metadata": {},
   "outputs": [
    {
     "data": {
      "text/plain": [
       "'Raghul Ramesh'"
      ]
     },
     "execution_count": 101,
     "metadata": {},
     "output_type": "execute_result"
    }
   ],
   "source": [
    "name"
   ]
  },
  {
   "cell_type": "code",
   "execution_count": 103,
   "id": "53d5ae08",
   "metadata": {},
   "outputs": [
    {
     "data": {
      "text/plain": [
       "'Rgu aeh'"
      ]
     },
     "execution_count": 103,
     "metadata": {},
     "output_type": "execute_result"
    }
   ],
   "source": [
    "name[::2]"
   ]
  },
  {
   "cell_type": "code",
   "execution_count": 104,
   "id": "88efe498",
   "metadata": {},
   "outputs": [
    {
     "data": {
      "text/plain": [
       "'Raghul Ramesh'"
      ]
     },
     "execution_count": 104,
     "metadata": {},
     "output_type": "execute_result"
    }
   ],
   "source": [
    "name"
   ]
  },
  {
   "cell_type": "code",
   "execution_count": 105,
   "id": "57933d71",
   "metadata": {},
   "outputs": [
    {
     "data": {
      "text/plain": [
       "'Rh mh'"
      ]
     },
     "execution_count": 105,
     "metadata": {},
     "output_type": "execute_result"
    }
   ],
   "source": [
    "name[::3]"
   ]
  },
  {
   "cell_type": "code",
   "execution_count": 106,
   "id": "ee2cbe20",
   "metadata": {},
   "outputs": [
    {
     "data": {
      "text/plain": [
       "'Raghul Ramesh'"
      ]
     },
     "execution_count": 106,
     "metadata": {},
     "output_type": "execute_result"
    }
   ],
   "source": [
    "name"
   ]
  },
  {
   "cell_type": "code",
   "execution_count": 107,
   "id": "7614eb60",
   "metadata": {},
   "outputs": [
    {
     "data": {
      "text/plain": [
       "'Ramesh'"
      ]
     },
     "execution_count": 107,
     "metadata": {},
     "output_type": "execute_result"
    }
   ],
   "source": [
    "name[-6:]"
   ]
  },
  {
   "cell_type": "code",
   "execution_count": 108,
   "id": "c56d2138",
   "metadata": {},
   "outputs": [
    {
     "data": {
      "text/plain": [
       "'Ram'"
      ]
     },
     "execution_count": 108,
     "metadata": {},
     "output_type": "execute_result"
    }
   ],
   "source": [
    "name[-6:-3]"
   ]
  },
  {
   "cell_type": "code",
   "execution_count": 109,
   "id": "309b11cd",
   "metadata": {},
   "outputs": [
    {
     "data": {
      "text/plain": [
       "'Raghul Ramesh'"
      ]
     },
     "execution_count": 109,
     "metadata": {},
     "output_type": "execute_result"
    }
   ],
   "source": [
    "name[::1]"
   ]
  },
  {
   "cell_type": "code",
   "execution_count": 110,
   "id": "2455d202",
   "metadata": {},
   "outputs": [
    {
     "data": {
      "text/plain": [
       "'hsemaR luhgaR'"
      ]
     },
     "execution_count": 110,
     "metadata": {},
     "output_type": "execute_result"
    }
   ],
   "source": [
    "name[::-1]"
   ]
  },
  {
   "cell_type": "markdown",
   "id": "62ec8d83",
   "metadata": {},
   "source": [
    "# String Methods"
   ]
  },
  {
   "cell_type": "code",
   "execution_count": 121,
   "id": "946169c7",
   "metadata": {},
   "outputs": [
    {
     "name": "stdout",
     "output_type": "stream",
     "text": [
      "['__add__', '__class__', '__contains__', '__delattr__', '__dir__', '__doc__', '__eq__', '__format__', '__ge__', '__getattribute__', '__getitem__', '__getnewargs__', '__gt__', '__hash__', '__init__', '__init_subclass__', '__iter__', '__le__', '__len__', '__lt__', '__mod__', '__mul__', '__ne__', '__new__', '__reduce__', '__reduce_ex__', '__repr__', '__rmod__', '__rmul__', '__setattr__', '__sizeof__', '__str__', '__subclasshook__', 'capitalize', 'casefold', 'center', 'count', 'encode', 'endswith', 'expandtabs', 'find', 'format', 'format_map', 'index', 'isalnum', 'isalpha', 'isascii', 'isdecimal', 'isdigit', 'isidentifier', 'islower', 'isnumeric', 'isprintable', 'isspace', 'istitle', 'isupper', 'join', 'ljust', 'lower', 'lstrip', 'maketrans', 'partition', 'replace', 'rfind', 'rindex', 'rjust', 'rpartition', 'rsplit', 'rstrip', 'split', 'splitlines', 'startswith', 'strip', 'swapcase', 'title', 'translate', 'upper', 'zfill']\n"
     ]
    }
   ],
   "source": [
    "print(dir(name))"
   ]
  },
  {
   "cell_type": "code",
   "execution_count": 123,
   "id": "07550e75",
   "metadata": {},
   "outputs": [
    {
     "data": {
      "text/plain": [
       "'raghul ramesh'"
      ]
     },
     "execution_count": 123,
     "metadata": {},
     "output_type": "execute_result"
    }
   ],
   "source": [
    "name.lower()"
   ]
  },
  {
   "cell_type": "code",
   "execution_count": 124,
   "id": "86e5bff2",
   "metadata": {},
   "outputs": [
    {
     "data": {
      "text/plain": [
       "'Raghul Ramesh'"
      ]
     },
     "execution_count": 124,
     "metadata": {},
     "output_type": "execute_result"
    }
   ],
   "source": [
    "name"
   ]
  },
  {
   "cell_type": "code",
   "execution_count": 125,
   "id": "bea81d58",
   "metadata": {},
   "outputs": [
    {
     "data": {
      "text/plain": [
       "'raghul ramesh'"
      ]
     },
     "execution_count": 125,
     "metadata": {},
     "output_type": "execute_result"
    }
   ],
   "source": [
    "name.lower()"
   ]
  },
  {
   "cell_type": "code",
   "execution_count": 126,
   "id": "eb4c4b87",
   "metadata": {},
   "outputs": [
    {
     "data": {
      "text/plain": [
       "'Raghul Ramesh'"
      ]
     },
     "execution_count": 126,
     "metadata": {},
     "output_type": "execute_result"
    }
   ],
   "source": [
    "name"
   ]
  },
  {
   "cell_type": "code",
   "execution_count": 127,
   "id": "d29f8505",
   "metadata": {},
   "outputs": [
    {
     "data": {
      "text/plain": [
       "'raghul ramesh'"
      ]
     },
     "execution_count": 127,
     "metadata": {},
     "output_type": "execute_result"
    }
   ],
   "source": [
    "name.casefold()"
   ]
  },
  {
   "cell_type": "code",
   "execution_count": 128,
   "id": "986381d6",
   "metadata": {},
   "outputs": [
    {
     "data": {
      "text/plain": [
       "'RAGHUL RAMESH'"
      ]
     },
     "execution_count": 128,
     "metadata": {},
     "output_type": "execute_result"
    }
   ],
   "source": [
    "name.upper()"
   ]
  },
  {
   "cell_type": "code",
   "execution_count": 130,
   "id": "53152597",
   "metadata": {},
   "outputs": [],
   "source": [
    "info='raghul ramesh is the trainer for python programming session'"
   ]
  },
  {
   "cell_type": "code",
   "execution_count": 131,
   "id": "6a34b744",
   "metadata": {},
   "outputs": [
    {
     "data": {
      "text/plain": [
       "'Raghul Ramesh Is The Trainer For Python Programming Session'"
      ]
     },
     "execution_count": 131,
     "metadata": {},
     "output_type": "execute_result"
    }
   ],
   "source": [
    "info.title()"
   ]
  },
  {
   "cell_type": "code",
   "execution_count": 133,
   "id": "ecdbc43e",
   "metadata": {},
   "outputs": [
    {
     "data": {
      "text/plain": [
       "'Raghul ramesh is the trainer for python programming session'"
      ]
     },
     "execution_count": 133,
     "metadata": {},
     "output_type": "execute_result"
    }
   ],
   "source": [
    "info.capitalize()"
   ]
  },
  {
   "cell_type": "code",
   "execution_count": 134,
   "id": "508a0f9c",
   "metadata": {},
   "outputs": [
    {
     "data": {
      "text/plain": [
       "'Raghul Ramesh'"
      ]
     },
     "execution_count": 134,
     "metadata": {},
     "output_type": "execute_result"
    }
   ],
   "source": [
    "name"
   ]
  },
  {
   "cell_type": "code",
   "execution_count": 135,
   "id": "100d63f0",
   "metadata": {},
   "outputs": [
    {
     "data": {
      "text/plain": [
       "'rAGHUL rAMESH'"
      ]
     },
     "execution_count": 135,
     "metadata": {},
     "output_type": "execute_result"
    }
   ],
   "source": [
    "name.swapcase()"
   ]
  },
  {
   "cell_type": "code",
   "execution_count": 143,
   "id": "5c8c5f49",
   "metadata": {
    "scrolled": true
   },
   "outputs": [
    {
     "name": "stdout",
     "output_type": "stream",
     "text": [
      "Enter your country name:INDIA\n",
      "You are a indian\n"
     ]
    }
   ],
   "source": [
    "country=input(\"Enter your country name:\")\n",
    "\n",
    "if country.casefold() == \"india\":\n",
    "    print(\"You are a indian\")\n",
    "else:\n",
    "    print(\"You are a foreigner\")"
   ]
  },
  {
   "cell_type": "code",
   "execution_count": 145,
   "id": "cbffd2a6",
   "metadata": {},
   "outputs": [
    {
     "data": {
      "text/plain": [
       "True"
      ]
     },
     "execution_count": 145,
     "metadata": {},
     "output_type": "execute_result"
    }
   ],
   "source": [
    "name.istitle()"
   ]
  },
  {
   "cell_type": "code",
   "execution_count": 146,
   "id": "0b17e791",
   "metadata": {},
   "outputs": [
    {
     "data": {
      "text/plain": [
       "False"
      ]
     },
     "execution_count": 146,
     "metadata": {},
     "output_type": "execute_result"
    }
   ],
   "source": [
    "name.isupper()"
   ]
  },
  {
   "cell_type": "code",
   "execution_count": 147,
   "id": "4f5d3e48",
   "metadata": {},
   "outputs": [
    {
     "data": {
      "text/plain": [
       "False"
      ]
     },
     "execution_count": 147,
     "metadata": {},
     "output_type": "execute_result"
    }
   ],
   "source": [
    "name.islower()"
   ]
  },
  {
   "cell_type": "code",
   "execution_count": 149,
   "id": "05773e62",
   "metadata": {},
   "outputs": [
    {
     "data": {
      "text/plain": [
       "False"
      ]
     },
     "execution_count": 149,
     "metadata": {},
     "output_type": "execute_result"
    }
   ],
   "source": [
    "name.isalpha()"
   ]
  },
  {
   "cell_type": "code",
   "execution_count": 150,
   "id": "b61e6561",
   "metadata": {},
   "outputs": [
    {
     "data": {
      "text/plain": [
       "'Raghul Ramesh'"
      ]
     },
     "execution_count": 150,
     "metadata": {},
     "output_type": "execute_result"
    }
   ],
   "source": [
    "name"
   ]
  },
  {
   "cell_type": "code",
   "execution_count": 151,
   "id": "971e9f41",
   "metadata": {},
   "outputs": [],
   "source": [
    "city=\"Chennai\""
   ]
  },
  {
   "cell_type": "code",
   "execution_count": 152,
   "id": "6bb6c0a6",
   "metadata": {},
   "outputs": [
    {
     "data": {
      "text/plain": [
       "True"
      ]
     },
     "execution_count": 152,
     "metadata": {},
     "output_type": "execute_result"
    }
   ],
   "source": [
    "city.isalpha()"
   ]
  },
  {
   "cell_type": "code",
   "execution_count": 153,
   "id": "b0969029",
   "metadata": {},
   "outputs": [
    {
     "data": {
      "text/plain": [
       "False"
      ]
     },
     "execution_count": 153,
     "metadata": {},
     "output_type": "execute_result"
    }
   ],
   "source": [
    "name.isdigit()"
   ]
  },
  {
   "cell_type": "code",
   "execution_count": 154,
   "id": "01e4f3e9",
   "metadata": {},
   "outputs": [],
   "source": [
    "x=\"100\""
   ]
  },
  {
   "cell_type": "code",
   "execution_count": 155,
   "id": "65ca24b3",
   "metadata": {},
   "outputs": [
    {
     "data": {
      "text/plain": [
       "True"
      ]
     },
     "execution_count": 155,
     "metadata": {},
     "output_type": "execute_result"
    }
   ],
   "source": [
    "x.isdigit()"
   ]
  },
  {
   "cell_type": "code",
   "execution_count": 157,
   "id": "fa071ef1",
   "metadata": {},
   "outputs": [],
   "source": [
    "empid=\"sc1490532\""
   ]
  },
  {
   "cell_type": "code",
   "execution_count": 158,
   "id": "78aca273",
   "metadata": {},
   "outputs": [
    {
     "data": {
      "text/plain": [
       "True"
      ]
     },
     "execution_count": 158,
     "metadata": {},
     "output_type": "execute_result"
    }
   ],
   "source": [
    "empid.isalnum()"
   ]
  },
  {
   "cell_type": "code",
   "execution_count": 159,
   "id": "40756fef",
   "metadata": {},
   "outputs": [
    {
     "data": {
      "text/plain": [
       "'Raghul Ramesh'"
      ]
     },
     "execution_count": 159,
     "metadata": {},
     "output_type": "execute_result"
    }
   ],
   "source": [
    "# index, find\n",
    "\n",
    "name"
   ]
  },
  {
   "cell_type": "code",
   "execution_count": 160,
   "id": "7fc0c97c",
   "metadata": {},
   "outputs": [
    {
     "data": {
      "text/plain": [
       "2"
      ]
     },
     "execution_count": 160,
     "metadata": {},
     "output_type": "execute_result"
    }
   ],
   "source": [
    "name.index('g')"
   ]
  },
  {
   "cell_type": "code",
   "execution_count": 161,
   "id": "5d2b6aee",
   "metadata": {},
   "outputs": [
    {
     "data": {
      "text/plain": [
       "2"
      ]
     },
     "execution_count": 161,
     "metadata": {},
     "output_type": "execute_result"
    }
   ],
   "source": [
    "name.find('g')"
   ]
  },
  {
   "cell_type": "code",
   "execution_count": 162,
   "id": "81743d59",
   "metadata": {},
   "outputs": [
    {
     "data": {
      "text/plain": [
       "3"
      ]
     },
     "execution_count": 162,
     "metadata": {},
     "output_type": "execute_result"
    }
   ],
   "source": [
    "name.find('h')"
   ]
  },
  {
   "cell_type": "code",
   "execution_count": 163,
   "id": "f0734569",
   "metadata": {},
   "outputs": [
    {
     "data": {
      "text/plain": [
       "3"
      ]
     },
     "execution_count": 163,
     "metadata": {},
     "output_type": "execute_result"
    }
   ],
   "source": [
    "name.index('h')"
   ]
  },
  {
   "cell_type": "code",
   "execution_count": 164,
   "id": "cce550b8",
   "metadata": {},
   "outputs": [
    {
     "data": {
      "text/plain": [
       "'Raghul Ramesh'"
      ]
     },
     "execution_count": 164,
     "metadata": {},
     "output_type": "execute_result"
    }
   ],
   "source": [
    "name"
   ]
  },
  {
   "cell_type": "code",
   "execution_count": 165,
   "id": "ae5af201",
   "metadata": {},
   "outputs": [
    {
     "ename": "ValueError",
     "evalue": "substring not found",
     "output_type": "error",
     "traceback": [
      "\u001b[1;31m---------------------------------------------------------------------------\u001b[0m",
      "\u001b[1;31mValueError\u001b[0m                                Traceback (most recent call last)",
      "Input \u001b[1;32mIn [165]\u001b[0m, in \u001b[0;36m<cell line: 1>\u001b[1;34m()\u001b[0m\n\u001b[1;32m----> 1\u001b[0m \u001b[43mname\u001b[49m\u001b[38;5;241;43m.\u001b[39;49m\u001b[43mindex\u001b[49m\u001b[43m(\u001b[49m\u001b[38;5;124;43m'\u001b[39;49m\u001b[38;5;124;43mz\u001b[39;49m\u001b[38;5;124;43m'\u001b[39;49m\u001b[43m)\u001b[49m\n",
      "\u001b[1;31mValueError\u001b[0m: substring not found"
     ]
    }
   ],
   "source": [
    "name.index('z')"
   ]
  },
  {
   "cell_type": "code",
   "execution_count": 166,
   "id": "beb0c12c",
   "metadata": {},
   "outputs": [
    {
     "data": {
      "text/plain": [
       "-1"
      ]
     },
     "execution_count": 166,
     "metadata": {},
     "output_type": "execute_result"
    }
   ],
   "source": [
    "name.find('z')"
   ]
  },
  {
   "cell_type": "code",
   "execution_count": 210,
   "id": "e26a4d25",
   "metadata": {},
   "outputs": [
    {
     "data": {
      "text/plain": [
       "'Raghul Ramesh'"
      ]
     },
     "execution_count": 210,
     "metadata": {},
     "output_type": "execute_result"
    }
   ],
   "source": [
    "name"
   ]
  },
  {
   "cell_type": "code",
   "execution_count": 211,
   "id": "c42cb6b8",
   "metadata": {},
   "outputs": [
    {
     "data": {
      "text/plain": [
       "0"
      ]
     },
     "execution_count": 211,
     "metadata": {},
     "output_type": "execute_result"
    }
   ],
   "source": [
    "name.find('R')"
   ]
  },
  {
   "cell_type": "code",
   "execution_count": 212,
   "id": "2aab7841",
   "metadata": {},
   "outputs": [
    {
     "data": {
      "text/plain": [
       "7"
      ]
     },
     "execution_count": 212,
     "metadata": {},
     "output_type": "execute_result"
    }
   ],
   "source": [
    "name.rfind('R')"
   ]
  },
  {
   "cell_type": "code",
   "execution_count": 213,
   "id": "2e505f83",
   "metadata": {},
   "outputs": [
    {
     "data": {
      "text/plain": [
       "7"
      ]
     },
     "execution_count": 213,
     "metadata": {},
     "output_type": "execute_result"
    }
   ],
   "source": [
    "name.rindex('R')"
   ]
  },
  {
   "cell_type": "code",
   "execution_count": 167,
   "id": "1ec7f6a4",
   "metadata": {},
   "outputs": [
    {
     "data": {
      "text/plain": [
       "'Raghul Ramesh'"
      ]
     },
     "execution_count": 167,
     "metadata": {},
     "output_type": "execute_result"
    }
   ],
   "source": [
    "#center, ljust, rjust\n",
    "\n",
    "name"
   ]
  },
  {
   "cell_type": "code",
   "execution_count": 171,
   "id": "11c89a49",
   "metadata": {},
   "outputs": [
    {
     "data": {
      "text/plain": [
       "'........Raghul Ramesh.........'"
      ]
     },
     "execution_count": 171,
     "metadata": {},
     "output_type": "execute_result"
    }
   ],
   "source": [
    "name.center(30,'.')"
   ]
  },
  {
   "cell_type": "code",
   "execution_count": 173,
   "id": "d5e65975",
   "metadata": {},
   "outputs": [
    {
     "data": {
      "text/plain": [
       "'Raghul Ramesh_________________'"
      ]
     },
     "execution_count": 173,
     "metadata": {},
     "output_type": "execute_result"
    }
   ],
   "source": [
    "name.ljust(30,'_')"
   ]
  },
  {
   "cell_type": "code",
   "execution_count": 174,
   "id": "64b2299a",
   "metadata": {},
   "outputs": [
    {
     "data": {
      "text/plain": [
       "'-----------------Raghul Ramesh'"
      ]
     },
     "execution_count": 174,
     "metadata": {},
     "output_type": "execute_result"
    }
   ],
   "source": [
    "name.rjust(30,'-')"
   ]
  },
  {
   "cell_type": "code",
   "execution_count": 175,
   "id": "5a636a40",
   "metadata": {},
   "outputs": [
    {
     "data": {
      "text/plain": [
       "'Raghul Ramesh'"
      ]
     },
     "execution_count": 175,
     "metadata": {},
     "output_type": "execute_result"
    }
   ],
   "source": [
    "# split\n",
    "name"
   ]
  },
  {
   "cell_type": "code",
   "execution_count": 176,
   "id": "bfae3c68",
   "metadata": {},
   "outputs": [],
   "source": [
    "city=\"chennai-bangalore-hyderabad-pune-gurgaon-delhi\""
   ]
  },
  {
   "cell_type": "code",
   "execution_count": 177,
   "id": "ba1051d1",
   "metadata": {},
   "outputs": [
    {
     "data": {
      "text/plain": [
       "['chennai', 'bangalore', 'hyderabad', 'pune', 'gurgaon', 'delhi']"
      ]
     },
     "execution_count": 177,
     "metadata": {},
     "output_type": "execute_result"
    }
   ],
   "source": [
    "city.split('-')"
   ]
  },
  {
   "cell_type": "code",
   "execution_count": 178,
   "id": "c706adcd",
   "metadata": {},
   "outputs": [],
   "source": [
    "location=['chennai', 'bangalore', 'hyderabad', 'pune', 'gurgaon', 'delhi']"
   ]
  },
  {
   "cell_type": "code",
   "execution_count": 179,
   "id": "3127df1a",
   "metadata": {},
   "outputs": [
    {
     "data": {
      "text/plain": [
       "'chennai,bangalore,hyderabad,pune,gurgaon,delhi'"
      ]
     },
     "execution_count": 179,
     "metadata": {},
     "output_type": "execute_result"
    }
   ],
   "source": [
    "','.join(location)"
   ]
  },
  {
   "cell_type": "code",
   "execution_count": 181,
   "id": "d5eccbfd",
   "metadata": {},
   "outputs": [
    {
     "data": {
      "text/plain": [
       "'chennai_bangalore_hyderabad_pune_gurgaon_delhi'"
      ]
     },
     "execution_count": 181,
     "metadata": {},
     "output_type": "execute_result"
    }
   ],
   "source": [
    "'_'.join(location)"
   ]
  },
  {
   "cell_type": "code",
   "execution_count": 183,
   "id": "63e6ea14",
   "metadata": {},
   "outputs": [
    {
     "data": {
      "text/plain": [
       "'chennai-bangalore-hyderabad-pune-gurgaon-delhi'"
      ]
     },
     "execution_count": 183,
     "metadata": {},
     "output_type": "execute_result"
    }
   ],
   "source": [
    "# replace , translate (maketrans)\n",
    "city"
   ]
  },
  {
   "cell_type": "code",
   "execution_count": 184,
   "id": "543b052c",
   "metadata": {},
   "outputs": [
    {
     "data": {
      "text/plain": [
       "'chennai-bangalore-hyderabad-mumbai-gurgaon-delhi'"
      ]
     },
     "execution_count": 184,
     "metadata": {},
     "output_type": "execute_result"
    }
   ],
   "source": [
    "city.replace('pune','mumbai')"
   ]
  },
  {
   "cell_type": "code",
   "execution_count": 185,
   "id": "fba4c10c",
   "metadata": {},
   "outputs": [
    {
     "data": {
      "text/plain": [
       "'chennai,bangalore,hyderabad,pune,gurgaon,delhi'"
      ]
     },
     "execution_count": 185,
     "metadata": {},
     "output_type": "execute_result"
    }
   ],
   "source": [
    "city.replace('-',',')"
   ]
  },
  {
   "cell_type": "code",
   "execution_count": 186,
   "id": "a197315c",
   "metadata": {},
   "outputs": [
    {
     "data": {
      "text/plain": [
       "'chennAi-bAngAlore-hyderAbAd-pune-gurgAon-delhi'"
      ]
     },
     "execution_count": 186,
     "metadata": {},
     "output_type": "execute_result"
    }
   ],
   "source": [
    "city.replace('a','A')"
   ]
  },
  {
   "cell_type": "code",
   "execution_count": 187,
   "id": "ac6b5c36",
   "metadata": {},
   "outputs": [
    {
     "data": {
      "text/plain": [
       "'chennai-bangalore-hyderabad-pune-gurgaon-delhi'"
      ]
     },
     "execution_count": 187,
     "metadata": {},
     "output_type": "execute_result"
    }
   ],
   "source": [
    "city.replace('abc','ABC')"
   ]
  },
  {
   "cell_type": "code",
   "execution_count": 188,
   "id": "62ea1bb1",
   "metadata": {},
   "outputs": [
    {
     "data": {
      "text/plain": [
       "'ChennAi-BAngAlore-hyderABAd-pune-gurgAon-delhi'"
      ]
     },
     "execution_count": 188,
     "metadata": {},
     "output_type": "execute_result"
    }
   ],
   "source": [
    "city.replace('a','A').replace('b','B').replace('c','C')"
   ]
  },
  {
   "cell_type": "code",
   "execution_count": 189,
   "id": "b874fcae",
   "metadata": {},
   "outputs": [],
   "source": [
    "#city.translate('abc','ABC')"
   ]
  },
  {
   "cell_type": "code",
   "execution_count": 190,
   "id": "25e562f4",
   "metadata": {},
   "outputs": [
    {
     "data": {
      "text/plain": [
       "97"
      ]
     },
     "execution_count": 190,
     "metadata": {},
     "output_type": "execute_result"
    }
   ],
   "source": [
    "ord('a')"
   ]
  },
  {
   "cell_type": "code",
   "execution_count": 191,
   "id": "5e756436",
   "metadata": {},
   "outputs": [
    {
     "data": {
      "text/plain": [
       "98"
      ]
     },
     "execution_count": 191,
     "metadata": {},
     "output_type": "execute_result"
    }
   ],
   "source": [
    "ord('b')"
   ]
  },
  {
   "cell_type": "code",
   "execution_count": 192,
   "id": "0c261585",
   "metadata": {},
   "outputs": [
    {
     "data": {
      "text/plain": [
       "99"
      ]
     },
     "execution_count": 192,
     "metadata": {},
     "output_type": "execute_result"
    }
   ],
   "source": [
    "ord('c')"
   ]
  },
  {
   "cell_type": "code",
   "execution_count": 193,
   "id": "d29967c0",
   "metadata": {},
   "outputs": [
    {
     "data": {
      "text/plain": [
       "65"
      ]
     },
     "execution_count": 193,
     "metadata": {},
     "output_type": "execute_result"
    }
   ],
   "source": [
    "ord('A')"
   ]
  },
  {
   "cell_type": "code",
   "execution_count": 194,
   "id": "f3400ee3",
   "metadata": {},
   "outputs": [
    {
     "data": {
      "text/plain": [
       "66"
      ]
     },
     "execution_count": 194,
     "metadata": {},
     "output_type": "execute_result"
    }
   ],
   "source": [
    "ord('B')"
   ]
  },
  {
   "cell_type": "code",
   "execution_count": 195,
   "id": "4598bf88",
   "metadata": {},
   "outputs": [
    {
     "data": {
      "text/plain": [
       "67"
      ]
     },
     "execution_count": 195,
     "metadata": {},
     "output_type": "execute_result"
    }
   ],
   "source": [
    "ord('C')"
   ]
  },
  {
   "cell_type": "code",
   "execution_count": 196,
   "id": "287260ac",
   "metadata": {},
   "outputs": [
    {
     "data": {
      "text/plain": [
       "'ChennAi-BAngAlore-hyderABAd-pune-gurgAon-delhi'"
      ]
     },
     "execution_count": 196,
     "metadata": {},
     "output_type": "execute_result"
    }
   ],
   "source": [
    "city.translate({97:65, 98:66, 99:67})"
   ]
  },
  {
   "cell_type": "code",
   "execution_count": 201,
   "id": "14c97551",
   "metadata": {},
   "outputs": [],
   "source": [
    "changes=city.maketrans('abcde','ABCDE')"
   ]
  },
  {
   "cell_type": "code",
   "execution_count": 202,
   "id": "37fdad28",
   "metadata": {},
   "outputs": [
    {
     "data": {
      "text/plain": [
       "'ChEnnAi-BAngAlorE-hyDErABAD-punE-gurgAon-DElhi'"
      ]
     },
     "execution_count": 202,
     "metadata": {},
     "output_type": "execute_result"
    }
   ],
   "source": [
    "city.translate(changes)"
   ]
  },
  {
   "cell_type": "code",
   "execution_count": 203,
   "id": "a274336c",
   "metadata": {},
   "outputs": [],
   "source": [
    "company=\"E!@r#$i%#!c!s#$s*(o*^#n\""
   ]
  },
  {
   "cell_type": "code",
   "execution_count": 207,
   "id": "f8a9ecc7",
   "metadata": {},
   "outputs": [
    {
     "data": {
      "text/plain": [
       "{126: 32,\n",
       " 33: 32,\n",
       " 64: 32,\n",
       " 35: 32,\n",
       " 36: 32,\n",
       " 37: 32,\n",
       " 94: 32,\n",
       " 38: 32,\n",
       " 42: 32,\n",
       " 40: 32,\n",
       " 41: 32,\n",
       " 95: 32,\n",
       " 43: 32,\n",
       " 123: 32,\n",
       " 125: 32,\n",
       " 91: 32,\n",
       " 93: 32,\n",
       " 58: 32,\n",
       " 59: 32,\n",
       " 34: 32}"
      ]
     },
     "execution_count": 207,
     "metadata": {},
     "output_type": "execute_result"
    }
   ],
   "source": [
    "company.maketrans('~!@#$%^&*()_+{}[]:;\"\"','                     ')"
   ]
  },
  {
   "cell_type": "code",
   "execution_count": 209,
   "id": "ae2fc67b",
   "metadata": {},
   "outputs": [
    {
     "data": {
      "text/plain": [
       "'Ericsson'"
      ]
     },
     "execution_count": 209,
     "metadata": {},
     "output_type": "execute_result"
    }
   ],
   "source": [
    "company.translate({126: None, 33: None, 64: None, 35: None, 36: None, 37: None, 94: None, 38: None,\n",
    " 42: None, 40: None, 41: None, 95: None, 43: None, 123: None, 125: None,91: None, 93: None, 58: None,\n",
    " 59: None, 34: None})"
   ]
  },
  {
   "cell_type": "code",
   "execution_count": 215,
   "id": "2eacd7dc",
   "metadata": {},
   "outputs": [
    {
     "data": {
      "text/plain": [
       "2"
      ]
     },
     "execution_count": 215,
     "metadata": {},
     "output_type": "execute_result"
    }
   ],
   "source": [
    "name.count('a')"
   ]
  },
  {
   "cell_type": "code",
   "execution_count": 216,
   "id": "d26aaa53",
   "metadata": {},
   "outputs": [
    {
     "data": {
      "text/plain": [
       "1"
      ]
     },
     "execution_count": 216,
     "metadata": {},
     "output_type": "execute_result"
    }
   ],
   "source": [
    "name.count(' ')"
   ]
  },
  {
   "cell_type": "code",
   "execution_count": 217,
   "id": "ab51786a",
   "metadata": {},
   "outputs": [
    {
     "data": {
      "text/plain": [
       "True"
      ]
     },
     "execution_count": 217,
     "metadata": {},
     "output_type": "execute_result"
    }
   ],
   "source": [
    "name.endswith('h')"
   ]
  },
  {
   "cell_type": "code",
   "execution_count": 221,
   "id": "f02e2ccf",
   "metadata": {},
   "outputs": [
    {
     "data": {
      "text/plain": [
       "True"
      ]
     },
     "execution_count": 221,
     "metadata": {},
     "output_type": "execute_result"
    }
   ],
   "source": [
    "name.startswith('Raghul')"
   ]
  },
  {
   "cell_type": "code",
   "execution_count": 222,
   "id": "24e88362",
   "metadata": {},
   "outputs": [
    {
     "data": {
      "text/plain": [
       "False"
      ]
     },
     "execution_count": 222,
     "metadata": {},
     "output_type": "execute_result"
    }
   ],
   "source": [
    "name.startswith('A')"
   ]
  },
  {
   "cell_type": "code",
   "execution_count": 223,
   "id": "0efd98a3",
   "metadata": {},
   "outputs": [
    {
     "data": {
      "text/plain": [
       "'chennai-bangalore-hyderabad-pune-gurgaon-delhi'"
      ]
     },
     "execution_count": 223,
     "metadata": {},
     "output_type": "execute_result"
    }
   ],
   "source": [
    "city"
   ]
  },
  {
   "cell_type": "code",
   "execution_count": 224,
   "id": "a34091fa",
   "metadata": {},
   "outputs": [
    {
     "data": {
      "text/plain": [
       "['chennai', 'bangalore', 'hyderabad', 'pune', 'gurgaon', 'delhi']"
      ]
     },
     "execution_count": 224,
     "metadata": {},
     "output_type": "execute_result"
    }
   ],
   "source": [
    "city.split('-')"
   ]
  },
  {
   "cell_type": "code",
   "execution_count": 225,
   "id": "7bc7fe04",
   "metadata": {},
   "outputs": [
    {
     "data": {
      "text/plain": [
       "('chennai', '-', 'bangalore-hyderabad-pune-gurgaon-delhi')"
      ]
     },
     "execution_count": 225,
     "metadata": {},
     "output_type": "execute_result"
    }
   ],
   "source": [
    "city.partition('-')"
   ]
  },
  {
   "cell_type": "code",
   "execution_count": 226,
   "id": "f2d44ba7",
   "metadata": {},
   "outputs": [
    {
     "data": {
      "text/plain": [
       "('chennai-bangalore-hyderabad-pune-gurgaon', '-', 'delhi')"
      ]
     },
     "execution_count": 226,
     "metadata": {},
     "output_type": "execute_result"
    }
   ],
   "source": [
    "city.rpartition('-')"
   ]
  },
  {
   "cell_type": "code",
   "execution_count": 227,
   "id": "cb8334eb",
   "metadata": {},
   "outputs": [],
   "source": [
    "salary='100000'"
   ]
  },
  {
   "cell_type": "code",
   "execution_count": 229,
   "id": "6ff5bb44",
   "metadata": {},
   "outputs": [
    {
     "data": {
      "text/plain": [
       "'10000000'"
      ]
     },
     "execution_count": 229,
     "metadata": {},
     "output_type": "execute_result"
    }
   ],
   "source": [
    "salary.ljust(8,'0')"
   ]
  },
  {
   "cell_type": "code",
   "execution_count": 230,
   "id": "aea08f06",
   "metadata": {},
   "outputs": [
    {
     "data": {
      "text/plain": [
       "'00100000'"
      ]
     },
     "execution_count": 230,
     "metadata": {},
     "output_type": "execute_result"
    }
   ],
   "source": [
    "salary.rjust(8,'0')"
   ]
  },
  {
   "cell_type": "code",
   "execution_count": 231,
   "id": "2b725412",
   "metadata": {},
   "outputs": [
    {
     "data": {
      "text/plain": [
       "'0000100000'"
      ]
     },
     "execution_count": 231,
     "metadata": {},
     "output_type": "execute_result"
    }
   ],
   "source": [
    "salary.zfill(10)"
   ]
  },
  {
   "cell_type": "markdown",
   "id": "c8b14c0d",
   "metadata": {},
   "source": [
    "# LIST"
   ]
  },
  {
   "cell_type": "code",
   "execution_count": 232,
   "id": "2605441d",
   "metadata": {},
   "outputs": [],
   "source": [
    "data=['Ericsson','Python',5,7.50,True,100000]"
   ]
  },
  {
   "cell_type": "code",
   "execution_count": 233,
   "id": "761b979d",
   "metadata": {},
   "outputs": [
    {
     "data": {
      "text/plain": [
       "'Ericsson'"
      ]
     },
     "execution_count": 233,
     "metadata": {},
     "output_type": "execute_result"
    }
   ],
   "source": [
    "data[0]"
   ]
  },
  {
   "cell_type": "code",
   "execution_count": 234,
   "id": "6a89f7af",
   "metadata": {},
   "outputs": [
    {
     "data": {
      "text/plain": [
       "'Python'"
      ]
     },
     "execution_count": 234,
     "metadata": {},
     "output_type": "execute_result"
    }
   ],
   "source": [
    "data[1]"
   ]
  },
  {
   "cell_type": "code",
   "execution_count": 235,
   "id": "f2cc3cc5",
   "metadata": {},
   "outputs": [
    {
     "data": {
      "text/plain": [
       "100000"
      ]
     },
     "execution_count": 235,
     "metadata": {},
     "output_type": "execute_result"
    }
   ],
   "source": [
    "data[-1]"
   ]
  },
  {
   "cell_type": "code",
   "execution_count": 236,
   "id": "bfdcb8d0",
   "metadata": {},
   "outputs": [],
   "source": [
    "nums=[30,2,10,20,5]"
   ]
  },
  {
   "cell_type": "code",
   "execution_count": 237,
   "id": "7b3931ea",
   "metadata": {},
   "outputs": [
    {
     "data": {
      "text/plain": [
       "5"
      ]
     },
     "execution_count": 237,
     "metadata": {},
     "output_type": "execute_result"
    }
   ],
   "source": [
    "len(nums)"
   ]
  },
  {
   "cell_type": "code",
   "execution_count": 238,
   "id": "1950cd45",
   "metadata": {},
   "outputs": [
    {
     "data": {
      "text/plain": [
       "2"
      ]
     },
     "execution_count": 238,
     "metadata": {},
     "output_type": "execute_result"
    }
   ],
   "source": [
    "min(nums)"
   ]
  },
  {
   "cell_type": "code",
   "execution_count": 239,
   "id": "d135955b",
   "metadata": {},
   "outputs": [
    {
     "data": {
      "text/plain": [
       "30"
      ]
     },
     "execution_count": 239,
     "metadata": {},
     "output_type": "execute_result"
    }
   ],
   "source": [
    "max(nums)"
   ]
  },
  {
   "cell_type": "code",
   "execution_count": 240,
   "id": "e77812ee",
   "metadata": {},
   "outputs": [
    {
     "data": {
      "text/plain": [
       "67"
      ]
     },
     "execution_count": 240,
     "metadata": {},
     "output_type": "execute_result"
    }
   ],
   "source": [
    "sum(nums)"
   ]
  },
  {
   "cell_type": "code",
   "execution_count": 241,
   "id": "6dda817c",
   "metadata": {},
   "outputs": [
    {
     "data": {
      "text/plain": [
       "13.4"
      ]
     },
     "execution_count": 241,
     "metadata": {},
     "output_type": "execute_result"
    }
   ],
   "source": [
    "sum(nums)/len(nums)"
   ]
  },
  {
   "cell_type": "code",
   "execution_count": 242,
   "id": "15694c86",
   "metadata": {},
   "outputs": [],
   "source": [
    "nums=[1,2,3,4,5]"
   ]
  },
  {
   "cell_type": "code",
   "execution_count": 243,
   "id": "948de5e0",
   "metadata": {},
   "outputs": [
    {
     "name": "stdout",
     "output_type": "stream",
     "text": [
      "['__add__', '__class__', '__contains__', '__delattr__', '__delitem__', '__dir__', '__doc__', '__eq__', '__format__', '__ge__', '__getattribute__', '__getitem__', '__gt__', '__hash__', '__iadd__', '__imul__', '__init__', '__init_subclass__', '__iter__', '__le__', '__len__', '__lt__', '__mul__', '__ne__', '__new__', '__reduce__', '__reduce_ex__', '__repr__', '__reversed__', '__rmul__', '__setattr__', '__setitem__', '__sizeof__', '__str__', '__subclasshook__', 'append', 'clear', 'copy', 'count', 'extend', 'index', 'insert', 'pop', 'remove', 'reverse', 'sort']\n"
     ]
    }
   ],
   "source": [
    "print(dir(nums))"
   ]
  },
  {
   "cell_type": "code",
   "execution_count": 244,
   "id": "d2e64efd",
   "metadata": {},
   "outputs": [
    {
     "data": {
      "text/plain": [
       "[1, 2, 3, 4, 5]"
      ]
     },
     "execution_count": 244,
     "metadata": {},
     "output_type": "execute_result"
    }
   ],
   "source": [
    "nums"
   ]
  },
  {
   "cell_type": "code",
   "execution_count": 245,
   "id": "4709653e",
   "metadata": {},
   "outputs": [],
   "source": [
    "nums.append(6)"
   ]
  },
  {
   "cell_type": "code",
   "execution_count": 246,
   "id": "b0b9284a",
   "metadata": {},
   "outputs": [
    {
     "data": {
      "text/plain": [
       "[1, 2, 3, 4, 5, 6]"
      ]
     },
     "execution_count": 246,
     "metadata": {},
     "output_type": "execute_result"
    }
   ],
   "source": [
    "nums"
   ]
  },
  {
   "cell_type": "code",
   "execution_count": 248,
   "id": "ef48a242",
   "metadata": {},
   "outputs": [],
   "source": [
    "nums.append([7,8])"
   ]
  },
  {
   "cell_type": "code",
   "execution_count": 249,
   "id": "b10bed6d",
   "metadata": {},
   "outputs": [
    {
     "data": {
      "text/plain": [
       "[1, 2, 3, 4, 5, 6, [7, 8]]"
      ]
     },
     "execution_count": 249,
     "metadata": {},
     "output_type": "execute_result"
    }
   ],
   "source": [
    "nums"
   ]
  },
  {
   "cell_type": "code",
   "execution_count": 250,
   "id": "9f0dae56",
   "metadata": {},
   "outputs": [
    {
     "data": {
      "text/plain": [
       "[7, 8]"
      ]
     },
     "execution_count": 250,
     "metadata": {},
     "output_type": "execute_result"
    }
   ],
   "source": [
    "nums[-1]"
   ]
  },
  {
   "cell_type": "code",
   "execution_count": 251,
   "id": "10ff9fe4",
   "metadata": {},
   "outputs": [
    {
     "data": {
      "text/plain": [
       "[1, 2, 3, 4, 5, 6, [7, 8]]"
      ]
     },
     "execution_count": 251,
     "metadata": {},
     "output_type": "execute_result"
    }
   ],
   "source": [
    "nums"
   ]
  },
  {
   "cell_type": "code",
   "execution_count": 253,
   "id": "e5717624",
   "metadata": {},
   "outputs": [],
   "source": [
    "nums.extend([9])"
   ]
  },
  {
   "cell_type": "code",
   "execution_count": 254,
   "id": "8fd3b7d9",
   "metadata": {},
   "outputs": [
    {
     "data": {
      "text/plain": [
       "[1, 2, 3, 4, 5, 6, [7, 8], 9]"
      ]
     },
     "execution_count": 254,
     "metadata": {},
     "output_type": "execute_result"
    }
   ],
   "source": [
    "nums"
   ]
  },
  {
   "cell_type": "code",
   "execution_count": 255,
   "id": "3a77ccf5",
   "metadata": {},
   "outputs": [],
   "source": [
    "nums.extend([10,11,12])"
   ]
  },
  {
   "cell_type": "code",
   "execution_count": 256,
   "id": "0169bf27",
   "metadata": {},
   "outputs": [
    {
     "data": {
      "text/plain": [
       "[1, 2, 3, 4, 5, 6, [7, 8], 9, 10, 11, 12]"
      ]
     },
     "execution_count": 256,
     "metadata": {},
     "output_type": "execute_result"
    }
   ],
   "source": [
    "nums"
   ]
  },
  {
   "cell_type": "code",
   "execution_count": 257,
   "id": "e4c0eda1",
   "metadata": {},
   "outputs": [
    {
     "data": {
      "text/plain": [
       "12"
      ]
     },
     "execution_count": 257,
     "metadata": {},
     "output_type": "execute_result"
    }
   ],
   "source": [
    "nums[-1]"
   ]
  },
  {
   "cell_type": "code",
   "execution_count": 258,
   "id": "a6623aa0",
   "metadata": {},
   "outputs": [],
   "source": [
    "nums.insert(0,100)"
   ]
  },
  {
   "cell_type": "code",
   "execution_count": 259,
   "id": "8b639bfe",
   "metadata": {},
   "outputs": [
    {
     "data": {
      "text/plain": [
       "[100, 1, 2, 3, 4, 5, 6, [7, 8], 9, 10, 11, 12]"
      ]
     },
     "execution_count": 259,
     "metadata": {},
     "output_type": "execute_result"
    }
   ],
   "source": [
    "nums"
   ]
  },
  {
   "cell_type": "code",
   "execution_count": 260,
   "id": "f4b122d4",
   "metadata": {},
   "outputs": [],
   "source": [
    "nums.insert(3,2.5)"
   ]
  },
  {
   "cell_type": "code",
   "execution_count": 261,
   "id": "4f067ebb",
   "metadata": {},
   "outputs": [
    {
     "data": {
      "text/plain": [
       "[100, 1, 2, 2.5, 3, 4, 5, 6, [7, 8], 9, 10, 11, 12]"
      ]
     },
     "execution_count": 261,
     "metadata": {},
     "output_type": "execute_result"
    }
   ],
   "source": [
    "nums"
   ]
  },
  {
   "cell_type": "code",
   "execution_count": 263,
   "id": "76fc4afa",
   "metadata": {},
   "outputs": [],
   "source": [
    "nums[8].insert(1,7.5)"
   ]
  },
  {
   "cell_type": "code",
   "execution_count": 264,
   "id": "81417cb1",
   "metadata": {},
   "outputs": [
    {
     "data": {
      "text/plain": [
       "[100, 1, 2, 2.5, 3, 4, 5, 6, [7, 7.5, 8], 9, 10, 11, 12]"
      ]
     },
     "execution_count": 264,
     "metadata": {},
     "output_type": "execute_result"
    }
   ],
   "source": [
    "nums"
   ]
  },
  {
   "cell_type": "code",
   "execution_count": 265,
   "id": "8313145d",
   "metadata": {},
   "outputs": [],
   "source": [
    "# remove and pop"
   ]
  },
  {
   "cell_type": "code",
   "execution_count": 266,
   "id": "52b9a69e",
   "metadata": {},
   "outputs": [],
   "source": [
    "nums.remove(4)"
   ]
  },
  {
   "cell_type": "code",
   "execution_count": 267,
   "id": "1e7c328f",
   "metadata": {},
   "outputs": [
    {
     "data": {
      "text/plain": [
       "[100, 1, 2, 2.5, 3, 5, 6, [7, 7.5, 8], 9, 10, 11, 12]"
      ]
     },
     "execution_count": 267,
     "metadata": {},
     "output_type": "execute_result"
    }
   ],
   "source": [
    "nums"
   ]
  },
  {
   "cell_type": "code",
   "execution_count": 268,
   "id": "ab50249b",
   "metadata": {},
   "outputs": [],
   "source": [
    "nums.remove(2.5)"
   ]
  },
  {
   "cell_type": "code",
   "execution_count": 269,
   "id": "712bd3b8",
   "metadata": {},
   "outputs": [
    {
     "data": {
      "text/plain": [
       "[100, 1, 2, 3, 5, 6, [7, 7.5, 8], 9, 10, 11, 12]"
      ]
     },
     "execution_count": 269,
     "metadata": {},
     "output_type": "execute_result"
    }
   ],
   "source": [
    "nums"
   ]
  },
  {
   "cell_type": "code",
   "execution_count": 270,
   "id": "83774613",
   "metadata": {},
   "outputs": [
    {
     "data": {
      "text/plain": [
       "100"
      ]
     },
     "execution_count": 270,
     "metadata": {},
     "output_type": "execute_result"
    }
   ],
   "source": [
    "nums.pop(0)"
   ]
  },
  {
   "cell_type": "code",
   "execution_count": 271,
   "id": "935e6795",
   "metadata": {},
   "outputs": [
    {
     "data": {
      "text/plain": [
       "[1, 2, 3, 5, 6, [7, 7.5, 8], 9, 10, 11, 12]"
      ]
     },
     "execution_count": 271,
     "metadata": {},
     "output_type": "execute_result"
    }
   ],
   "source": [
    "nums"
   ]
  },
  {
   "cell_type": "code",
   "execution_count": 272,
   "id": "fce91af6",
   "metadata": {},
   "outputs": [
    {
     "data": {
      "text/plain": [
       "[7, 7.5, 8]"
      ]
     },
     "execution_count": 272,
     "metadata": {},
     "output_type": "execute_result"
    }
   ],
   "source": [
    "nums.pop(5)"
   ]
  },
  {
   "cell_type": "code",
   "execution_count": 273,
   "id": "ee079e0c",
   "metadata": {},
   "outputs": [
    {
     "data": {
      "text/plain": [
       "[1, 2, 3, 5, 6, 9, 10, 11, 12]"
      ]
     },
     "execution_count": 273,
     "metadata": {},
     "output_type": "execute_result"
    }
   ],
   "source": [
    "nums"
   ]
  },
  {
   "cell_type": "code",
   "execution_count": 276,
   "id": "1c28a315",
   "metadata": {},
   "outputs": [],
   "source": [
    "number=[1,5,3,2,6,8,9,4,2,5,7,8,10]"
   ]
  },
  {
   "cell_type": "code",
   "execution_count": 277,
   "id": "494e27d1",
   "metadata": {},
   "outputs": [
    {
     "data": {
      "text/plain": [
       "[1, 5, 3, 2, 6, 8, 9, 4, 2, 5, 7, 8, 10]"
      ]
     },
     "execution_count": 277,
     "metadata": {},
     "output_type": "execute_result"
    }
   ],
   "source": [
    "number"
   ]
  },
  {
   "cell_type": "code",
   "execution_count": 278,
   "id": "92db0a90",
   "metadata": {},
   "outputs": [],
   "source": [
    "number.sort()"
   ]
  },
  {
   "cell_type": "code",
   "execution_count": 279,
   "id": "d9e8cd41",
   "metadata": {},
   "outputs": [
    {
     "data": {
      "text/plain": [
       "[1, 2, 2, 3, 4, 5, 5, 6, 7, 8, 8, 9, 10]"
      ]
     },
     "execution_count": 279,
     "metadata": {},
     "output_type": "execute_result"
    }
   ],
   "source": [
    "number"
   ]
  },
  {
   "cell_type": "code",
   "execution_count": 280,
   "id": "b5ec8396",
   "metadata": {},
   "outputs": [],
   "source": [
    "number.sort(reverse=True)"
   ]
  },
  {
   "cell_type": "code",
   "execution_count": 281,
   "id": "5d68512a",
   "metadata": {},
   "outputs": [
    {
     "data": {
      "text/plain": [
       "[10, 9, 8, 8, 7, 6, 5, 5, 4, 3, 2, 2, 1]"
      ]
     },
     "execution_count": 281,
     "metadata": {},
     "output_type": "execute_result"
    }
   ],
   "source": [
    "number"
   ]
  },
  {
   "cell_type": "code",
   "execution_count": 282,
   "id": "24dcbb78",
   "metadata": {},
   "outputs": [
    {
     "data": {
      "text/plain": [
       "2"
      ]
     },
     "execution_count": 282,
     "metadata": {},
     "output_type": "execute_result"
    }
   ],
   "source": [
    "number.index(8)"
   ]
  },
  {
   "cell_type": "code",
   "execution_count": 283,
   "id": "29727455",
   "metadata": {},
   "outputs": [
    {
     "data": {
      "text/plain": [
       "2"
      ]
     },
     "execution_count": 283,
     "metadata": {},
     "output_type": "execute_result"
    }
   ],
   "source": [
    "number.count(5)"
   ]
  },
  {
   "cell_type": "code",
   "execution_count": 284,
   "id": "f653129a",
   "metadata": {},
   "outputs": [],
   "source": [
    "number.clear()"
   ]
  },
  {
   "cell_type": "code",
   "execution_count": 285,
   "id": "8a440758",
   "metadata": {},
   "outputs": [
    {
     "data": {
      "text/plain": [
       "[]"
      ]
     },
     "execution_count": 285,
     "metadata": {},
     "output_type": "execute_result"
    }
   ],
   "source": [
    "number"
   ]
  },
  {
   "cell_type": "code",
   "execution_count": null,
   "id": "3a5b8a6a",
   "metadata": {},
   "outputs": [],
   "source": [
    "append\n",
    "extend\n",
    "insert\n",
    "\n",
    "\n",
    "remove\n",
    "pop\n",
    "\n",
    "sort \n",
    "reverse\n",
    "\n",
    "index\n",
    "count\n",
    "clear\n",
    "\n",
    "copy"
   ]
  },
  {
   "cell_type": "code",
   "execution_count": 286,
   "id": "4e48d232",
   "metadata": {},
   "outputs": [],
   "source": [
    "data=[5, 3, 2, 6, 8, 9]"
   ]
  },
  {
   "cell_type": "code",
   "execution_count": 289,
   "id": "1ace0027",
   "metadata": {},
   "outputs": [],
   "source": [
    "data.reverse()"
   ]
  },
  {
   "cell_type": "code",
   "execution_count": 290,
   "id": "b322ae2d",
   "metadata": {},
   "outputs": [
    {
     "data": {
      "text/plain": [
       "[9, 8, 6, 2, 3, 5]"
      ]
     },
     "execution_count": 290,
     "metadata": {},
     "output_type": "execute_result"
    }
   ],
   "source": [
    "data"
   ]
  },
  {
   "cell_type": "code",
   "execution_count": 291,
   "id": "42b5a4f3",
   "metadata": {},
   "outputs": [],
   "source": [
    "nums=[1,2,3,4,5]"
   ]
  },
  {
   "cell_type": "code",
   "execution_count": 292,
   "id": "b96332cf",
   "metadata": {},
   "outputs": [],
   "source": [
    "nums_bk=nums"
   ]
  },
  {
   "cell_type": "code",
   "execution_count": 293,
   "id": "a8f1d686",
   "metadata": {},
   "outputs": [
    {
     "data": {
      "text/plain": [
       "[1, 2, 3, 4, 5]"
      ]
     },
     "execution_count": 293,
     "metadata": {},
     "output_type": "execute_result"
    }
   ],
   "source": [
    "nums"
   ]
  },
  {
   "cell_type": "code",
   "execution_count": 294,
   "id": "517190c2",
   "metadata": {},
   "outputs": [
    {
     "data": {
      "text/plain": [
       "[1, 2, 3, 4, 5]"
      ]
     },
     "execution_count": 294,
     "metadata": {},
     "output_type": "execute_result"
    }
   ],
   "source": [
    "nums_bk"
   ]
  },
  {
   "cell_type": "code",
   "execution_count": 295,
   "id": "035e2ab8",
   "metadata": {},
   "outputs": [],
   "source": [
    "nums.append(100)"
   ]
  },
  {
   "cell_type": "code",
   "execution_count": 296,
   "id": "d8c19fb7",
   "metadata": {},
   "outputs": [
    {
     "data": {
      "text/plain": [
       "[1, 2, 3, 4, 5, 100]"
      ]
     },
     "execution_count": 296,
     "metadata": {},
     "output_type": "execute_result"
    }
   ],
   "source": [
    "nums"
   ]
  },
  {
   "cell_type": "code",
   "execution_count": 297,
   "id": "ea4fef40",
   "metadata": {},
   "outputs": [
    {
     "data": {
      "text/plain": [
       "[1, 2, 3, 4, 5, 100]"
      ]
     },
     "execution_count": 297,
     "metadata": {},
     "output_type": "execute_result"
    }
   ],
   "source": [
    "nums_bk"
   ]
  },
  {
   "cell_type": "code",
   "execution_count": 298,
   "id": "4f86c1ac",
   "metadata": {},
   "outputs": [],
   "source": [
    "nums_bk.remove(4)"
   ]
  },
  {
   "cell_type": "code",
   "execution_count": 299,
   "id": "3a4099c8",
   "metadata": {},
   "outputs": [
    {
     "data": {
      "text/plain": [
       "[1, 2, 3, 5, 100]"
      ]
     },
     "execution_count": 299,
     "metadata": {},
     "output_type": "execute_result"
    }
   ],
   "source": [
    "nums_bk"
   ]
  },
  {
   "cell_type": "code",
   "execution_count": 300,
   "id": "ef26fa6f",
   "metadata": {},
   "outputs": [
    {
     "data": {
      "text/plain": [
       "[1, 2, 3, 5, 100]"
      ]
     },
     "execution_count": 300,
     "metadata": {},
     "output_type": "execute_result"
    }
   ],
   "source": [
    "nums"
   ]
  },
  {
   "cell_type": "code",
   "execution_count": 301,
   "id": "04efcdb8",
   "metadata": {},
   "outputs": [
    {
     "data": {
      "text/plain": [
       "2230334413824"
      ]
     },
     "execution_count": 301,
     "metadata": {},
     "output_type": "execute_result"
    }
   ],
   "source": [
    "id(nums)"
   ]
  },
  {
   "cell_type": "code",
   "execution_count": 302,
   "id": "d71549b1",
   "metadata": {},
   "outputs": [
    {
     "data": {
      "text/plain": [
       "2230334413824"
      ]
     },
     "execution_count": 302,
     "metadata": {},
     "output_type": "execute_result"
    }
   ],
   "source": [
    "id(nums_bk)"
   ]
  },
  {
   "cell_type": "code",
   "execution_count": 303,
   "id": "cad46a2c",
   "metadata": {},
   "outputs": [],
   "source": [
    "import copy"
   ]
  },
  {
   "cell_type": "code",
   "execution_count": null,
   "id": "8292e721",
   "metadata": {},
   "outputs": [],
   "source": [
    "#shallow copy(copy.copy())\n",
    "#deep copy(copy.deepcopy())"
   ]
  },
  {
   "cell_type": "code",
   "execution_count": 312,
   "id": "a293241c",
   "metadata": {},
   "outputs": [],
   "source": [
    "nums=[1,2,[3,4],5]"
   ]
  },
  {
   "cell_type": "code",
   "execution_count": 313,
   "id": "85542e05",
   "metadata": {},
   "outputs": [],
   "source": [
    "s_nums=copy.copy(nums)"
   ]
  },
  {
   "cell_type": "code",
   "execution_count": 314,
   "id": "147b5401",
   "metadata": {},
   "outputs": [
    {
     "data": {
      "text/plain": [
       "[1, 2, [3, 4], 5]"
      ]
     },
     "execution_count": 314,
     "metadata": {},
     "output_type": "execute_result"
    }
   ],
   "source": [
    "nums"
   ]
  },
  {
   "cell_type": "code",
   "execution_count": 315,
   "id": "87a56174",
   "metadata": {},
   "outputs": [
    {
     "data": {
      "text/plain": [
       "[1, 2, [3, 4], 5]"
      ]
     },
     "execution_count": 315,
     "metadata": {},
     "output_type": "execute_result"
    }
   ],
   "source": [
    "s_nums"
   ]
  },
  {
   "cell_type": "code",
   "execution_count": 316,
   "id": "4f5ec40d",
   "metadata": {},
   "outputs": [],
   "source": [
    "nums.append(6)"
   ]
  },
  {
   "cell_type": "code",
   "execution_count": 317,
   "id": "3f3fda97",
   "metadata": {},
   "outputs": [
    {
     "data": {
      "text/plain": [
       "[1, 2, [3, 4], 5, 6]"
      ]
     },
     "execution_count": 317,
     "metadata": {},
     "output_type": "execute_result"
    }
   ],
   "source": [
    "nums"
   ]
  },
  {
   "cell_type": "code",
   "execution_count": 318,
   "id": "6173a819",
   "metadata": {},
   "outputs": [
    {
     "data": {
      "text/plain": [
       "[1, 2, [3, 4], 5]"
      ]
     },
     "execution_count": 318,
     "metadata": {},
     "output_type": "execute_result"
    }
   ],
   "source": [
    "s_nums"
   ]
  },
  {
   "cell_type": "code",
   "execution_count": 319,
   "id": "c630ef17",
   "metadata": {},
   "outputs": [],
   "source": [
    "s_nums.insert(0,100)"
   ]
  },
  {
   "cell_type": "code",
   "execution_count": 320,
   "id": "1a0350e0",
   "metadata": {},
   "outputs": [
    {
     "data": {
      "text/plain": [
       "[100, 1, 2, [3, 4], 5]"
      ]
     },
     "execution_count": 320,
     "metadata": {},
     "output_type": "execute_result"
    }
   ],
   "source": [
    "s_nums"
   ]
  },
  {
   "cell_type": "code",
   "execution_count": 321,
   "id": "3cf377b1",
   "metadata": {},
   "outputs": [
    {
     "data": {
      "text/plain": [
       "[1, 2, [3, 4], 5, 6]"
      ]
     },
     "execution_count": 321,
     "metadata": {},
     "output_type": "execute_result"
    }
   ],
   "source": [
    "nums"
   ]
  },
  {
   "cell_type": "code",
   "execution_count": 323,
   "id": "42690c20",
   "metadata": {},
   "outputs": [],
   "source": [
    "nums[2].append(10)"
   ]
  },
  {
   "cell_type": "code",
   "execution_count": 324,
   "id": "262b366e",
   "metadata": {},
   "outputs": [
    {
     "data": {
      "text/plain": [
       "[1, 2, [3, 4, 10], 5, 6]"
      ]
     },
     "execution_count": 324,
     "metadata": {},
     "output_type": "execute_result"
    }
   ],
   "source": [
    "nums"
   ]
  },
  {
   "cell_type": "code",
   "execution_count": 325,
   "id": "86d4dae7",
   "metadata": {},
   "outputs": [
    {
     "data": {
      "text/plain": [
       "[100, 1, 2, [3, 4, 10], 5]"
      ]
     },
     "execution_count": 325,
     "metadata": {},
     "output_type": "execute_result"
    }
   ],
   "source": [
    "s_nums"
   ]
  },
  {
   "cell_type": "code",
   "execution_count": 326,
   "id": "6d8a75eb",
   "metadata": {},
   "outputs": [],
   "source": [
    "##deep copy"
   ]
  },
  {
   "cell_type": "code",
   "execution_count": 327,
   "id": "01123183",
   "metadata": {},
   "outputs": [],
   "source": [
    "nums=[1,2,[3,4],5]"
   ]
  },
  {
   "cell_type": "code",
   "execution_count": 328,
   "id": "24d24946",
   "metadata": {},
   "outputs": [],
   "source": [
    "d_nums=copy.deepcopy(nums)"
   ]
  },
  {
   "cell_type": "code",
   "execution_count": 329,
   "id": "6c34d02a",
   "metadata": {},
   "outputs": [
    {
     "data": {
      "text/plain": [
       "[1, 2, [3, 4], 5]"
      ]
     },
     "execution_count": 329,
     "metadata": {},
     "output_type": "execute_result"
    }
   ],
   "source": [
    "nums"
   ]
  },
  {
   "cell_type": "code",
   "execution_count": 330,
   "id": "1aa382ed",
   "metadata": {},
   "outputs": [
    {
     "data": {
      "text/plain": [
       "[1, 2, [3, 4], 5]"
      ]
     },
     "execution_count": 330,
     "metadata": {},
     "output_type": "execute_result"
    }
   ],
   "source": [
    "d_nums"
   ]
  },
  {
   "cell_type": "code",
   "execution_count": 331,
   "id": "fc933028",
   "metadata": {},
   "outputs": [],
   "source": [
    "nums.append(6)"
   ]
  },
  {
   "cell_type": "code",
   "execution_count": 332,
   "id": "9168971a",
   "metadata": {},
   "outputs": [
    {
     "data": {
      "text/plain": [
       "[1, 2, [3, 4], 5, 6]"
      ]
     },
     "execution_count": 332,
     "metadata": {},
     "output_type": "execute_result"
    }
   ],
   "source": [
    "nums"
   ]
  },
  {
   "cell_type": "code",
   "execution_count": 333,
   "id": "d2739325",
   "metadata": {},
   "outputs": [
    {
     "data": {
      "text/plain": [
       "[1, 2, [3, 4], 5]"
      ]
     },
     "execution_count": 333,
     "metadata": {},
     "output_type": "execute_result"
    }
   ],
   "source": [
    "d_nums"
   ]
  },
  {
   "cell_type": "code",
   "execution_count": 335,
   "id": "bcb9ee65",
   "metadata": {},
   "outputs": [],
   "source": [
    "nums[2].insert(1,3.5)"
   ]
  },
  {
   "cell_type": "code",
   "execution_count": 336,
   "id": "9db71df2",
   "metadata": {},
   "outputs": [
    {
     "data": {
      "text/plain": [
       "[1, 2, [3, 3.5, 4], 5, 6]"
      ]
     },
     "execution_count": 336,
     "metadata": {},
     "output_type": "execute_result"
    }
   ],
   "source": [
    "nums"
   ]
  },
  {
   "cell_type": "code",
   "execution_count": 337,
   "id": "a6570dc3",
   "metadata": {},
   "outputs": [
    {
     "data": {
      "text/plain": [
       "[1, 2, [3, 4], 5]"
      ]
     },
     "execution_count": 337,
     "metadata": {},
     "output_type": "execute_result"
    }
   ],
   "source": [
    "d_nums"
   ]
  },
  {
   "cell_type": "code",
   "execution_count": 338,
   "id": "8bf317e1",
   "metadata": {},
   "outputs": [],
   "source": [
    "# usual copy"
   ]
  },
  {
   "cell_type": "code",
   "execution_count": 339,
   "id": "14426c9c",
   "metadata": {},
   "outputs": [],
   "source": [
    "nums=[1,2,[3,4],5]"
   ]
  },
  {
   "cell_type": "code",
   "execution_count": 340,
   "id": "6ce277f1",
   "metadata": {},
   "outputs": [],
   "source": [
    "c_nums=nums"
   ]
  },
  {
   "cell_type": "code",
   "execution_count": 341,
   "id": "c6c6f22b",
   "metadata": {},
   "outputs": [
    {
     "data": {
      "text/plain": [
       "[1, 2, [3, 4], 5]"
      ]
     },
     "execution_count": 341,
     "metadata": {},
     "output_type": "execute_result"
    }
   ],
   "source": [
    "nums"
   ]
  },
  {
   "cell_type": "code",
   "execution_count": 342,
   "id": "43040e22",
   "metadata": {},
   "outputs": [
    {
     "data": {
      "text/plain": [
       "[1, 2, [3, 4], 5]"
      ]
     },
     "execution_count": 342,
     "metadata": {},
     "output_type": "execute_result"
    }
   ],
   "source": [
    "c_nums"
   ]
  },
  {
   "cell_type": "code",
   "execution_count": 343,
   "id": "3932a61f",
   "metadata": {},
   "outputs": [],
   "source": [
    "nums.append(6)"
   ]
  },
  {
   "cell_type": "code",
   "execution_count": 344,
   "id": "11837a4a",
   "metadata": {},
   "outputs": [
    {
     "data": {
      "text/plain": [
       "[1, 2, [3, 4], 5, 6]"
      ]
     },
     "execution_count": 344,
     "metadata": {},
     "output_type": "execute_result"
    }
   ],
   "source": [
    "nums"
   ]
  },
  {
   "cell_type": "code",
   "execution_count": 345,
   "id": "bcfcbb92",
   "metadata": {},
   "outputs": [
    {
     "data": {
      "text/plain": [
       "[1, 2, [3, 4], 5, 6]"
      ]
     },
     "execution_count": 345,
     "metadata": {},
     "output_type": "execute_result"
    }
   ],
   "source": [
    "c_nums"
   ]
  },
  {
   "cell_type": "code",
   "execution_count": 346,
   "id": "dfb3b5e0",
   "metadata": {},
   "outputs": [],
   "source": [
    "nums[2].insert(1,3.5)"
   ]
  },
  {
   "cell_type": "code",
   "execution_count": 347,
   "id": "5dfe9b08",
   "metadata": {},
   "outputs": [
    {
     "data": {
      "text/plain": [
       "[1, 2, [3, 3.5, 4], 5, 6]"
      ]
     },
     "execution_count": 347,
     "metadata": {},
     "output_type": "execute_result"
    }
   ],
   "source": [
    "nums"
   ]
  },
  {
   "cell_type": "code",
   "execution_count": 348,
   "id": "e61a9bed",
   "metadata": {},
   "outputs": [
    {
     "data": {
      "text/plain": [
       "[1, 2, [3, 3.5, 4], 5, 6]"
      ]
     },
     "execution_count": 348,
     "metadata": {},
     "output_type": "execute_result"
    }
   ],
   "source": [
    "c_nums"
   ]
  },
  {
   "cell_type": "code",
   "execution_count": 349,
   "id": "a7c566be",
   "metadata": {},
   "outputs": [
    {
     "name": "stdout",
     "output_type": "stream",
     "text": [
      "['__add__', '__class__', '__contains__', '__delattr__', '__delitem__', '__dir__', '__doc__', '__eq__', '__format__', '__ge__', '__getattribute__', '__getitem__', '__gt__', '__hash__', '__iadd__', '__imul__', '__init__', '__init_subclass__', '__iter__', '__le__', '__len__', '__lt__', '__mul__', '__ne__', '__new__', '__reduce__', '__reduce_ex__', '__repr__', '__reversed__', '__rmul__', '__setattr__', '__setitem__', '__sizeof__', '__str__', '__subclasshook__', 'append', 'clear', 'copy', 'count', 'extend', 'index', 'insert', 'pop', 'remove', 'reverse', 'sort']\n"
     ]
    }
   ],
   "source": [
    "print(dir(nums))"
   ]
  },
  {
   "cell_type": "code",
   "execution_count": null,
   "id": "1256b160",
   "metadata": {},
   "outputs": [],
   "source": [
    "'append', 'clear', 'copy', 'count', 'extend', 'index', 'insert', 'pop', 'remove', 'reverse', 'sort'"
   ]
  },
  {
   "cell_type": "markdown",
   "id": "68b2d36e",
   "metadata": {},
   "source": [
    "# TUPLE"
   ]
  },
  {
   "cell_type": "code",
   "execution_count": 351,
   "id": "87d657eb",
   "metadata": {},
   "outputs": [],
   "source": [
    "nums=(1,2,3,4,5)"
   ]
  },
  {
   "cell_type": "code",
   "execution_count": 352,
   "id": "4e06f055",
   "metadata": {},
   "outputs": [
    {
     "data": {
      "text/plain": [
       "tuple"
      ]
     },
     "execution_count": 352,
     "metadata": {},
     "output_type": "execute_result"
    }
   ],
   "source": [
    "type(nums)"
   ]
  },
  {
   "cell_type": "code",
   "execution_count": 353,
   "id": "bcca54c4",
   "metadata": {},
   "outputs": [
    {
     "name": "stdout",
     "output_type": "stream",
     "text": [
      "['__add__', '__class__', '__contains__', '__delattr__', '__dir__', '__doc__', '__eq__', '__format__', '__ge__', '__getattribute__', '__getitem__', '__getnewargs__', '__gt__', '__hash__', '__init__', '__init_subclass__', '__iter__', '__le__', '__len__', '__lt__', '__mul__', '__ne__', '__new__', '__reduce__', '__reduce_ex__', '__repr__', '__rmul__', '__setattr__', '__sizeof__', '__str__', '__subclasshook__', 'count', 'index']\n"
     ]
    }
   ],
   "source": [
    "print(dir(nums))"
   ]
  },
  {
   "cell_type": "code",
   "execution_count": 354,
   "id": "ca0858d2",
   "metadata": {},
   "outputs": [
    {
     "data": {
      "text/plain": [
       "1"
      ]
     },
     "execution_count": 354,
     "metadata": {},
     "output_type": "execute_result"
    }
   ],
   "source": [
    "nums.count(5)"
   ]
  },
  {
   "cell_type": "code",
   "execution_count": 355,
   "id": "95b09083",
   "metadata": {},
   "outputs": [
    {
     "data": {
      "text/plain": [
       "4"
      ]
     },
     "execution_count": 355,
     "metadata": {},
     "output_type": "execute_result"
    }
   ],
   "source": [
    "nums.index(5)"
   ]
  },
  {
   "cell_type": "markdown",
   "id": "3d205d16",
   "metadata": {},
   "source": [
    "# LIST VS TUPLE"
   ]
  },
  {
   "cell_type": "code",
   "execution_count": null,
   "id": "83c96f22",
   "metadata": {},
   "outputs": [],
   "source": [
    "List is mutable                                 Tuple is immutable\n",
    "List takes more memory                          Less Memory\n",
    "Takes more time to process                      very less time to process"
   ]
  },
  {
   "cell_type": "code",
   "execution_count": 356,
   "id": "3b69a152",
   "metadata": {},
   "outputs": [
    {
     "name": "stdout",
     "output_type": "stream",
     "text": [
      "LIST SIZE: 128\n",
      "TUPLE SIZE: 112\n"
     ]
    }
   ],
   "source": [
    "import sys\n",
    "\n",
    "l_nums=[1,2,3,4,5,7,8,9,10]\n",
    "t_nums=(1,2,3,4,5,7,8,9,10)\n",
    "\n",
    "print(\"LIST SIZE:\", sys.getsizeof(l_nums))\n",
    "print(\"TUPLE SIZE:\", sys.getsizeof(t_nums))"
   ]
  },
  {
   "cell_type": "code",
   "execution_count": 358,
   "id": "e9064b22",
   "metadata": {},
   "outputs": [
    {
     "name": "stdout",
     "output_type": "stream",
     "text": [
      "List took: 706.2955000001239\n",
      "Tuple took: 61.283900002308656\n"
     ]
    }
   ],
   "source": [
    "import timeit\n",
    "\n",
    "print(\"List took:\",timeit.timeit(stmt=\"[1,2,3,4,5,7,8,9,10]\", number=10000000)*1000)\n",
    "print(\"Tuple took:\",timeit.timeit(stmt=\"(1,2,3,4,5,7,8,9,10)\", number=10000000)*1000)"
   ]
  },
  {
   "cell_type": "markdown",
   "id": "35026e5b",
   "metadata": {},
   "source": [
    "# DICTIONARY"
   ]
  },
  {
   "cell_type": "code",
   "execution_count": null,
   "id": "7831b015",
   "metadata": {},
   "outputs": [],
   "source": [
    "key , value pairs of elements\n",
    "key can't be duplicated\n",
    "it is unordered array, associative array, hash, hash map"
   ]
  },
  {
   "cell_type": "code",
   "execution_count": 359,
   "id": "84fe8a19",
   "metadata": {},
   "outputs": [],
   "source": [
    "info={'name':'Raghul Ramesh','exp':17,'city':'Chennai'}"
   ]
  },
  {
   "cell_type": "code",
   "execution_count": 360,
   "id": "8e95940a",
   "metadata": {},
   "outputs": [
    {
     "data": {
      "text/plain": [
       "{'name': 'Raghul Ramesh', 'exp': 17, 'city': 'Chennai'}"
      ]
     },
     "execution_count": 360,
     "metadata": {},
     "output_type": "execute_result"
    }
   ],
   "source": [
    "info"
   ]
  },
  {
   "cell_type": "code",
   "execution_count": 361,
   "id": "9ae93921",
   "metadata": {},
   "outputs": [
    {
     "data": {
      "text/plain": [
       "'Raghul Ramesh'"
      ]
     },
     "execution_count": 361,
     "metadata": {},
     "output_type": "execute_result"
    }
   ],
   "source": [
    "info['name']"
   ]
  },
  {
   "cell_type": "code",
   "execution_count": 362,
   "id": "3364c882",
   "metadata": {},
   "outputs": [
    {
     "data": {
      "text/plain": [
       "'Chennai'"
      ]
     },
     "execution_count": 362,
     "metadata": {},
     "output_type": "execute_result"
    }
   ],
   "source": [
    "info['city']"
   ]
  },
  {
   "cell_type": "code",
   "execution_count": 363,
   "id": "49f1183d",
   "metadata": {},
   "outputs": [],
   "source": [
    "info['manager']='Levin Lenus'"
   ]
  },
  {
   "cell_type": "code",
   "execution_count": 364,
   "id": "4f75bc05",
   "metadata": {},
   "outputs": [
    {
     "data": {
      "text/plain": [
       "{'name': 'Raghul Ramesh',\n",
       " 'exp': 17,\n",
       " 'city': 'Chennai',\n",
       " 'manager': 'Levin Lenus'}"
      ]
     },
     "execution_count": 364,
     "metadata": {},
     "output_type": "execute_result"
    }
   ],
   "source": [
    "info"
   ]
  },
  {
   "cell_type": "code",
   "execution_count": 365,
   "id": "d194bcf5",
   "metadata": {},
   "outputs": [],
   "source": [
    "info['city']='Bangalore'"
   ]
  },
  {
   "cell_type": "code",
   "execution_count": 366,
   "id": "0c41d3b8",
   "metadata": {},
   "outputs": [
    {
     "data": {
      "text/plain": [
       "{'name': 'Raghul Ramesh',\n",
       " 'exp': 17,\n",
       " 'city': 'Bangalore',\n",
       " 'manager': 'Levin Lenus'}"
      ]
     },
     "execution_count": 366,
     "metadata": {},
     "output_type": "execute_result"
    }
   ],
   "source": [
    "info"
   ]
  },
  {
   "cell_type": "code",
   "execution_count": 367,
   "id": "fe3bc3ba",
   "metadata": {},
   "outputs": [],
   "source": [
    "info.update({'exp':20,'city':'hyderabad','project':'marketing analytics','BU':'LND'})"
   ]
  },
  {
   "cell_type": "code",
   "execution_count": 368,
   "id": "369f5181",
   "metadata": {},
   "outputs": [
    {
     "data": {
      "text/plain": [
       "{'name': 'Raghul Ramesh',\n",
       " 'exp': 20,\n",
       " 'city': 'hyderabad',\n",
       " 'manager': 'Levin Lenus',\n",
       " 'project': 'marketing analytics',\n",
       " 'BU': 'LND'}"
      ]
     },
     "execution_count": 368,
     "metadata": {},
     "output_type": "execute_result"
    }
   ],
   "source": [
    "info"
   ]
  },
  {
   "cell_type": "code",
   "execution_count": 369,
   "id": "f7ecf200",
   "metadata": {},
   "outputs": [
    {
     "ename": "KeyError",
     "evalue": "'salary'",
     "output_type": "error",
     "traceback": [
      "\u001b[1;31m---------------------------------------------------------------------------\u001b[0m",
      "\u001b[1;31mKeyError\u001b[0m                                  Traceback (most recent call last)",
      "Input \u001b[1;32mIn [369]\u001b[0m, in \u001b[0;36m<cell line: 1>\u001b[1;34m()\u001b[0m\n\u001b[1;32m----> 1\u001b[0m \u001b[43minfo\u001b[49m\u001b[43m[\u001b[49m\u001b[38;5;124;43m'\u001b[39;49m\u001b[38;5;124;43msalary\u001b[39;49m\u001b[38;5;124;43m'\u001b[39;49m\u001b[43m]\u001b[49m\n",
      "\u001b[1;31mKeyError\u001b[0m: 'salary'"
     ]
    }
   ],
   "source": [
    "info['salary']"
   ]
  },
  {
   "cell_type": "code",
   "execution_count": 370,
   "id": "6bed0095",
   "metadata": {},
   "outputs": [
    {
     "data": {
      "text/plain": [
       "'Raghul Ramesh'"
      ]
     },
     "execution_count": 370,
     "metadata": {},
     "output_type": "execute_result"
    }
   ],
   "source": [
    "info.get('name')"
   ]
  },
  {
   "cell_type": "code",
   "execution_count": 375,
   "id": "921c88f0",
   "metadata": {},
   "outputs": [
    {
     "data": {
      "text/plain": [
       "'Not Available'"
      ]
     },
     "execution_count": 375,
     "metadata": {},
     "output_type": "execute_result"
    }
   ],
   "source": [
    "info.get('salary','Not Available')"
   ]
  },
  {
   "cell_type": "code",
   "execution_count": 376,
   "id": "ce286ba1",
   "metadata": {},
   "outputs": [
    {
     "data": {
      "text/plain": [
       "{'name': 'Raghul Ramesh',\n",
       " 'exp': 20,\n",
       " 'city': 'hyderabad',\n",
       " 'manager': 'Levin Lenus',\n",
       " 'project': 'marketing analytics',\n",
       " 'BU': 'LND'}"
      ]
     },
     "execution_count": 376,
     "metadata": {},
     "output_type": "execute_result"
    }
   ],
   "source": [
    "info"
   ]
  },
  {
   "cell_type": "code",
   "execution_count": 377,
   "id": "9e655d8e",
   "metadata": {},
   "outputs": [
    {
     "data": {
      "text/plain": [
       "'Levin Lenus'"
      ]
     },
     "execution_count": 377,
     "metadata": {},
     "output_type": "execute_result"
    }
   ],
   "source": [
    "info.setdefault('manager')"
   ]
  },
  {
   "cell_type": "code",
   "execution_count": 379,
   "id": "f50f7dc3",
   "metadata": {},
   "outputs": [
    {
     "data": {
      "text/plain": [
       "'hyderabad'"
      ]
     },
     "execution_count": 379,
     "metadata": {},
     "output_type": "execute_result"
    }
   ],
   "source": [
    "info.setdefault('city','Mumbai')"
   ]
  },
  {
   "cell_type": "code",
   "execution_count": 380,
   "id": "d8c61bfb",
   "metadata": {},
   "outputs": [
    {
     "data": {
      "text/plain": [
       "{'name': 'Raghul Ramesh',\n",
       " 'exp': 20,\n",
       " 'city': 'hyderabad',\n",
       " 'manager': 'Levin Lenus',\n",
       " 'project': 'marketing analytics',\n",
       " 'BU': 'LND'}"
      ]
     },
     "execution_count": 380,
     "metadata": {},
     "output_type": "execute_result"
    }
   ],
   "source": [
    "info"
   ]
  },
  {
   "cell_type": "code",
   "execution_count": 382,
   "id": "2fc96fbb",
   "metadata": {},
   "outputs": [
    {
     "data": {
      "text/plain": [
       "100000"
      ]
     },
     "execution_count": 382,
     "metadata": {},
     "output_type": "execute_result"
    }
   ],
   "source": [
    "info.setdefault('salary',100000)"
   ]
  },
  {
   "cell_type": "code",
   "execution_count": 383,
   "id": "60776263",
   "metadata": {},
   "outputs": [
    {
     "data": {
      "text/plain": [
       "{'name': 'Raghul Ramesh',\n",
       " 'exp': 20,\n",
       " 'city': 'hyderabad',\n",
       " 'manager': 'Levin Lenus',\n",
       " 'project': 'marketing analytics',\n",
       " 'BU': 'LND',\n",
       " 'salary': 100000}"
      ]
     },
     "execution_count": 383,
     "metadata": {},
     "output_type": "execute_result"
    }
   ],
   "source": [
    "info"
   ]
  },
  {
   "cell_type": "code",
   "execution_count": 384,
   "id": "f6cf74b4",
   "metadata": {},
   "outputs": [
    {
     "name": "stdout",
     "output_type": "stream",
     "text": [
      "['__class__', '__contains__', '__delattr__', '__delitem__', '__dir__', '__doc__', '__eq__', '__format__', '__ge__', '__getattribute__', '__getitem__', '__gt__', '__hash__', '__init__', '__init_subclass__', '__iter__', '__le__', '__len__', '__lt__', '__ne__', '__new__', '__reduce__', '__reduce_ex__', '__repr__', '__reversed__', '__setattr__', '__setitem__', '__sizeof__', '__str__', '__subclasshook__', 'clear', 'copy', 'fromkeys', 'get', 'items', 'keys', 'pop', 'popitem', 'setdefault', 'update', 'values']\n"
     ]
    }
   ],
   "source": [
    "print(dir(info))"
   ]
  },
  {
   "cell_type": "code",
   "execution_count": 385,
   "id": "dffd8774",
   "metadata": {},
   "outputs": [
    {
     "name": "stdout",
     "output_type": "stream",
     "text": [
      "{'name': 'Raghul Ramesh', 'exp': 20, 'city': 'hyderabad', 'manager': 'Levin Lenus', 'project': 'marketing analytics', 'BU': 'LND', 'salary': 100000}\n"
     ]
    }
   ],
   "source": [
    "# keys(), values() , items()\n",
    "\n",
    "print(info)"
   ]
  },
  {
   "cell_type": "code",
   "execution_count": 386,
   "id": "8754c934",
   "metadata": {},
   "outputs": [
    {
     "data": {
      "text/plain": [
       "dict_keys(['name', 'exp', 'city', 'manager', 'project', 'BU', 'salary'])"
      ]
     },
     "execution_count": 386,
     "metadata": {},
     "output_type": "execute_result"
    }
   ],
   "source": [
    "info.keys()"
   ]
  },
  {
   "cell_type": "code",
   "execution_count": 387,
   "id": "ed372c27",
   "metadata": {},
   "outputs": [
    {
     "data": {
      "text/plain": [
       "dict_values(['Raghul Ramesh', 20, 'hyderabad', 'Levin Lenus', 'marketing analytics', 'LND', 100000])"
      ]
     },
     "execution_count": 387,
     "metadata": {},
     "output_type": "execute_result"
    }
   ],
   "source": [
    "info.values()"
   ]
  },
  {
   "cell_type": "code",
   "execution_count": 388,
   "id": "838b424c",
   "metadata": {},
   "outputs": [
    {
     "data": {
      "text/plain": [
       "dict_items([('name', 'Raghul Ramesh'), ('exp', 20), ('city', 'hyderabad'), ('manager', 'Levin Lenus'), ('project', 'marketing analytics'), ('BU', 'LND'), ('salary', 100000)])"
      ]
     },
     "execution_count": 388,
     "metadata": {},
     "output_type": "execute_result"
    }
   ],
   "source": [
    "info.items()"
   ]
  },
  {
   "cell_type": "code",
   "execution_count": 392,
   "id": "f7fdc6b1",
   "metadata": {},
   "outputs": [
    {
     "name": "stdout",
     "output_type": "stream",
     "text": [
      "name ====> Raghul Ramesh\n",
      "exp ====> 20\n",
      "city ====> hyderabad\n",
      "manager ====> Levin Lenus\n",
      "project ====> marketing analytics\n",
      "BU ====> LND\n",
      "salary ====> 100000\n"
     ]
    }
   ],
   "source": [
    "for k in info.keys():\n",
    "    print(k + \" ====> \" + str(info[k]))"
   ]
  },
  {
   "cell_type": "code",
   "execution_count": 393,
   "id": "bd6ad0de",
   "metadata": {},
   "outputs": [
    {
     "name": "stdout",
     "output_type": "stream",
     "text": [
      "name ====> Raghul Ramesh\n",
      "exp ====> 20\n",
      "city ====> hyderabad\n",
      "manager ====> Levin Lenus\n",
      "project ====> marketing analytics\n",
      "BU ====> LND\n",
      "salary ====> 100000\n"
     ]
    }
   ],
   "source": [
    "for k,v in info.items():\n",
    "    print(k + \" ====> \" + str(v))"
   ]
  },
  {
   "cell_type": "code",
   "execution_count": 394,
   "id": "10692233",
   "metadata": {},
   "outputs": [],
   "source": [
    "# pop , popitem"
   ]
  },
  {
   "cell_type": "code",
   "execution_count": 395,
   "id": "d6a52e25",
   "metadata": {},
   "outputs": [
    {
     "data": {
      "text/plain": [
       "100000"
      ]
     },
     "execution_count": 395,
     "metadata": {},
     "output_type": "execute_result"
    }
   ],
   "source": [
    "info.pop('salary')"
   ]
  },
  {
   "cell_type": "code",
   "execution_count": 396,
   "id": "92818e0e",
   "metadata": {},
   "outputs": [
    {
     "data": {
      "text/plain": [
       "{'name': 'Raghul Ramesh',\n",
       " 'exp': 20,\n",
       " 'city': 'hyderabad',\n",
       " 'manager': 'Levin Lenus',\n",
       " 'project': 'marketing analytics',\n",
       " 'BU': 'LND'}"
      ]
     },
     "execution_count": 396,
     "metadata": {},
     "output_type": "execute_result"
    }
   ],
   "source": [
    "info"
   ]
  },
  {
   "cell_type": "code",
   "execution_count": 397,
   "id": "669751cf",
   "metadata": {},
   "outputs": [
    {
     "data": {
      "text/plain": [
       "20"
      ]
     },
     "execution_count": 397,
     "metadata": {},
     "output_type": "execute_result"
    }
   ],
   "source": [
    "info.pop('exp')"
   ]
  },
  {
   "cell_type": "code",
   "execution_count": 398,
   "id": "52714f19",
   "metadata": {},
   "outputs": [
    {
     "data": {
      "text/plain": [
       "{'name': 'Raghul Ramesh',\n",
       " 'city': 'hyderabad',\n",
       " 'manager': 'Levin Lenus',\n",
       " 'project': 'marketing analytics',\n",
       " 'BU': 'LND'}"
      ]
     },
     "execution_count": 398,
     "metadata": {},
     "output_type": "execute_result"
    }
   ],
   "source": [
    "info"
   ]
  },
  {
   "cell_type": "code",
   "execution_count": 399,
   "id": "f7b5d20a",
   "metadata": {},
   "outputs": [
    {
     "data": {
      "text/plain": [
       "('BU', 'LND')"
      ]
     },
     "execution_count": 399,
     "metadata": {},
     "output_type": "execute_result"
    }
   ],
   "source": [
    "info.popitem()"
   ]
  },
  {
   "cell_type": "code",
   "execution_count": 400,
   "id": "b21c1f03",
   "metadata": {},
   "outputs": [
    {
     "data": {
      "text/plain": [
       "{'name': 'Raghul Ramesh',\n",
       " 'city': 'hyderabad',\n",
       " 'manager': 'Levin Lenus',\n",
       " 'project': 'marketing analytics'}"
      ]
     },
     "execution_count": 400,
     "metadata": {},
     "output_type": "execute_result"
    }
   ],
   "source": [
    "info"
   ]
  },
  {
   "cell_type": "code",
   "execution_count": 401,
   "id": "168aaeb2",
   "metadata": {},
   "outputs": [
    {
     "data": {
      "text/plain": [
       "('project', 'marketing analytics')"
      ]
     },
     "execution_count": 401,
     "metadata": {},
     "output_type": "execute_result"
    }
   ],
   "source": [
    "info.popitem()"
   ]
  },
  {
   "cell_type": "code",
   "execution_count": 402,
   "id": "3cb45e0c",
   "metadata": {},
   "outputs": [
    {
     "data": {
      "text/plain": [
       "{'name': 'Raghul Ramesh', 'city': 'hyderabad', 'manager': 'Levin Lenus'}"
      ]
     },
     "execution_count": 402,
     "metadata": {},
     "output_type": "execute_result"
    }
   ],
   "source": [
    "info"
   ]
  },
  {
   "cell_type": "code",
   "execution_count": 403,
   "id": "acb106f5",
   "metadata": {},
   "outputs": [],
   "source": [
    "# fromkeys"
   ]
  },
  {
   "cell_type": "code",
   "execution_count": 404,
   "id": "e8c5b033",
   "metadata": {},
   "outputs": [],
   "source": [
    "data=['fname','lname','location','gender','mobile','email']"
   ]
  },
  {
   "cell_type": "code",
   "execution_count": 409,
   "id": "bb03f1e1",
   "metadata": {},
   "outputs": [],
   "source": [
    "emp_dict=dict.fromkeys(data,'TBD')"
   ]
  },
  {
   "cell_type": "code",
   "execution_count": 410,
   "id": "a4dcf663",
   "metadata": {},
   "outputs": [
    {
     "data": {
      "text/plain": [
       "{'fname': 'TBD',\n",
       " 'lname': 'TBD',\n",
       " 'location': 'TBD',\n",
       " 'gender': 'TBD',\n",
       " 'mobile': 'TBD',\n",
       " 'email': 'TBD'}"
      ]
     },
     "execution_count": 410,
     "metadata": {},
     "output_type": "execute_result"
    }
   ],
   "source": [
    "emp_dict"
   ]
  },
  {
   "cell_type": "code",
   "execution_count": 413,
   "id": "2f2a7934",
   "metadata": {},
   "outputs": [],
   "source": [
    "emp_dict.clear()"
   ]
  },
  {
   "cell_type": "code",
   "execution_count": 414,
   "id": "a3505e4b",
   "metadata": {},
   "outputs": [
    {
     "data": {
      "text/plain": [
       "{}"
      ]
     },
     "execution_count": 414,
     "metadata": {},
     "output_type": "execute_result"
    }
   ],
   "source": [
    "emp_dict"
   ]
  },
  {
   "cell_type": "markdown",
   "id": "e52c9069",
   "metadata": {},
   "source": [
    "# SET"
   ]
  },
  {
   "cell_type": "code",
   "execution_count": null,
   "id": "a6a1ba74",
   "metadata": {},
   "outputs": [],
   "source": [
    "-- set will not store the duplicate values\n",
    "-- set will store the value in ascending order"
   ]
  },
  {
   "cell_type": "code",
   "execution_count": 415,
   "id": "11031e61",
   "metadata": {},
   "outputs": [],
   "source": [
    "nums={4,2,5,7,8,4,3,2,4,5,7,8,5,43,2,4,5,67,8,5,3,2,4,6,78,65}"
   ]
  },
  {
   "cell_type": "code",
   "execution_count": 416,
   "id": "73fb7855",
   "metadata": {},
   "outputs": [
    {
     "data": {
      "text/plain": [
       "{2, 3, 4, 5, 6, 7, 8, 43, 65, 67, 78}"
      ]
     },
     "execution_count": 416,
     "metadata": {},
     "output_type": "execute_result"
    }
   ],
   "source": [
    "nums"
   ]
  },
  {
   "cell_type": "code",
   "execution_count": 417,
   "id": "2a497e69",
   "metadata": {},
   "outputs": [],
   "source": [
    "odds={1,3,5,7,9}\n",
    "even={2,4,6,8,10}\n",
    "prime={1,2,3,5,7}\n",
    "composite={2,4,5,6,8,9}"
   ]
  },
  {
   "cell_type": "code",
   "execution_count": 418,
   "id": "8201d536",
   "metadata": {},
   "outputs": [
    {
     "data": {
      "text/plain": [
       "{1, 2, 3, 4, 5, 6, 7, 8, 9, 10}"
      ]
     },
     "execution_count": 418,
     "metadata": {},
     "output_type": "execute_result"
    }
   ],
   "source": [
    "odds.union(even)"
   ]
  },
  {
   "cell_type": "code",
   "execution_count": 419,
   "id": "25efc48f",
   "metadata": {},
   "outputs": [
    {
     "data": {
      "text/plain": [
       "{1, 2, 3, 4, 5, 6, 7, 8, 9, 10}"
      ]
     },
     "execution_count": 419,
     "metadata": {},
     "output_type": "execute_result"
    }
   ],
   "source": [
    "even.union(odds)"
   ]
  },
  {
   "cell_type": "code",
   "execution_count": 420,
   "id": "006e1801",
   "metadata": {},
   "outputs": [
    {
     "data": {
      "text/plain": [
       "{1, 3, 5, 7}"
      ]
     },
     "execution_count": 420,
     "metadata": {},
     "output_type": "execute_result"
    }
   ],
   "source": [
    "odds.intersection(prime)"
   ]
  },
  {
   "cell_type": "code",
   "execution_count": 421,
   "id": "506b8756",
   "metadata": {},
   "outputs": [
    {
     "data": {
      "text/plain": [
       "{9}"
      ]
     },
     "execution_count": 421,
     "metadata": {},
     "output_type": "execute_result"
    }
   ],
   "source": [
    "odds.difference(prime)"
   ]
  },
  {
   "cell_type": "code",
   "execution_count": 422,
   "id": "fb027efa",
   "metadata": {},
   "outputs": [
    {
     "data": {
      "text/plain": [
       "{2}"
      ]
     },
     "execution_count": 422,
     "metadata": {},
     "output_type": "execute_result"
    }
   ],
   "source": [
    "prime.difference(odds)"
   ]
  },
  {
   "cell_type": "code",
   "execution_count": 423,
   "id": "c01a4dfa",
   "metadata": {},
   "outputs": [],
   "source": [
    "set1={1,2,3,4,5}"
   ]
  },
  {
   "cell_type": "code",
   "execution_count": 424,
   "id": "29602ad4",
   "metadata": {},
   "outputs": [],
   "source": [
    "set1.add(6)"
   ]
  },
  {
   "cell_type": "code",
   "execution_count": 425,
   "id": "1c124843",
   "metadata": {},
   "outputs": [
    {
     "data": {
      "text/plain": [
       "{1, 2, 3, 4, 5, 6}"
      ]
     },
     "execution_count": 425,
     "metadata": {},
     "output_type": "execute_result"
    }
   ],
   "source": [
    "set1"
   ]
  },
  {
   "cell_type": "code",
   "execution_count": 426,
   "id": "b355f0b3",
   "metadata": {},
   "outputs": [],
   "source": [
    "set1.add(5)"
   ]
  },
  {
   "cell_type": "code",
   "execution_count": 427,
   "id": "c9ab990d",
   "metadata": {},
   "outputs": [
    {
     "data": {
      "text/plain": [
       "{1, 2, 3, 4, 5, 6}"
      ]
     },
     "execution_count": 427,
     "metadata": {},
     "output_type": "execute_result"
    }
   ],
   "source": [
    "set1"
   ]
  },
  {
   "cell_type": "code",
   "execution_count": null,
   "id": "1e084f31",
   "metadata": {},
   "outputs": [],
   "source": []
  }
 ],
 "metadata": {
  "kernelspec": {
   "display_name": "Python 3 (ipykernel)",
   "language": "python",
   "name": "python3"
  },
  "language_info": {
   "codemirror_mode": {
    "name": "ipython",
    "version": 3
   },
   "file_extension": ".py",
   "mimetype": "text/x-python",
   "name": "python",
   "nbconvert_exporter": "python",
   "pygments_lexer": "ipython3",
   "version": "3.8.10"
  }
 },
 "nbformat": 4,
 "nbformat_minor": 5
}
