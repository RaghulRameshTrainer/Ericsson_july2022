{
 "cells": [
  {
   "cell_type": "markdown",
   "id": "180de33f",
   "metadata": {},
   "source": [
    "# DEFINITIOS "
   ]
  },
  {
   "cell_type": "code",
   "execution_count": null,
   "id": "eb2a9c92",
   "metadata": {},
   "outputs": [],
   "source": [
    "# def function_name(arguments):\n",
    "#     statements"
   ]
  },
  {
   "cell_type": "code",
   "execution_count": 1,
   "id": "382bedbc",
   "metadata": {},
   "outputs": [],
   "source": [
    "def add_nums(x,y):\n",
    "    return x+y"
   ]
  },
  {
   "cell_type": "code",
   "execution_count": 2,
   "id": "60287633",
   "metadata": {},
   "outputs": [
    {
     "data": {
      "text/plain": [
       "30"
      ]
     },
     "execution_count": 2,
     "metadata": {},
     "output_type": "execute_result"
    }
   ],
   "source": [
    "add_nums(10,20)"
   ]
  },
  {
   "cell_type": "code",
   "execution_count": 3,
   "id": "e88ccd9d",
   "metadata": {},
   "outputs": [
    {
     "ename": "TypeError",
     "evalue": "add_nums() missing 1 required positional argument: 'y'",
     "output_type": "error",
     "traceback": [
      "\u001b[1;31m---------------------------------------------------------------------------\u001b[0m",
      "\u001b[1;31mTypeError\u001b[0m                                 Traceback (most recent call last)",
      "Input \u001b[1;32mIn [3]\u001b[0m, in \u001b[0;36m<cell line: 1>\u001b[1;34m()\u001b[0m\n\u001b[1;32m----> 1\u001b[0m \u001b[43madd_nums\u001b[49m\u001b[43m(\u001b[49m\u001b[38;5;241;43m10\u001b[39;49m\u001b[43m)\u001b[49m\n",
      "\u001b[1;31mTypeError\u001b[0m: add_nums() missing 1 required positional argument: 'y'"
     ]
    }
   ],
   "source": [
    "add_nums(10)"
   ]
  },
  {
   "cell_type": "code",
   "execution_count": 12,
   "id": "f08ea991",
   "metadata": {},
   "outputs": [],
   "source": [
    "def add_nums(x,y=0):\n",
    "    return x+y"
   ]
  },
  {
   "cell_type": "code",
   "execution_count": 5,
   "id": "43c77eb3",
   "metadata": {},
   "outputs": [
    {
     "data": {
      "text/plain": [
       "10"
      ]
     },
     "execution_count": 5,
     "metadata": {},
     "output_type": "execute_result"
    }
   ],
   "source": [
    "add_nums(10)"
   ]
  },
  {
   "cell_type": "code",
   "execution_count": 6,
   "id": "7201d6c3",
   "metadata": {},
   "outputs": [
    {
     "data": {
      "text/plain": [
       "30"
      ]
     },
     "execution_count": 6,
     "metadata": {},
     "output_type": "execute_result"
    }
   ],
   "source": [
    "add_nums(10,20)"
   ]
  },
  {
   "cell_type": "code",
   "execution_count": 7,
   "id": "56d3437a",
   "metadata": {},
   "outputs": [],
   "source": [
    "def add_nums(x=0,y=0):\n",
    "    return x+y"
   ]
  },
  {
   "cell_type": "code",
   "execution_count": 8,
   "id": "8f1b4e77",
   "metadata": {},
   "outputs": [
    {
     "data": {
      "text/plain": [
       "0"
      ]
     },
     "execution_count": 8,
     "metadata": {},
     "output_type": "execute_result"
    }
   ],
   "source": [
    "add_nums()"
   ]
  },
  {
   "cell_type": "code",
   "execution_count": 9,
   "id": "df3f5376",
   "metadata": {},
   "outputs": [
    {
     "data": {
      "text/plain": [
       "100"
      ]
     },
     "execution_count": 9,
     "metadata": {},
     "output_type": "execute_result"
    }
   ],
   "source": [
    "add_nums(100)"
   ]
  },
  {
   "cell_type": "code",
   "execution_count": 10,
   "id": "83925d01",
   "metadata": {},
   "outputs": [
    {
     "data": {
      "text/plain": [
       "300"
      ]
     },
     "execution_count": 10,
     "metadata": {},
     "output_type": "execute_result"
    }
   ],
   "source": [
    "add_nums(100,200)"
   ]
  },
  {
   "cell_type": "code",
   "execution_count": 16,
   "id": "ac8861b9",
   "metadata": {},
   "outputs": [],
   "source": [
    "def add_nums(x,y,*z):\n",
    "    print(\"x is \", x)\n",
    "    print(\"y is \", y)\n",
    "    print(\"z is \", z)\n",
    "    return x+y+sum(z)"
   ]
  },
  {
   "cell_type": "code",
   "execution_count": 17,
   "id": "76a520a7",
   "metadata": {},
   "outputs": [
    {
     "name": "stdout",
     "output_type": "stream",
     "text": [
      "x is  10\n",
      "y is  20\n",
      "z is  ()\n"
     ]
    },
    {
     "data": {
      "text/plain": [
       "30"
      ]
     },
     "execution_count": 17,
     "metadata": {},
     "output_type": "execute_result"
    }
   ],
   "source": [
    "add_nums(10,20)"
   ]
  },
  {
   "cell_type": "code",
   "execution_count": 18,
   "id": "dc0fd9bd",
   "metadata": {},
   "outputs": [
    {
     "name": "stdout",
     "output_type": "stream",
     "text": [
      "x is  10\n",
      "y is  20\n",
      "z is  (30,)\n"
     ]
    },
    {
     "data": {
      "text/plain": [
       "60"
      ]
     },
     "execution_count": 18,
     "metadata": {},
     "output_type": "execute_result"
    }
   ],
   "source": [
    "add_nums(10,20,30)"
   ]
  },
  {
   "cell_type": "code",
   "execution_count": 19,
   "id": "420e292b",
   "metadata": {},
   "outputs": [
    {
     "name": "stdout",
     "output_type": "stream",
     "text": [
      "x is  10\n",
      "y is  20\n",
      "z is  (30, 40, 50)\n"
     ]
    },
    {
     "data": {
      "text/plain": [
       "150"
      ]
     },
     "execution_count": 19,
     "metadata": {},
     "output_type": "execute_result"
    }
   ],
   "source": [
    "add_nums(10,20,30,40,50)"
   ]
  },
  {
   "cell_type": "code",
   "execution_count": 20,
   "id": "1ad466aa",
   "metadata": {},
   "outputs": [
    {
     "name": "stdout",
     "output_type": "stream",
     "text": [
      "x is  10\n",
      "y is  20\n",
      "z is  (30, 40, 50, 1, 2, 3, 4, 4, 6, 7, 8, 100, 876, 653, 6533, 62, 24, 245, 4434311)\n"
     ]
    },
    {
     "data": {
      "text/plain": [
       "4442989"
      ]
     },
     "execution_count": 20,
     "metadata": {},
     "output_type": "execute_result"
    }
   ],
   "source": [
    "add_nums(10,20,30,40,50,1,2,3,4,4,6,7,8,100,876,653,6533,62,24,245,4434311)"
   ]
  },
  {
   "cell_type": "code",
   "execution_count": 21,
   "id": "99a5cfc3",
   "metadata": {},
   "outputs": [],
   "source": [
    "def add_nums(*x):\n",
    "    return sum(x)"
   ]
  },
  {
   "cell_type": "code",
   "execution_count": 22,
   "id": "7c4ae938",
   "metadata": {},
   "outputs": [
    {
     "data": {
      "text/plain": [
       "4442989"
      ]
     },
     "execution_count": 22,
     "metadata": {},
     "output_type": "execute_result"
    }
   ],
   "source": [
    "add_nums(10,20,30,40,50,1,2,3,4,4,6,7,8,100,876,653,6533,62,24,245,4434311)"
   ]
  },
  {
   "cell_type": "code",
   "execution_count": 23,
   "id": "04f69c86",
   "metadata": {},
   "outputs": [
    {
     "data": {
      "text/plain": [
       "150"
      ]
     },
     "execution_count": 23,
     "metadata": {},
     "output_type": "execute_result"
    }
   ],
   "source": [
    "add_nums(10,20,30,40,50)"
   ]
  },
  {
   "cell_type": "code",
   "execution_count": 33,
   "id": "cabe1940",
   "metadata": {},
   "outputs": [],
   "source": [
    "def add_nums(x,y,*z,**k):\n",
    "    print(\"Dictionary :\", k)\n",
    "    for key in k.keys():\n",
    "        print(str(key).title()+\" ===> \"+ str(k[key]).upper())\n",
    "    return x+y+sum(z)\n",
    "    "
   ]
  },
  {
   "cell_type": "code",
   "execution_count": 34,
   "id": "946c2a43",
   "metadata": {},
   "outputs": [
    {
     "name": "stdout",
     "output_type": "stream",
     "text": [
      "Dictionary : {'name': 'Raghul', 'city': 'Chennai', 'contact': 9874938649}\n",
      "Name ===> RAGHUL\n",
      "City ===> CHENNAI\n",
      "Contact ===> 9874938649\n"
     ]
    },
    {
     "data": {
      "text/plain": [
       "150"
      ]
     },
     "execution_count": 34,
     "metadata": {},
     "output_type": "execute_result"
    }
   ],
   "source": [
    "add_nums(10,20,30,40,50,name=\"Raghul\",city=\"Chennai\",contact=9874938649)"
   ]
  },
  {
   "cell_type": "code",
   "execution_count": 35,
   "id": "efa8a476",
   "metadata": {},
   "outputs": [],
   "source": [
    "def add_nums(x,y):\n",
    "    \"\"\"The function: add_nums() must be called with two numbers to get the sum of them\"\"\"\n",
    "    return x+y"
   ]
  },
  {
   "cell_type": "code",
   "execution_count": 36,
   "id": "8f1f873e",
   "metadata": {},
   "outputs": [
    {
     "data": {
      "text/plain": [
       "30"
      ]
     },
     "execution_count": 36,
     "metadata": {},
     "output_type": "execute_result"
    }
   ],
   "source": [
    "add_nums(10,20)"
   ]
  },
  {
   "cell_type": "code",
   "execution_count": 37,
   "id": "73cbf592",
   "metadata": {},
   "outputs": [
    {
     "data": {
      "text/plain": [
       "'The function: add_nums() must be called with two numbers to get the sum of them'"
      ]
     },
     "execution_count": 37,
     "metadata": {},
     "output_type": "execute_result"
    }
   ],
   "source": [
    "add_nums.__doc__"
   ]
  },
  {
   "cell_type": "markdown",
   "id": "341c0dfd",
   "metadata": {},
   "source": [
    "## Variable Scope"
   ]
  },
  {
   "cell_type": "code",
   "execution_count": 40,
   "id": "bec9328e",
   "metadata": {},
   "outputs": [
    {
     "name": "stdout",
     "output_type": "stream",
     "text": [
      "Within a function. Age: 38\n",
      "Within a function. name: Vijay\n",
      "Out of a function. Age: 38\n",
      "out of a function. name: Vijay\n"
     ]
    }
   ],
   "source": [
    "# Global and Local scope\n",
    "\n",
    "age=38   #global \n",
    "name=\"Vijay\"\n",
    "\n",
    "def myfunc():\n",
    "    #name=\"Raghul Ramesh\"        #local\n",
    "    print(\"Within a function. Age:\", age)\n",
    "    print(\"Within a function. name:\", name)\n",
    "    \n",
    "myfunc()\n",
    "print(\"Out of a function. Age:\", age)\n",
    "print(\"out of a function. name:\", name)"
   ]
  },
  {
   "cell_type": "code",
   "execution_count": 45,
   "id": "74c52c41",
   "metadata": {},
   "outputs": [
    {
     "name": "stdout",
     "output_type": "stream",
     "text": [
      "age before the funcion call: 40\n",
      "age inside a function: 39\n",
      "age after the function call: 39\n"
     ]
    }
   ],
   "source": [
    "# Global and Local scope\n",
    "\n",
    "age=40   #global \n",
    "\n",
    "def myfunc():\n",
    "    global age\n",
    "    age=39            #local\n",
    "    print(\"age inside a function:\", age)\n",
    "    \n",
    "print(\"age before the funcion call:\", age)   #40   --1\n",
    "myfunc()                                     #39   --2\n",
    "print(\"age after the function call:\", age)   #39   --3"
   ]
  },
  {
   "cell_type": "code",
   "execution_count": null,
   "id": "5b85470f",
   "metadata": {},
   "outputs": [],
   "source": []
  },
  {
   "cell_type": "code",
   "execution_count": null,
   "id": "999ef06f",
   "metadata": {},
   "outputs": [],
   "source": []
  }
 ],
 "metadata": {
  "kernelspec": {
   "display_name": "Python 3 (ipykernel)",
   "language": "python",
   "name": "python3"
  },
  "language_info": {
   "codemirror_mode": {
    "name": "ipython",
    "version": 3
   },
   "file_extension": ".py",
   "mimetype": "text/x-python",
   "name": "python",
   "nbconvert_exporter": "python",
   "pygments_lexer": "ipython3",
   "version": "3.8.10"
  }
 },
 "nbformat": 4,
 "nbformat_minor": 5
}
